{
 "cells": [
  {
   "cell_type": "markdown",
   "id": "1123fe11-ac37-4070-9559-202a36d910e4",
   "metadata": {},
   "source": [
    "<img src=\"./images/DLI_Header.png\" style=\"width: 400px;\">"
   ]
  },
  {
   "cell_type": "markdown",
   "id": "f34d208e-ff07-44f6-b628-b82315c10ba4",
   "metadata": {},
   "source": [
    "# Assessment\n",
    "\n",
    "## Overview\n",
    "\n",
    "The goal of this assessment is to evaluate your ability to build and execute large models. Please demonstrate that ability by porting an existing piece of code into DeepSpeed and creating a series of configuration files to enable a range of DeepSpeed functions including: activation checkpointing, mixed precision training as well as ZeRo redundancy optimizer. \n",
    "\n",
    "To make the task containable, we have deliberately selected a simplified codebase, namely minGPT (https://github.com/karpathy/minGPT). This is a minimalistic implementation of Transformers that will not provide maximum performance, but which is representative and should allow you to complete this coding exercise in a relatively short period of time.\n",
    "\n",
    "In this task, we will look at yet another family of models, namely, Vision Transformers. Before diving into the assignment, please review the [code example](minGPT/minGPT/play_image.ipynb) that we will be using in this assessment. Feel free to execute the above code example but do bear in mind that training to convergence will take a considerable amount of time, so it  might help to finish it early and focus on the code migration discussed below."
   ]
  },
  {
   "cell_type": "markdown",
   "id": "95a9d34b-dead-4d67-aee5-2a1c614f8fe6",
   "metadata": {},
   "source": [
    "## Introduction\n",
    "\n",
    "Conceptually, our goal will be to:\n",
    "- Migrate a standalone pytorch implementation of the training pipeline into DeepSpeed and train effectively on our \"two server\" cluster\n",
    "- Enable functionality that will allow for memory saving, namely: Mixed Precision Training, Activation Checkpointing and ZeRo Redundancy optimiser\n",
    "- Increase the size of the model being trained\n",
    "\n",
    "The below notebook will be a guide through the process and provide test code which will help determine whether you are on the right path to the correct solution. By the end of the assessment, when the code is complete, you will be asked to go back to the lab platform and press the `assess` button. This will trigger an automated process which will load your code files as well as the deepspeed configuration files and execute them, assessing correctness of the implementation. Please leave enough time to execute this step as it can take several minutes to compleate. If you are running out of time, please download the files you have modified so that they can be finished later."
   ]
  },
  {
   "cell_type": "markdown",
   "id": "9b959719-1fef-4a5a-8454-5babc9c6aa90",
   "metadata": {},
   "source": [
    "## Step 1: Baseline implementation\n",
    "\n",
    "Let us begin by looking at the starting point of our assessment, namely [runStartingPoint.py](./minGPT/minGPT/runStartingPoint.py). This is the same code that was reviewed earlier, just extracted into a python file to allow us for its batch execution. Let us test it to make sure it works in a standalone mode. Once again, training to convergence will take a substantial amount of time, so once you see training progress feel free to stop the training process and move to the next step."
   ]
  },
  {
   "cell_type": "code",
   "execution_count": null,
   "id": "acf98ec2-b1b8-4a6c-b2de-8410ea4562cf",
   "metadata": {
    "scrolled": true,
    "tags": []
   },
   "outputs": [
    {
     "name": "stdout",
     "output_type": "stream",
     "text": [
      "Files already downloaded and verified\n",
      "Files already downloaded and verified\n",
      "50000 10000\n",
      "done step 1/8, re-initialized 4 dead clusters\n",
      "done step 2/8, re-initialized 0 dead clusters\n",
      "done step 3/8, re-initialized 0 dead clusters\n",
      "done step 4/8, re-initialized 0 dead clusters\n",
      "done step 5/8, re-initialized 0 dead clusters\n",
      "done step 6/8, re-initialized 0 dead clusters\n",
      "done step 7/8, re-initialized 0 dead clusters\n",
      "done step 8/8, re-initialized 0 dead clusters\n",
      "03/24/2023 03:27:46 - INFO - mingpt.model -   number of parameters: 1.000166e+07\n",
      "  0%|                                                 | 0/50000 [00:00<?, ?it/s]tensor(6.2708, device='cuda:0', grad_fn=<NllLossBackward0>)\n",
      "/opt/conda/lib/python3.8/site-packages/torch/nn/parallel/_functions.py:68: UserWarning: Was asked to gather along dimension 0, but all input tensors were scalars; will instead unsqueeze and return a vector.\n",
      "  warnings.warn('Was asked to gather along dimension 0, but all '\n",
      "epoch 1 iter 0: train loss 6.27078. lr 6.000000e-08:   0%| | 1/50000 [00:01<13:5tensor(6.2835, device='cuda:0', grad_fn=<NllLossBackward0>)\n",
      "epoch 1 iter 1: train loss 6.28345. lr 1.200000e-07:   0%| | 1/50000 [00:01<13:5tensor(6.2551, device='cuda:0', grad_fn=<NllLossBackward0>)\n",
      "epoch 1 iter 2: train loss 6.25515. lr 1.800000e-07:   0%| | 3/50000 [00:01<4:08tensor(6.3136, device='cuda:0', grad_fn=<NllLossBackward0>)\n",
      "epoch 1 iter 3: train loss 6.31356. lr 2.400000e-07:   0%| | 3/50000 [00:01<4:08tensor(6.2630, device='cuda:0', grad_fn=<NllLossBackward0>)\n",
      "epoch 1 iter 4: train loss 6.26305. lr 3.000000e-07:   0%| | 3/50000 [00:01<4:08tensor(6.2065, device='cuda:0', grad_fn=<NllLossBackward0>)\n",
      "epoch 1 iter 5: train loss 6.20646. lr 3.600000e-07:   0%| | 6/50000 [00:01<2:00tensor(6.2569, device='cuda:0', grad_fn=<NllLossBackward0>)\n",
      "epoch 1 iter 6: train loss 6.25687. lr 4.200000e-07:   0%| | 6/50000 [00:01<2:00tensor(6.0726, device='cuda:0', grad_fn=<NllLossBackward0>)\n",
      "epoch 1 iter 7: train loss 6.07264. lr 4.800000e-07:   0%| | 6/50000 [00:01<2:00tensor(6.2951, device='cuda:0', grad_fn=<NllLossBackward0>)\n",
      "epoch 1 iter 8: train loss 6.29507. lr 5.400000e-07:   0%| | 9/50000 [00:01<1:22tensor(6.2436, device='cuda:0', grad_fn=<NllLossBackward0>)\n",
      "epoch 1 iter 9: train loss 6.24358. lr 6.000000e-07:   0%| | 9/50000 [00:01<1:22tensor(6.2870, device='cuda:0', grad_fn=<NllLossBackward0>)\n",
      "epoch 1 iter 10: train loss 6.28701. lr 6.600000e-07:   0%| | 9/50000 [00:01<1:2tensor(6.2215, device='cuda:0', grad_fn=<NllLossBackward0>)\n",
      "epoch 1 iter 11: train loss 6.22151. lr 7.200000e-07:   0%| | 12/50000 [00:01<1:tensor(6.2651, device='cuda:0', grad_fn=<NllLossBackward0>)\n",
      "epoch 1 iter 12: train loss 6.26508. lr 7.800000e-07:   0%| | 12/50000 [00:01<1:tensor(6.2570, device='cuda:0', grad_fn=<NllLossBackward0>)\n",
      "epoch 1 iter 13: train loss 6.25700. lr 8.400000e-07:   0%| | 12/50000 [00:01<1:tensor(6.2129, device='cuda:0', grad_fn=<NllLossBackward0>)\n",
      "epoch 1 iter 14: train loss 6.21295. lr 9.000000e-07:   0%| | 15/50000 [00:01<56tensor(6.2859, device='cuda:0', grad_fn=<NllLossBackward0>)\n",
      "epoch 1 iter 15: train loss 6.28588. lr 9.600000e-07:   0%| | 15/50000 [00:01<56tensor(6.2988, device='cuda:0', grad_fn=<NllLossBackward0>)\n",
      "epoch 1 iter 16: train loss 6.29879. lr 1.020000e-06:   0%| | 15/50000 [00:01<56tensor(6.1880, device='cuda:0', grad_fn=<NllLossBackward0>)\n",
      "epoch 1 iter 17: train loss 6.18800. lr 1.080000e-06:   0%| | 18/50000 [00:01<50tensor(6.3027, device='cuda:0', grad_fn=<NllLossBackward0>)\n",
      "epoch 1 iter 18: train loss 6.30274. lr 1.140000e-06:   0%| | 18/50000 [00:01<50tensor(6.2465, device='cuda:0', grad_fn=<NllLossBackward0>)\n",
      "epoch 1 iter 19: train loss 6.24648. lr 1.200000e-06:   0%| | 18/50000 [00:01<50tensor(6.2640, device='cuda:0', grad_fn=<NllLossBackward0>)\n",
      "epoch 1 iter 20: train loss 6.26399. lr 1.260000e-06:   0%| | 21/50000 [00:01<46tensor(6.2810, device='cuda:0', grad_fn=<NllLossBackward0>)\n",
      "epoch 1 iter 21: train loss 6.28098. lr 1.320000e-06:   0%| | 21/50000 [00:02<46tensor(6.3106, device='cuda:0', grad_fn=<NllLossBackward0>)\n",
      "epoch 1 iter 22: train loss 6.31064. lr 1.380000e-06:   0%| | 21/50000 [00:02<46tensor(6.2684, device='cuda:0', grad_fn=<NllLossBackward0>)\n",
      "epoch 1 iter 23: train loss 6.26841. lr 1.440000e-06:   0%| | 24/50000 [00:02<44tensor(6.2979, device='cuda:0', grad_fn=<NllLossBackward0>)\n",
      "epoch 1 iter 24: train loss 6.29787. lr 1.500000e-06:   0%| | 24/50000 [00:02<44tensor(6.2434, device='cuda:0', grad_fn=<NllLossBackward0>)\n",
      "epoch 1 iter 25: train loss 6.24344. lr 1.560000e-06:   0%| | 24/50000 [00:02<44tensor(6.2789, device='cuda:0', grad_fn=<NllLossBackward0>)\n",
      "epoch 1 iter 26: train loss 6.27895. lr 1.620000e-06:   0%| | 27/50000 [00:02<43tensor(6.3049, device='cuda:0', grad_fn=<NllLossBackward0>)\n",
      "epoch 1 iter 27: train loss 6.30487. lr 1.680000e-06:   0%| | 27/50000 [00:02<43tensor(6.3832, device='cuda:0', grad_fn=<NllLossBackward0>)\n",
      "epoch 1 iter 28: train loss 6.38321. lr 1.740000e-06:   0%| | 27/50000 [00:02<43tensor(6.2990, device='cuda:0', grad_fn=<NllLossBackward0>)\n",
      "epoch 1 iter 29: train loss 6.29897. lr 1.800000e-06:   0%| | 30/50000 [00:02<42tensor(6.2740, device='cuda:0', grad_fn=<NllLossBackward0>)\n",
      "epoch 1 iter 30: train loss 6.27401. lr 1.860000e-06:   0%| | 30/50000 [00:02<42tensor(6.2450, device='cuda:0', grad_fn=<NllLossBackward0>)\n",
      "epoch 1 iter 31: train loss 6.24498. lr 1.920000e-06:   0%| | 30/50000 [00:02<42tensor(6.2473, device='cuda:0', grad_fn=<NllLossBackward0>)\n",
      "epoch 1 iter 32: train loss 6.24735. lr 1.980000e-06:   0%| | 33/50000 [00:02<41tensor(6.2433, device='cuda:0', grad_fn=<NllLossBackward0>)\n",
      "epoch 1 iter 33: train loss 6.24327. lr 2.040000e-06:   0%| | 33/50000 [00:02<41tensor(6.2937, device='cuda:0', grad_fn=<NllLossBackward0>)\n",
      "epoch 1 iter 34: train loss 6.29368. lr 2.100000e-06:   0%| | 33/50000 [00:02<41tensor(6.2690, device='cuda:0', grad_fn=<NllLossBackward0>)\n",
      "epoch 1 iter 35: train loss 6.26902. lr 2.160000e-06:   0%| | 36/50000 [00:02<40tensor(6.3003, device='cuda:0', grad_fn=<NllLossBackward0>)\n",
      "epoch 1 iter 36: train loss 6.30026. lr 2.220000e-06:   0%| | 36/50000 [00:02<40tensor(6.2582, device='cuda:0', grad_fn=<NllLossBackward0>)\n",
      "epoch 1 iter 37: train loss 6.25817. lr 2.280000e-06:   0%| | 36/50000 [00:02<40tensor(6.2445, device='cuda:0', grad_fn=<NllLossBackward0>)\n",
      "epoch 1 iter 38: train loss 6.24451. lr 2.340000e-06:   0%| | 39/50000 [00:02<40tensor(6.2890, device='cuda:0', grad_fn=<NllLossBackward0>)\n",
      "epoch 1 iter 39: train loss 6.28897. lr 2.400000e-06:   0%| | 39/50000 [00:02<40tensor(6.2326, device='cuda:0', grad_fn=<NllLossBackward0>)\n",
      "epoch 1 iter 40: train loss 6.23259. lr 2.460000e-06:   0%| | 39/50000 [00:02<40tensor(6.2486, device='cuda:0', grad_fn=<NllLossBackward0>)\n",
      "epoch 1 iter 41: train loss 6.24858. lr 2.520000e-06:   0%| | 42/50000 [00:02<40tensor(6.3269, device='cuda:0', grad_fn=<NllLossBackward0>)\n",
      "epoch 1 iter 42: train loss 6.32694. lr 2.580000e-06:   0%| | 42/50000 [00:03<40tensor(6.1969, device='cuda:0', grad_fn=<NllLossBackward0>)\n",
      "epoch 1 iter 43: train loss 6.19693. lr 2.640000e-06:   0%| | 42/50000 [00:03<40tensor(6.2685, device='cuda:0', grad_fn=<NllLossBackward0>)\n",
      "epoch 1 iter 44: train loss 6.26845. lr 2.700000e-06:   0%| | 45/50000 [00:03<40tensor(6.2727, device='cuda:0', grad_fn=<NllLossBackward0>)\n",
      "epoch 1 iter 45: train loss 6.27273. lr 2.760000e-06:   0%| | 45/50000 [00:03<40tensor(6.2192, device='cuda:0', grad_fn=<NllLossBackward0>)\n",
      "epoch 1 iter 46: train loss 6.21925. lr 2.820000e-06:   0%| | 45/50000 [00:03<40tensor(6.2700, device='cuda:0', grad_fn=<NllLossBackward0>)\n",
      "epoch 1 iter 47: train loss 6.26995. lr 2.880000e-06:   0%| | 48/50000 [00:03<45tensor(6.2394, device='cuda:0', grad_fn=<NllLossBackward0>)\n",
      "epoch 1 iter 48: train loss 6.23938. lr 2.940000e-06:   0%| | 48/50000 [00:03<45tensor(6.2629, device='cuda:0', grad_fn=<NllLossBackward0>)\n",
      "epoch 1 iter 49: train loss 6.26288. lr 3.000000e-06:   0%| | 48/50000 [00:03<45tensor(6.2621, device='cuda:0', grad_fn=<NllLossBackward0>)\n",
      "epoch 1 iter 50: train loss 6.26208. lr 3.060000e-06:   0%| | 51/50000 [00:03<43tensor(6.2446, device='cuda:0', grad_fn=<NllLossBackward0>)\n",
      "epoch 1 iter 51: train loss 6.24459. lr 3.120000e-06:   0%| | 51/50000 [00:03<43tensor(6.3171, device='cuda:0', grad_fn=<NllLossBackward0>)\n",
      "epoch 1 iter 52: train loss 6.31710. lr 3.180000e-06:   0%| | 51/50000 [00:03<43tensor(6.2471, device='cuda:0', grad_fn=<NllLossBackward0>)\n",
      "epoch 1 iter 53: train loss 6.24707. lr 3.240000e-06:   0%| | 54/50000 [00:03<42tensor(6.3042, device='cuda:0', grad_fn=<NllLossBackward0>)\n",
      "epoch 1 iter 54: train loss 6.30424. lr 3.300000e-06:   0%| | 54/50000 [00:03<42tensor(6.2971, device='cuda:0', grad_fn=<NllLossBackward0>)\n",
      "epoch 1 iter 55: train loss 6.29710. lr 3.360000e-06:   0%| | 54/50000 [00:03<42tensor(6.2844, device='cuda:0', grad_fn=<NllLossBackward0>)\n",
      "epoch 1 iter 56: train loss 6.28437. lr 3.420000e-06:   0%| | 57/50000 [00:03<41tensor(6.2682, device='cuda:0', grad_fn=<NllLossBackward0>)\n",
      "epoch 1 iter 57: train loss 6.26818. lr 3.480000e-06:   0%| | 57/50000 [00:03<41tensor(6.2893, device='cuda:0', grad_fn=<NllLossBackward0>)\n",
      "epoch 1 iter 58: train loss 6.28929. lr 3.540000e-06:   0%| | 57/50000 [00:03<41tensor(6.2710, device='cuda:0', grad_fn=<NllLossBackward0>)\n",
      "epoch 1 iter 59: train loss 6.27097. lr 3.600000e-06:   0%| | 60/50000 [00:03<40tensor(6.2399, device='cuda:0', grad_fn=<NllLossBackward0>)\n",
      "epoch 1 iter 60: train loss 6.23991. lr 3.660000e-06:   0%| | 60/50000 [00:03<40tensor(6.2649, device='cuda:0', grad_fn=<NllLossBackward0>)\n",
      "epoch 1 iter 61: train loss 6.26491. lr 3.720000e-06:   0%| | 60/50000 [00:03<40tensor(6.1273, device='cuda:0', grad_fn=<NllLossBackward0>)\n",
      "epoch 1 iter 62: train loss 6.12731. lr 3.780000e-06:   0%| | 63/50000 [00:04<40tensor(6.2470, device='cuda:0', grad_fn=<NllLossBackward0>)\n",
      "epoch 1 iter 63: train loss 6.24701. lr 3.840000e-06:   0%| | 63/50000 [00:04<40tensor(6.2757, device='cuda:0', grad_fn=<NllLossBackward0>)\n",
      "epoch 1 iter 64: train loss 6.27572. lr 3.900000e-06:   0%| | 63/50000 [00:04<40tensor(6.3211, device='cuda:0', grad_fn=<NllLossBackward0>)\n",
      "epoch 1 iter 65: train loss 6.32114. lr 3.960000e-06:   0%| | 66/50000 [00:04<40tensor(6.2842, device='cuda:0', grad_fn=<NllLossBackward0>)\n",
      "epoch 1 iter 66: train loss 6.28420. lr 4.020000e-06:   0%| | 66/50000 [00:04<40tensor(6.3377, device='cuda:0', grad_fn=<NllLossBackward0>)\n",
      "epoch 1 iter 67: train loss 6.33773. lr 4.080000e-06:   0%| | 66/50000 [00:04<40tensor(6.2779, device='cuda:0', grad_fn=<NllLossBackward0>)\n",
      "epoch 1 iter 68: train loss 6.27792. lr 4.140000e-06:   0%| | 69/50000 [00:04<40tensor(6.2746, device='cuda:0', grad_fn=<NllLossBackward0>)\n",
      "epoch 1 iter 69: train loss 6.27462. lr 4.200000e-06:   0%| | 69/50000 [00:04<40tensor(6.2755, device='cuda:0', grad_fn=<NllLossBackward0>)\n",
      "epoch 1 iter 70: train loss 6.27554. lr 4.260000e-06:   0%| | 69/50000 [00:04<40tensor(6.2664, device='cuda:0', grad_fn=<NllLossBackward0>)\n",
      "epoch 1 iter 71: train loss 6.26637. lr 4.320000e-06:   0%| | 72/50000 [00:04<39tensor(6.2604, device='cuda:0', grad_fn=<NllLossBackward0>)\n",
      "epoch 1 iter 72: train loss 6.26035. lr 4.380000e-06:   0%| | 72/50000 [00:04<39tensor(6.2802, device='cuda:0', grad_fn=<NllLossBackward0>)\n",
      "epoch 1 iter 73: train loss 6.28018. lr 4.440000e-06:   0%| | 72/50000 [00:04<39tensor(6.2829, device='cuda:0', grad_fn=<NllLossBackward0>)\n",
      "epoch 1 iter 74: train loss 6.28286. lr 4.500000e-06:   0%| | 75/50000 [00:04<39tensor(6.2829, device='cuda:0', grad_fn=<NllLossBackward0>)\n",
      "epoch 1 iter 75: train loss 6.28292. lr 4.560000e-06:   0%| | 75/50000 [00:04<39tensor(6.2698, device='cuda:0', grad_fn=<NllLossBackward0>)\n",
      "epoch 1 iter 76: train loss 6.26978. lr 4.620000e-06:   0%| | 75/50000 [00:04<39tensor(6.2746, device='cuda:0', grad_fn=<NllLossBackward0>)\n",
      "epoch 1 iter 77: train loss 6.27456. lr 4.680000e-06:   0%| | 78/50000 [00:04<39tensor(6.2273, device='cuda:0', grad_fn=<NllLossBackward0>)\n",
      "epoch 1 iter 78: train loss 6.22727. lr 4.740000e-06:   0%| | 78/50000 [00:04<39tensor(6.2689, device='cuda:0', grad_fn=<NllLossBackward0>)\n",
      "epoch 1 iter 79: train loss 6.26887. lr 4.800000e-06:   0%| | 78/50000 [00:04<39tensor(6.2494, device='cuda:0', grad_fn=<NllLossBackward0>)\n",
      "epoch 1 iter 80: train loss 6.24941. lr 4.860000e-06:   0%| | 81/50000 [00:04<39tensor(6.2187, device='cuda:0', grad_fn=<NllLossBackward0>)\n",
      "epoch 1 iter 81: train loss 6.21868. lr 4.920000e-06:   0%| | 81/50000 [00:04<39tensor(6.2575, device='cuda:0', grad_fn=<NllLossBackward0>)\n",
      "epoch 1 iter 82: train loss 6.25754. lr 4.980000e-06:   0%| | 81/50000 [00:04<39tensor(6.2832, device='cuda:0', grad_fn=<NllLossBackward0>)\n",
      "epoch 1 iter 83: train loss 6.28318. lr 5.040000e-06:   0%| | 84/50000 [00:05<39tensor(6.2670, device='cuda:0', grad_fn=<NllLossBackward0>)\n",
      "epoch 1 iter 84: train loss 6.26701. lr 5.100000e-06:   0%| | 84/50000 [00:05<39tensor(6.2679, device='cuda:0', grad_fn=<NllLossBackward0>)\n",
      "epoch 1 iter 85: train loss 6.26786. lr 5.160000e-06:   0%| | 84/50000 [00:05<39tensor(6.2588, device='cuda:0', grad_fn=<NllLossBackward0>)\n",
      "epoch 1 iter 86: train loss 6.25884. lr 5.220000e-06:   0%| | 87/50000 [00:05<39tensor(6.2881, device='cuda:0', grad_fn=<NllLossBackward0>)\n",
      "epoch 1 iter 87: train loss 6.28810. lr 5.280000e-06:   0%| | 87/50000 [00:05<39tensor(6.2182, device='cuda:0', grad_fn=<NllLossBackward0>)\n",
      "epoch 1 iter 88: train loss 6.21815. lr 5.340000e-06:   0%| | 87/50000 [00:05<39tensor(6.2705, device='cuda:0', grad_fn=<NllLossBackward0>)\n",
      "epoch 1 iter 89: train loss 6.27047. lr 5.400000e-06:   0%| | 90/50000 [00:05<39tensor(6.2989, device='cuda:0', grad_fn=<NllLossBackward0>)\n",
      "epoch 1 iter 90: train loss 6.29888. lr 5.460000e-06:   0%| | 90/50000 [00:05<39tensor(6.2678, device='cuda:0', grad_fn=<NllLossBackward0>)\n",
      "epoch 1 iter 91: train loss 6.26775. lr 5.520000e-06:   0%| | 90/50000 [00:05<39tensor(6.2659, device='cuda:0', grad_fn=<NllLossBackward0>)\n",
      "epoch 1 iter 92: train loss 6.26592. lr 5.580000e-06:   0%| | 93/50000 [00:05<39tensor(6.2551, device='cuda:0', grad_fn=<NllLossBackward0>)\n",
      "epoch 1 iter 93: train loss 6.25514. lr 5.640000e-06:   0%| | 93/50000 [00:05<39tensor(6.2707, device='cuda:0', grad_fn=<NllLossBackward0>)\n",
      "epoch 1 iter 94: train loss 6.27073. lr 5.700000e-06:   0%| | 93/50000 [00:05<39tensor(6.2752, device='cuda:0', grad_fn=<NllLossBackward0>)\n",
      "epoch 1 iter 95: train loss 6.27518. lr 5.760000e-06:   0%| | 96/50000 [00:05<39tensor(6.2529, device='cuda:0', grad_fn=<NllLossBackward0>)\n",
      "epoch 1 iter 96: train loss 6.25294. lr 5.820000e-06:   0%| | 96/50000 [00:05<39tensor(6.2171, device='cuda:0', grad_fn=<NllLossBackward0>)\n",
      "epoch 1 iter 97: train loss 6.21713. lr 5.880000e-06:   0%| | 96/50000 [00:05<39tensor(6.3073, device='cuda:0', grad_fn=<NllLossBackward0>)\n",
      "epoch 1 iter 98: train loss 6.30726. lr 5.940000e-06:   0%| | 99/50000 [00:05<39tensor(6.2552, device='cuda:0', grad_fn=<NllLossBackward0>)\n",
      "epoch 1 iter 99: train loss 6.25523. lr 6.000000e-06:   0%| | 99/50000 [00:05<39tensor(6.2593, device='cuda:0', grad_fn=<NllLossBackward0>)\n",
      "epoch 1 iter 100: train loss 6.25928. lr 6.060000e-06:   0%| | 99/50000 [00:05<3tensor(6.2606, device='cuda:0', grad_fn=<NllLossBackward0>)\n",
      "epoch 1 iter 101: train loss 6.26057. lr 6.120000e-06:   0%| | 102/50000 [00:05<tensor(6.3029, device='cuda:0', grad_fn=<NllLossBackward0>)\n",
      "epoch 1 iter 102: train loss 6.30288. lr 6.180000e-06:   0%| | 102/50000 [00:05<tensor(6.2514, device='cuda:0', grad_fn=<NllLossBackward0>)\n",
      "epoch 1 iter 103: train loss 6.25143. lr 6.240000e-06:   0%| | 102/50000 [00:05<tensor(6.2958, device='cuda:0', grad_fn=<NllLossBackward0>)\n",
      "epoch 1 iter 104: train loss 6.29578. lr 6.300000e-06:   0%| | 105/50000 [00:06<tensor(6.3431, device='cuda:0', grad_fn=<NllLossBackward0>)\n",
      "epoch 1 iter 105: train loss 6.34309. lr 6.360000e-06:   0%| | 105/50000 [00:06<tensor(6.2672, device='cuda:0', grad_fn=<NllLossBackward0>)\n",
      "epoch 1 iter 106: train loss 6.26719. lr 6.420000e-06:   0%| | 105/50000 [00:06<tensor(6.2604, device='cuda:0', grad_fn=<NllLossBackward0>)\n",
      "epoch 1 iter 107: train loss 6.26037. lr 6.480000e-06:   0%| | 108/50000 [00:06<tensor(6.2559, device='cuda:0', grad_fn=<NllLossBackward0>)\n",
      "epoch 1 iter 108: train loss 6.25590. lr 6.540000e-06:   0%| | 108/50000 [00:06<tensor(6.2973, device='cuda:0', grad_fn=<NllLossBackward0>)\n",
      "epoch 1 iter 109: train loss 6.29735. lr 6.600000e-06:   0%| | 108/50000 [00:06<tensor(6.2406, device='cuda:0', grad_fn=<NllLossBackward0>)\n",
      "epoch 1 iter 110: train loss 6.24065. lr 6.660000e-06:   0%| | 111/50000 [00:06<tensor(6.2677, device='cuda:0', grad_fn=<NllLossBackward0>)\n",
      "epoch 1 iter 111: train loss 6.26768. lr 6.720000e-06:   0%| | 111/50000 [00:06<tensor(6.2447, device='cuda:0', grad_fn=<NllLossBackward0>)\n",
      "epoch 1 iter 112: train loss 6.24474. lr 6.780000e-06:   0%| | 111/50000 [00:06<tensor(6.3055, device='cuda:0', grad_fn=<NllLossBackward0>)\n",
      "epoch 1 iter 113: train loss 6.30552. lr 6.840000e-06:   0%| | 114/50000 [00:06<tensor(6.2251, device='cuda:0', grad_fn=<NllLossBackward0>)\n",
      "epoch 1 iter 114: train loss 6.22512. lr 6.900000e-06:   0%| | 114/50000 [00:06<tensor(6.2935, device='cuda:0', grad_fn=<NllLossBackward0>)\n",
      "epoch 1 iter 115: train loss 6.29354. lr 6.960000e-06:   0%| | 114/50000 [00:06<tensor(6.2644, device='cuda:0', grad_fn=<NllLossBackward0>)\n",
      "epoch 1 iter 116: train loss 6.26435. lr 7.020000e-06:   0%| | 117/50000 [00:06<tensor(6.4532, device='cuda:0', grad_fn=<NllLossBackward0>)\n",
      "epoch 1 iter 117: train loss 6.45317. lr 7.080000e-06:   0%| | 117/50000 [00:06<tensor(6.2693, device='cuda:0', grad_fn=<NllLossBackward0>)\n",
      "epoch 1 iter 118: train loss 6.26932. lr 7.140000e-06:   0%| | 117/50000 [00:06<tensor(6.2297, device='cuda:0', grad_fn=<NllLossBackward0>)\n",
      "epoch 1 iter 119: train loss 6.22972. lr 7.200000e-06:   0%| | 120/50000 [00:06<tensor(6.3048, device='cuda:0', grad_fn=<NllLossBackward0>)\n",
      "epoch 1 iter 120: train loss 6.30481. lr 7.260000e-06:   0%| | 120/50000 [00:06<tensor(6.2718, device='cuda:0', grad_fn=<NllLossBackward0>)\n",
      "epoch 1 iter 121: train loss 6.27178. lr 7.320000e-06:   0%| | 120/50000 [00:06<tensor(6.2361, device='cuda:0', grad_fn=<NllLossBackward0>)\n",
      "epoch 1 iter 122: train loss 6.23612. lr 7.380000e-06:   0%| | 123/50000 [00:06<tensor(6.2986, device='cuda:0', grad_fn=<NllLossBackward0>)\n",
      "epoch 1 iter 123: train loss 6.29856. lr 7.440000e-06:   0%| | 123/50000 [00:06<tensor(6.1628, device='cuda:0', grad_fn=<NllLossBackward0>)\n",
      "epoch 1 iter 124: train loss 6.16283. lr 7.500000e-06:   0%| | 123/50000 [00:06<tensor(6.3072, device='cuda:0', grad_fn=<NllLossBackward0>)\n",
      "epoch 1 iter 125: train loss 6.30724. lr 7.560000e-06:   0%| | 126/50000 [00:07<tensor(6.2230, device='cuda:0', grad_fn=<NllLossBackward0>)\n",
      "epoch 1 iter 126: train loss 6.22296. lr 7.620000e-06:   0%| | 126/50000 [00:07<tensor(6.2684, device='cuda:0', grad_fn=<NllLossBackward0>)\n",
      "epoch 1 iter 127: train loss 6.26837. lr 7.680000e-06:   0%| | 126/50000 [00:07<tensor(6.4386, device='cuda:0', grad_fn=<NllLossBackward0>)\n",
      "epoch 1 iter 128: train loss 6.43861. lr 7.740000e-06:   0%| | 129/50000 [00:07<tensor(6.2345, device='cuda:0', grad_fn=<NllLossBackward0>)\n",
      "epoch 1 iter 129: train loss 6.23447. lr 7.800000e-06:   0%| | 129/50000 [00:07<tensor(6.3036, device='cuda:0', grad_fn=<NllLossBackward0>)\n",
      "epoch 1 iter 130: train loss 6.30359. lr 7.860000e-06:   0%| | 129/50000 [00:07<tensor(6.1869, device='cuda:0', grad_fn=<NllLossBackward0>)\n",
      "epoch 1 iter 131: train loss 6.18691. lr 7.920000e-06:   0%| | 132/50000 [00:07<tensor(6.2173, device='cuda:0', grad_fn=<NllLossBackward0>)\n",
      "epoch 1 iter 132: train loss 6.21734. lr 7.980000e-06:   0%| | 132/50000 [00:07<tensor(6.2165, device='cuda:0', grad_fn=<NllLossBackward0>)\n",
      "epoch 1 iter 133: train loss 6.21646. lr 8.040000e-06:   0%| | 132/50000 [00:07<tensor(6.2070, device='cuda:0', grad_fn=<NllLossBackward0>)\n",
      "epoch 1 iter 134: train loss 6.20702. lr 8.100000e-06:   0%| | 135/50000 [00:07<tensor(6.3084, device='cuda:0', grad_fn=<NllLossBackward0>)\n",
      "epoch 1 iter 135: train loss 6.30838. lr 8.160000e-06:   0%| | 135/50000 [00:07<tensor(6.1415, device='cuda:0', grad_fn=<NllLossBackward0>)\n",
      "epoch 1 iter 136: train loss 6.14152. lr 8.220000e-06:   0%| | 135/50000 [00:07<tensor(6.2481, device='cuda:0', grad_fn=<NllLossBackward0>)\n",
      "epoch 1 iter 137: train loss 6.24814. lr 8.280000e-06:   0%| | 138/50000 [00:07<tensor(6.2761, device='cuda:0', grad_fn=<NllLossBackward0>)\n",
      "epoch 1 iter 138: train loss 6.27615. lr 8.340000e-06:   0%| | 138/50000 [00:07<tensor(6.2712, device='cuda:0', grad_fn=<NllLossBackward0>)\n",
      "epoch 1 iter 139: train loss 6.27124. lr 8.400000e-06:   0%| | 138/50000 [00:07<tensor(6.2487, device='cuda:0', grad_fn=<NllLossBackward0>)\n",
      "epoch 1 iter 140: train loss 6.24870. lr 8.460000e-06:   0%| | 141/50000 [00:07<tensor(6.1723, device='cuda:0', grad_fn=<NllLossBackward0>)\n",
      "epoch 1 iter 141: train loss 6.17232. lr 8.520000e-06:   0%| | 141/50000 [00:07<tensor(6.2394, device='cuda:0', grad_fn=<NllLossBackward0>)\n",
      "epoch 1 iter 142: train loss 6.23936. lr 8.580000e-06:   0%| | 141/50000 [00:07<tensor(6.2543, device='cuda:0', grad_fn=<NllLossBackward0>)\n",
      "epoch 1 iter 143: train loss 6.25427. lr 8.640000e-06:   0%| | 144/50000 [00:07<tensor(6.2423, device='cuda:0', grad_fn=<NllLossBackward0>)\n",
      "epoch 1 iter 144: train loss 6.24234. lr 8.700000e-06:   0%| | 144/50000 [00:07<tensor(6.3062, device='cuda:0', grad_fn=<NllLossBackward0>)\n",
      "epoch 1 iter 145: train loss 6.30620. lr 8.760000e-06:   0%| | 144/50000 [00:07<tensor(6.2376, device='cuda:0', grad_fn=<NllLossBackward0>)\n",
      "epoch 1 iter 146: train loss 6.23756. lr 8.820000e-06:   0%| | 147/50000 [00:08<tensor(6.2734, device='cuda:0', grad_fn=<NllLossBackward0>)\n",
      "epoch 1 iter 147: train loss 6.27339. lr 8.880000e-06:   0%| | 147/50000 [00:08<tensor(6.2594, device='cuda:0', grad_fn=<NllLossBackward0>)\n",
      "epoch 1 iter 148: train loss 6.25937. lr 8.940000e-06:   0%| | 147/50000 [00:08<tensor(6.2959, device='cuda:0', grad_fn=<NllLossBackward0>)\n",
      "epoch 1 iter 149: train loss 6.29586. lr 9.000000e-06:   0%| | 150/50000 [00:08<tensor(6.2248, device='cuda:0', grad_fn=<NllLossBackward0>)\n",
      "epoch 1 iter 150: train loss 6.22479. lr 9.060000e-06:   0%| | 150/50000 [00:08<tensor(6.2629, device='cuda:0', grad_fn=<NllLossBackward0>)\n",
      "epoch 1 iter 151: train loss 6.26289. lr 9.120000e-06:   0%| | 150/50000 [00:08<tensor(6.2239, device='cuda:0', grad_fn=<NllLossBackward0>)\n",
      "epoch 1 iter 152: train loss 6.22389. lr 9.180000e-06:   0%| | 153/50000 [00:08<tensor(6.2621, device='cuda:0', grad_fn=<NllLossBackward0>)\n",
      "epoch 1 iter 153: train loss 6.26206. lr 9.240000e-06:   0%| | 153/50000 [00:08<tensor(6.2334, device='cuda:0', grad_fn=<NllLossBackward0>)\n",
      "epoch 1 iter 154: train loss 6.23336. lr 9.300000e-06:   0%| | 153/50000 [00:08<tensor(6.2365, device='cuda:0', grad_fn=<NllLossBackward0>)\n",
      "epoch 1 iter 155: train loss 6.23648. lr 9.360000e-06:   0%| | 156/50000 [00:08<tensor(6.2896, device='cuda:0', grad_fn=<NllLossBackward0>)\n",
      "epoch 1 iter 156: train loss 6.28963. lr 9.420000e-06:   0%| | 156/50000 [00:08<tensor(6.2804, device='cuda:0', grad_fn=<NllLossBackward0>)\n",
      "epoch 1 iter 157: train loss 6.28039. lr 9.480000e-06:   0%| | 156/50000 [00:08<tensor(6.2290, device='cuda:0', grad_fn=<NllLossBackward0>)\n",
      "epoch 1 iter 158: train loss 6.22901. lr 9.540000e-06:   0%| | 159/50000 [00:08<tensor(6.2642, device='cuda:0', grad_fn=<NllLossBackward0>)\n",
      "epoch 1 iter 159: train loss 6.26424. lr 9.600000e-06:   0%| | 159/50000 [00:08<tensor(6.2874, device='cuda:0', grad_fn=<NllLossBackward0>)\n",
      "epoch 1 iter 160: train loss 6.28735. lr 9.660000e-06:   0%| | 159/50000 [00:08<tensor(6.3180, device='cuda:0', grad_fn=<NllLossBackward0>)\n",
      "epoch 1 iter 161: train loss 6.31796. lr 9.720000e-06:   0%| | 162/50000 [00:08<tensor(6.2578, device='cuda:0', grad_fn=<NllLossBackward0>)\n",
      "epoch 1 iter 162: train loss 6.25778. lr 9.780000e-06:   0%| | 162/50000 [00:08<tensor(6.2631, device='cuda:0', grad_fn=<NllLossBackward0>)\n",
      "epoch 1 iter 163: train loss 6.26315. lr 9.840000e-06:   0%| | 162/50000 [00:08<tensor(6.2539, device='cuda:0', grad_fn=<NllLossBackward0>)\n",
      "epoch 1 iter 164: train loss 6.25393. lr 9.900000e-06:   0%| | 165/50000 [00:08<tensor(6.2684, device='cuda:0', grad_fn=<NllLossBackward0>)\n",
      "epoch 1 iter 165: train loss 6.26838. lr 9.960000e-06:   0%| | 165/50000 [00:08<tensor(6.2776, device='cuda:0', grad_fn=<NllLossBackward0>)\n",
      "epoch 1 iter 166: train loss 6.27765. lr 1.002000e-05:   0%| | 165/50000 [00:08<tensor(6.2845, device='cuda:0', grad_fn=<NllLossBackward0>)\n",
      "epoch 1 iter 167: train loss 6.28449. lr 1.008000e-05:   0%| | 168/50000 [00:09<tensor(6.2584, device='cuda:0', grad_fn=<NllLossBackward0>)\n",
      "epoch 1 iter 168: train loss 6.25840. lr 1.014000e-05:   0%| | 168/50000 [00:09<tensor(6.2675, device='cuda:0', grad_fn=<NllLossBackward0>)\n",
      "epoch 1 iter 169: train loss 6.26749. lr 1.020000e-05:   0%| | 168/50000 [00:09<tensor(6.2751, device='cuda:0', grad_fn=<NllLossBackward0>)\n",
      "epoch 1 iter 170: train loss 6.27512. lr 1.026000e-05:   0%| | 171/50000 [00:09<tensor(6.2493, device='cuda:0', grad_fn=<NllLossBackward0>)\n",
      "epoch 1 iter 171: train loss 6.24933. lr 1.032000e-05:   0%| | 171/50000 [00:09<tensor(6.2479, device='cuda:0', grad_fn=<NllLossBackward0>)\n",
      "epoch 1 iter 172: train loss 6.24793. lr 1.038000e-05:   0%| | 171/50000 [00:09<tensor(6.2011, device='cuda:0', grad_fn=<NllLossBackward0>)\n",
      "epoch 1 iter 173: train loss 6.20110. lr 1.044000e-05:   0%| | 174/50000 [00:09<tensor(6.2638, device='cuda:0', grad_fn=<NllLossBackward0>)\n",
      "epoch 1 iter 174: train loss 6.26381. lr 1.050000e-05:   0%| | 174/50000 [00:09<tensor(6.2568, device='cuda:0', grad_fn=<NllLossBackward0>)\n",
      "epoch 1 iter 175: train loss 6.25676. lr 1.056000e-05:   0%| | 174/50000 [00:09<tensor(6.2608, device='cuda:0', grad_fn=<NllLossBackward0>)\n",
      "epoch 1 iter 176: train loss 6.26076. lr 1.062000e-05:   0%| | 177/50000 [00:09<tensor(6.2566, device='cuda:0', grad_fn=<NllLossBackward0>)\n",
      "epoch 1 iter 177: train loss 6.25660. lr 1.068000e-05:   0%| | 177/50000 [00:09<tensor(6.2605, device='cuda:0', grad_fn=<NllLossBackward0>)\n",
      "epoch 1 iter 178: train loss 6.26049. lr 1.074000e-05:   0%| | 177/50000 [00:09<tensor(6.2943, device='cuda:0', grad_fn=<NllLossBackward0>)\n",
      "epoch 1 iter 179: train loss 6.29425. lr 1.080000e-05:   0%| | 180/50000 [00:09<tensor(6.2481, device='cuda:0', grad_fn=<NllLossBackward0>)\n",
      "epoch 1 iter 180: train loss 6.24811. lr 1.086000e-05:   0%| | 180/50000 [00:09<tensor(6.2891, device='cuda:0', grad_fn=<NllLossBackward0>)\n",
      "epoch 1 iter 181: train loss 6.28914. lr 1.092000e-05:   0%| | 180/50000 [00:09<tensor(6.2779, device='cuda:0', grad_fn=<NllLossBackward0>)\n",
      "epoch 1 iter 182: train loss 6.27794. lr 1.098000e-05:   0%| | 183/50000 [00:09<tensor(6.2422, device='cuda:0', grad_fn=<NllLossBackward0>)\n",
      "epoch 1 iter 183: train loss 6.24222. lr 1.104000e-05:   0%| | 183/50000 [00:09<tensor(6.2466, device='cuda:0', grad_fn=<NllLossBackward0>)\n",
      "epoch 1 iter 184: train loss 6.24662. lr 1.110000e-05:   0%| | 183/50000 [00:09<tensor(6.2420, device='cuda:0', grad_fn=<NllLossBackward0>)\n",
      "epoch 1 iter 185: train loss 6.24197. lr 1.116000e-05:   0%| | 186/50000 [00:09<tensor(6.2584, device='cuda:0', grad_fn=<NllLossBackward0>)\n",
      "epoch 1 iter 186: train loss 6.25842. lr 1.122000e-05:   0%| | 186/50000 [00:09<tensor(6.3067, device='cuda:0', grad_fn=<NllLossBackward0>)\n",
      "epoch 1 iter 187: train loss 6.30671. lr 1.128000e-05:   0%| | 186/50000 [00:09<tensor(6.2656, device='cuda:0', grad_fn=<NllLossBackward0>)\n",
      "epoch 1 iter 188: train loss 6.26561. lr 1.134000e-05:   0%| | 189/50000 [00:10<tensor(6.2116, device='cuda:0', grad_fn=<NllLossBackward0>)\n",
      "epoch 1 iter 189: train loss 6.21159. lr 1.140000e-05:   0%| | 189/50000 [00:10<tensor(6.2778, device='cuda:0', grad_fn=<NllLossBackward0>)\n",
      "epoch 1 iter 190: train loss 6.27782. lr 1.146000e-05:   0%| | 189/50000 [00:10<tensor(6.1969, device='cuda:0', grad_fn=<NllLossBackward0>)\n",
      "epoch 1 iter 191: train loss 6.19690. lr 1.152000e-05:   0%| | 192/50000 [00:10<tensor(6.1492, device='cuda:0', grad_fn=<NllLossBackward0>)\n",
      "epoch 1 iter 192: train loss 6.14916. lr 1.158000e-05:   0%| | 192/50000 [00:10<tensor(6.2726, device='cuda:0', grad_fn=<NllLossBackward0>)\n",
      "epoch 1 iter 193: train loss 6.27259. lr 1.164000e-05:   0%| | 192/50000 [00:10<tensor(6.2291, device='cuda:0', grad_fn=<NllLossBackward0>)\n",
      "epoch 1 iter 194: train loss 6.22910. lr 1.170000e-05:   0%| | 195/50000 [00:10<tensor(6.2761, device='cuda:0', grad_fn=<NllLossBackward0>)\n",
      "epoch 1 iter 195: train loss 6.27615. lr 1.176000e-05:   0%| | 195/50000 [00:10<tensor(6.2162, device='cuda:0', grad_fn=<NllLossBackward0>)\n",
      "epoch 1 iter 196: train loss 6.21617. lr 1.182000e-05:   0%| | 195/50000 [00:10<tensor(6.2535, device='cuda:0', grad_fn=<NllLossBackward0>)\n",
      "epoch 1 iter 197: train loss 6.25346. lr 1.188000e-05:   0%| | 198/50000 [00:10<tensor(6.2527, device='cuda:0', grad_fn=<NllLossBackward0>)\n",
      "epoch 1 iter 198: train loss 6.25273. lr 1.194000e-05:   0%| | 198/50000 [00:10<tensor(6.2458, device='cuda:0', grad_fn=<NllLossBackward0>)\n",
      "epoch 1 iter 199: train loss 6.24577. lr 1.200000e-05:   0%| | 198/50000 [00:10<tensor(6.2542, device='cuda:0', grad_fn=<NllLossBackward0>)\n",
      "epoch 1 iter 200: train loss 6.25420. lr 1.206000e-05:   0%| | 201/50000 [00:10<tensor(6.2413, device='cuda:0', grad_fn=<NllLossBackward0>)\n",
      "epoch 1 iter 201: train loss 6.24127. lr 1.212000e-05:   0%| | 201/50000 [00:10<tensor(6.2606, device='cuda:0', grad_fn=<NllLossBackward0>)\n",
      "epoch 1 iter 202: train loss 6.26064. lr 1.218000e-05:   0%| | 201/50000 [00:10<tensor(6.2498, device='cuda:0', grad_fn=<NllLossBackward0>)\n",
      "epoch 1 iter 203: train loss 6.24985. lr 1.224000e-05:   0%| | 204/50000 [00:10<tensor(6.2601, device='cuda:0', grad_fn=<NllLossBackward0>)\n",
      "epoch 1 iter 204: train loss 6.26010. lr 1.230000e-05:   0%| | 204/50000 [00:10<tensor(6.2585, device='cuda:0', grad_fn=<NllLossBackward0>)\n",
      "epoch 1 iter 205: train loss 6.25852. lr 1.236000e-05:   0%| | 204/50000 [00:10<tensor(6.2387, device='cuda:0', grad_fn=<NllLossBackward0>)\n",
      "epoch 1 iter 206: train loss 6.23869. lr 1.242000e-05:   0%| | 207/50000 [00:10<tensor(6.2718, device='cuda:0', grad_fn=<NllLossBackward0>)\n",
      "epoch 1 iter 207: train loss 6.27181. lr 1.248000e-05:   0%| | 207/50000 [00:10<tensor(6.2483, device='cuda:0', grad_fn=<NllLossBackward0>)\n",
      "epoch 1 iter 208: train loss 6.24829. lr 1.254000e-05:   0%| | 207/50000 [00:10<tensor(6.2637, device='cuda:0', grad_fn=<NllLossBackward0>)\n",
      "epoch 1 iter 209: train loss 6.26370. lr 1.260000e-05:   0%| | 210/50000 [00:11<tensor(6.2400, device='cuda:0', grad_fn=<NllLossBackward0>)\n",
      "epoch 1 iter 210: train loss 6.23996. lr 1.266000e-05:   0%| | 210/50000 [00:11<tensor(6.2649, device='cuda:0', grad_fn=<NllLossBackward0>)\n",
      "epoch 1 iter 211: train loss 6.26490. lr 1.272000e-05:   0%| | 210/50000 [00:11<tensor(6.2608, device='cuda:0', grad_fn=<NllLossBackward0>)\n",
      "epoch 1 iter 212: train loss 6.26084. lr 1.278000e-05:   0%| | 213/50000 [00:11<tensor(6.2586, device='cuda:0', grad_fn=<NllLossBackward0>)\n",
      "epoch 1 iter 213: train loss 6.25861. lr 1.284000e-05:   0%| | 213/50000 [00:11<tensor(6.2255, device='cuda:0', grad_fn=<NllLossBackward0>)\n",
      "epoch 1 iter 214: train loss 6.22547. lr 1.290000e-05:   0%| | 213/50000 [00:11<tensor(6.2724, device='cuda:0', grad_fn=<NllLossBackward0>)\n",
      "epoch 1 iter 215: train loss 6.27237. lr 1.296000e-05:   0%| | 216/50000 [00:11<tensor(6.3248, device='cuda:0', grad_fn=<NllLossBackward0>)\n",
      "epoch 1 iter 216: train loss 6.32482. lr 1.302000e-05:   0%| | 216/50000 [00:11<tensor(6.2587, device='cuda:0', grad_fn=<NllLossBackward0>)\n",
      "epoch 1 iter 217: train loss 6.25871. lr 1.308000e-05:   0%| | 216/50000 [00:11<tensor(6.2313, device='cuda:0', grad_fn=<NllLossBackward0>)\n",
      "epoch 1 iter 218: train loss 6.23128. lr 1.314000e-05:   0%| | 219/50000 [00:11<tensor(6.2548, device='cuda:0', grad_fn=<NllLossBackward0>)\n",
      "epoch 1 iter 219: train loss 6.25482. lr 1.320000e-05:   0%| | 219/50000 [00:11<tensor(6.2567, device='cuda:0', grad_fn=<NllLossBackward0>)\n",
      "epoch 1 iter 220: train loss 6.25667. lr 1.326000e-05:   0%| | 219/50000 [00:11<tensor(6.2535, device='cuda:0', grad_fn=<NllLossBackward0>)\n",
      "epoch 1 iter 221: train loss 6.25353. lr 1.332000e-05:   0%| | 222/50000 [00:11<tensor(6.3211, device='cuda:0', grad_fn=<NllLossBackward0>)\n",
      "epoch 1 iter 222: train loss 6.32113. lr 1.338000e-05:   0%| | 222/50000 [00:11<tensor(6.2414, device='cuda:0', grad_fn=<NllLossBackward0>)\n",
      "epoch 1 iter 223: train loss 6.24138. lr 1.344000e-05:   0%| | 222/50000 [00:11<tensor(6.2877, device='cuda:0', grad_fn=<NllLossBackward0>)\n",
      "epoch 1 iter 224: train loss 6.28771. lr 1.350000e-05:   0%| | 225/50000 [00:11<tensor(6.2286, device='cuda:0', grad_fn=<NllLossBackward0>)\n",
      "epoch 1 iter 225: train loss 6.22855. lr 1.356000e-05:   0%| | 225/50000 [00:11<tensor(6.2375, device='cuda:0', grad_fn=<NllLossBackward0>)\n",
      "epoch 1 iter 226: train loss 6.23750. lr 1.362000e-05:   0%| | 225/50000 [00:11<tensor(6.2389, device='cuda:0', grad_fn=<NllLossBackward0>)\n",
      "epoch 1 iter 227: train loss 6.23893. lr 1.368000e-05:   0%| | 228/50000 [00:11<tensor(6.2701, device='cuda:0', grad_fn=<NllLossBackward0>)\n",
      "epoch 1 iter 228: train loss 6.27010. lr 1.374000e-05:   0%| | 228/50000 [00:11<tensor(6.2009, device='cuda:0', grad_fn=<NllLossBackward0>)\n",
      "epoch 1 iter 229: train loss 6.20088. lr 1.380000e-05:   0%| | 228/50000 [00:11<tensor(6.2484, device='cuda:0', grad_fn=<NllLossBackward0>)\n",
      "epoch 1 iter 230: train loss 6.24843. lr 1.386000e-05:   0%| | 231/50000 [00:12<tensor(6.2154, device='cuda:0', grad_fn=<NllLossBackward0>)\n",
      "epoch 1 iter 231: train loss 6.21535. lr 1.392000e-05:   0%| | 231/50000 [00:12<tensor(6.2514, device='cuda:0', grad_fn=<NllLossBackward0>)\n",
      "epoch 1 iter 232: train loss 6.25137. lr 1.398000e-05:   0%| | 231/50000 [00:12<tensor(6.2283, device='cuda:0', grad_fn=<NllLossBackward0>)\n",
      "epoch 1 iter 233: train loss 6.22832. lr 1.404000e-05:   0%| | 234/50000 [00:12<tensor(6.2637, device='cuda:0', grad_fn=<NllLossBackward0>)\n",
      "epoch 1 iter 234: train loss 6.26369. lr 1.410000e-05:   0%| | 234/50000 [00:12<tensor(6.2386, device='cuda:0', grad_fn=<NllLossBackward0>)\n",
      "epoch 1 iter 235: train loss 6.23857. lr 1.416000e-05:   0%| | 234/50000 [00:12<tensor(6.2488, device='cuda:0', grad_fn=<NllLossBackward0>)\n",
      "epoch 1 iter 236: train loss 6.24881. lr 1.422000e-05:   0%| | 237/50000 [00:12<tensor(6.2763, device='cuda:0', grad_fn=<NllLossBackward0>)\n",
      "epoch 1 iter 237: train loss 6.27632. lr 1.428000e-05:   0%| | 237/50000 [00:12<tensor(6.2182, device='cuda:0', grad_fn=<NllLossBackward0>)\n",
      "epoch 1 iter 238: train loss 6.21815. lr 1.434000e-05:   0%| | 237/50000 [00:12<tensor(6.2642, device='cuda:0', grad_fn=<NllLossBackward0>)\n",
      "epoch 1 iter 239: train loss 6.26416. lr 1.440000e-05:   0%| | 240/50000 [00:12<tensor(6.3239, device='cuda:0', grad_fn=<NllLossBackward0>)\n",
      "epoch 1 iter 240: train loss 6.32394. lr 1.446000e-05:   0%| | 240/50000 [00:12<tensor(6.2628, device='cuda:0', grad_fn=<NllLossBackward0>)\n",
      "epoch 1 iter 241: train loss 6.26283. lr 1.452000e-05:   0%| | 240/50000 [00:12<tensor(6.2761, device='cuda:0', grad_fn=<NllLossBackward0>)\n",
      "epoch 1 iter 242: train loss 6.27612. lr 1.458000e-05:   0%| | 243/50000 [00:12<tensor(6.2660, device='cuda:0', grad_fn=<NllLossBackward0>)\n",
      "epoch 1 iter 243: train loss 6.26600. lr 1.464000e-05:   0%| | 243/50000 [00:12<tensor(6.1519, device='cuda:0', grad_fn=<NllLossBackward0>)\n",
      "epoch 1 iter 244: train loss 6.15192. lr 1.470000e-05:   0%| | 243/50000 [00:12<tensor(6.2113, device='cuda:0', grad_fn=<NllLossBackward0>)\n",
      "epoch 1 iter 245: train loss 6.21132. lr 1.476000e-05:   0%| | 246/50000 [00:12<tensor(6.2750, device='cuda:0', grad_fn=<NllLossBackward0>)\n",
      "epoch 1 iter 246: train loss 6.27497. lr 1.482000e-05:   0%| | 246/50000 [00:12<tensor(6.1677, device='cuda:0', grad_fn=<NllLossBackward0>)\n",
      "epoch 1 iter 247: train loss 6.16767. lr 1.488000e-05:   0%| | 246/50000 [00:12<tensor(6.2927, device='cuda:0', grad_fn=<NllLossBackward0>)\n",
      "epoch 1 iter 248: train loss 6.29269. lr 1.494000e-05:   0%| | 249/50000 [00:12<tensor(6.0962, device='cuda:0', grad_fn=<NllLossBackward0>)\n",
      "epoch 1 iter 249: train loss 6.09622. lr 1.500000e-05:   0%| | 249/50000 [00:12<tensor(6.2710, device='cuda:0', grad_fn=<NllLossBackward0>)\n",
      "epoch 1 iter 250: train loss 6.27104. lr 1.506000e-05:   0%| | 249/50000 [00:12<tensor(6.2465, device='cuda:0', grad_fn=<NllLossBackward0>)\n",
      "epoch 1 iter 251: train loss 6.24647. lr 1.512000e-05:   1%| | 252/50000 [00:13<tensor(6.2488, device='cuda:0', grad_fn=<NllLossBackward0>)\n",
      "epoch 1 iter 252: train loss 6.24878. lr 1.518000e-05:   1%| | 252/50000 [00:13<tensor(6.2277, device='cuda:0', grad_fn=<NllLossBackward0>)\n",
      "epoch 1 iter 253: train loss 6.22772. lr 1.524000e-05:   1%| | 252/50000 [00:13<tensor(6.2266, device='cuda:0', grad_fn=<NllLossBackward0>)\n",
      "epoch 1 iter 254: train loss 6.22656. lr 1.530000e-05:   1%| | 255/50000 [00:13<tensor(6.2531, device='cuda:0', grad_fn=<NllLossBackward0>)\n",
      "epoch 1 iter 255: train loss 6.25307. lr 1.536000e-05:   1%| | 255/50000 [00:13<tensor(6.2752, device='cuda:0', grad_fn=<NllLossBackward0>)\n",
      "epoch 1 iter 256: train loss 6.27522. lr 1.542000e-05:   1%| | 255/50000 [00:13<tensor(6.2108, device='cuda:0', grad_fn=<NllLossBackward0>)\n",
      "epoch 1 iter 257: train loss 6.21075. lr 1.548000e-05:   1%| | 258/50000 [00:13<tensor(6.2289, device='cuda:0', grad_fn=<NllLossBackward0>)\n",
      "epoch 1 iter 258: train loss 6.22885. lr 1.554000e-05:   1%| | 258/50000 [00:13<tensor(6.2699, device='cuda:0', grad_fn=<NllLossBackward0>)\n",
      "epoch 1 iter 259: train loss 6.26987. lr 1.560000e-05:   1%| | 258/50000 [00:13<tensor(6.2505, device='cuda:0', grad_fn=<NllLossBackward0>)\n",
      "epoch 1 iter 260: train loss 6.25048. lr 1.566000e-05:   1%| | 261/50000 [00:13<tensor(6.4153, device='cuda:0', grad_fn=<NllLossBackward0>)\n",
      "epoch 1 iter 261: train loss 6.41529. lr 1.572000e-05:   1%| | 261/50000 [00:13<tensor(6.2614, device='cuda:0', grad_fn=<NllLossBackward0>)\n",
      "epoch 1 iter 262: train loss 6.26137. lr 1.578000e-05:   1%| | 261/50000 [00:13<tensor(6.1993, device='cuda:0', grad_fn=<NllLossBackward0>)\n",
      "epoch 1 iter 263: train loss 6.19934. lr 1.584000e-05:   1%| | 264/50000 [00:13<tensor(6.2666, device='cuda:0', grad_fn=<NllLossBackward0>)\n",
      "epoch 1 iter 264: train loss 6.26664. lr 1.590000e-05:   1%| | 264/50000 [00:13<tensor(6.2301, device='cuda:0', grad_fn=<NllLossBackward0>)\n",
      "epoch 1 iter 265: train loss 6.23011. lr 1.596000e-05:   1%| | 264/50000 [00:13<tensor(6.2679, device='cuda:0', grad_fn=<NllLossBackward0>)\n",
      "epoch 1 iter 266: train loss 6.26789. lr 1.602000e-05:   1%| | 267/50000 [00:13<tensor(6.2727, device='cuda:0', grad_fn=<NllLossBackward0>)\n",
      "epoch 1 iter 267: train loss 6.27275. lr 1.608000e-05:   1%| | 267/50000 [00:13<tensor(6.2590, device='cuda:0', grad_fn=<NllLossBackward0>)\n",
      "epoch 1 iter 268: train loss 6.25900. lr 1.614000e-05:   1%| | 267/50000 [00:13<tensor(6.2579, device='cuda:0', grad_fn=<NllLossBackward0>)\n",
      "epoch 1 iter 269: train loss 6.25789. lr 1.620000e-05:   1%| | 270/50000 [00:13<tensor(6.2369, device='cuda:0', grad_fn=<NllLossBackward0>)\n",
      "epoch 1 iter 270: train loss 6.23686. lr 1.626000e-05:   1%| | 270/50000 [00:13<tensor(6.2338, device='cuda:0', grad_fn=<NllLossBackward0>)\n",
      "epoch 1 iter 271: train loss 6.23383. lr 1.632000e-05:   1%| | 270/50000 [00:14<tensor(6.2841, device='cuda:0', grad_fn=<NllLossBackward0>)\n",
      "epoch 1 iter 272: train loss 6.28414. lr 1.638000e-05:   1%| | 273/50000 [00:14<tensor(6.2547, device='cuda:0', grad_fn=<NllLossBackward0>)\n",
      "epoch 1 iter 273: train loss 6.25468. lr 1.644000e-05:   1%| | 273/50000 [00:14<tensor(6.2634, device='cuda:0', grad_fn=<NllLossBackward0>)\n",
      "epoch 1 iter 274: train loss 6.26344. lr 1.650000e-05:   1%| | 273/50000 [00:14<tensor(6.2272, device='cuda:0', grad_fn=<NllLossBackward0>)\n",
      "epoch 1 iter 275: train loss 6.22724. lr 1.656000e-05:   1%| | 276/50000 [00:14<tensor(6.2748, device='cuda:0', grad_fn=<NllLossBackward0>)\n",
      "epoch 1 iter 276: train loss 6.27476. lr 1.662000e-05:   1%| | 276/50000 [00:14<tensor(6.2992, device='cuda:0', grad_fn=<NllLossBackward0>)\n",
      "epoch 1 iter 277: train loss 6.29917. lr 1.668000e-05:   1%| | 276/50000 [00:14<tensor(6.2373, device='cuda:0', grad_fn=<NllLossBackward0>)\n",
      "epoch 1 iter 278: train loss 6.23728. lr 1.674000e-05:   1%| | 279/50000 [00:14<tensor(6.3332, device='cuda:0', grad_fn=<NllLossBackward0>)\n",
      "epoch 1 iter 279: train loss 6.33322. lr 1.680000e-05:   1%| | 279/50000 [00:14<tensor(6.2195, device='cuda:0', grad_fn=<NllLossBackward0>)\n",
      "epoch 1 iter 280: train loss 6.21947. lr 1.686000e-05:   1%| | 279/50000 [00:14<tensor(6.2099, device='cuda:0', grad_fn=<NllLossBackward0>)\n",
      "epoch 1 iter 281: train loss 6.20991. lr 1.692000e-05:   1%| | 282/50000 [00:14<tensor(6.3047, device='cuda:0', grad_fn=<NllLossBackward0>)\n",
      "epoch 1 iter 282: train loss 6.30472. lr 1.698000e-05:   1%| | 282/50000 [00:14<tensor(6.2165, device='cuda:0', grad_fn=<NllLossBackward0>)\n",
      "epoch 1 iter 283: train loss 6.21646. lr 1.704000e-05:   1%| | 282/50000 [00:14<tensor(6.2697, device='cuda:0', grad_fn=<NllLossBackward0>)\n",
      "epoch 1 iter 284: train loss 6.26973. lr 1.710000e-05:   1%| | 285/50000 [00:14<tensor(6.2764, device='cuda:0', grad_fn=<NllLossBackward0>)\n",
      "epoch 1 iter 285: train loss 6.27637. lr 1.716000e-05:   1%| | 285/50000 [00:14<tensor(6.2332, device='cuda:0', grad_fn=<NllLossBackward0>)\n",
      "epoch 1 iter 286: train loss 6.23316. lr 1.722000e-05:   1%| | 285/50000 [00:14<tensor(6.2428, device='cuda:0', grad_fn=<NllLossBackward0>)\n",
      "epoch 1 iter 287: train loss 6.24279. lr 1.728000e-05:   1%| | 288/50000 [00:14<tensor(6.2163, device='cuda:0', grad_fn=<NllLossBackward0>)\n",
      "epoch 1 iter 288: train loss 6.21633. lr 1.734000e-05:   1%| | 288/50000 [00:14<tensor(6.2126, device='cuda:0', grad_fn=<NllLossBackward0>)\n",
      "epoch 1 iter 289: train loss 6.21261. lr 1.740000e-05:   1%| | 288/50000 [00:14<tensor(6.2447, device='cuda:0', grad_fn=<NllLossBackward0>)\n",
      "epoch 1 iter 290: train loss 6.24470. lr 1.746000e-05:   1%| | 291/50000 [00:14<tensor(6.2717, device='cuda:0', grad_fn=<NllLossBackward0>)\n",
      "epoch 1 iter 291: train loss 6.27173. lr 1.752000e-05:   1%| | 291/50000 [00:14<tensor(6.2556, device='cuda:0', grad_fn=<NllLossBackward0>)\n",
      "epoch 1 iter 292: train loss 6.25560. lr 1.758000e-05:   1%| | 291/50000 [00:15<tensor(6.2605, device='cuda:0', grad_fn=<NllLossBackward0>)\n",
      "epoch 1 iter 293: train loss 6.26049. lr 1.764000e-05:   1%| | 294/50000 [00:15<tensor(6.1645, device='cuda:0', grad_fn=<NllLossBackward0>)\n",
      "epoch 1 iter 294: train loss 6.16450. lr 1.770000e-05:   1%| | 294/50000 [00:15<tensor(6.2369, device='cuda:0', grad_fn=<NllLossBackward0>)\n",
      "epoch 1 iter 295: train loss 6.23690. lr 1.776000e-05:   1%| | 294/50000 [00:15<tensor(6.2704, device='cuda:0', grad_fn=<NllLossBackward0>)\n",
      "epoch 1 iter 296: train loss 6.27041. lr 1.782000e-05:   1%| | 297/50000 [00:15<tensor(6.2499, device='cuda:0', grad_fn=<NllLossBackward0>)\n",
      "epoch 1 iter 297: train loss 6.24991. lr 1.788000e-05:   1%| | 297/50000 [00:15<tensor(6.2630, device='cuda:0', grad_fn=<NllLossBackward0>)\n",
      "epoch 1 iter 298: train loss 6.26295. lr 1.794000e-05:   1%| | 297/50000 [00:15<tensor(6.2455, device='cuda:0', grad_fn=<NllLossBackward0>)\n",
      "epoch 1 iter 299: train loss 6.24547. lr 1.800000e-05:   1%| | 300/50000 [00:15<tensor(6.2978, device='cuda:0', grad_fn=<NllLossBackward0>)\n",
      "epoch 1 iter 300: train loss 6.29775. lr 1.806000e-05:   1%| | 300/50000 [00:15<tensor(6.2261, device='cuda:0', grad_fn=<NllLossBackward0>)\n",
      "epoch 1 iter 301: train loss 6.22607. lr 1.812000e-05:   1%| | 300/50000 [00:15<tensor(6.2508, device='cuda:0', grad_fn=<NllLossBackward0>)\n",
      "epoch 1 iter 302: train loss 6.25080. lr 1.818000e-05:   1%| | 303/50000 [00:15<tensor(6.2300, device='cuda:0', grad_fn=<NllLossBackward0>)\n",
      "epoch 1 iter 303: train loss 6.23004. lr 1.824000e-05:   1%| | 303/50000 [00:15<tensor(6.1887, device='cuda:0', grad_fn=<NllLossBackward0>)\n",
      "epoch 1 iter 304: train loss 6.18870. lr 1.830000e-05:   1%| | 303/50000 [00:15<tensor(6.2688, device='cuda:0', grad_fn=<NllLossBackward0>)\n",
      "epoch 1 iter 305: train loss 6.26879. lr 1.836000e-05:   1%| | 306/50000 [00:15<tensor(6.2669, device='cuda:0', grad_fn=<NllLossBackward0>)\n",
      "epoch 1 iter 306: train loss 6.26689. lr 1.842000e-05:   1%| | 306/50000 [00:15<tensor(6.2562, device='cuda:0', grad_fn=<NllLossBackward0>)\n",
      "epoch 1 iter 307: train loss 6.25616. lr 1.848000e-05:   1%| | 306/50000 [00:15<tensor(6.3042, device='cuda:0', grad_fn=<NllLossBackward0>)\n",
      "epoch 1 iter 308: train loss 6.30416. lr 1.854000e-05:   1%| | 309/50000 [00:15<tensor(6.2646, device='cuda:0', grad_fn=<NllLossBackward0>)\n",
      "epoch 1 iter 309: train loss 6.26461. lr 1.860000e-05:   1%| | 309/50000 [00:15<tensor(6.2747, device='cuda:0', grad_fn=<NllLossBackward0>)\n",
      "epoch 1 iter 310: train loss 6.27475. lr 1.866000e-05:   1%| | 309/50000 [00:15<tensor(6.2146, device='cuda:0', grad_fn=<NllLossBackward0>)\n",
      "epoch 1 iter 311: train loss 6.21461. lr 1.872000e-05:   1%| | 312/50000 [00:15<tensor(6.2414, device='cuda:0', grad_fn=<NllLossBackward0>)\n",
      "epoch 1 iter 312: train loss 6.24135. lr 1.878000e-05:   1%| | 312/50000 [00:15<tensor(6.2193, device='cuda:0', grad_fn=<NllLossBackward0>)\n",
      "epoch 1 iter 313: train loss 6.21931. lr 1.884000e-05:   1%| | 312/50000 [00:16<tensor(6.1969, device='cuda:0', grad_fn=<NllLossBackward0>)\n",
      "epoch 1 iter 314: train loss 6.19687. lr 1.890000e-05:   1%| | 315/50000 [00:16<tensor(6.1565, device='cuda:0', grad_fn=<NllLossBackward0>)\n",
      "epoch 1 iter 315: train loss 6.15649. lr 1.896000e-05:   1%| | 315/50000 [00:16<tensor(6.2347, device='cuda:0', grad_fn=<NllLossBackward0>)\n",
      "epoch 1 iter 316: train loss 6.23466. lr 1.902000e-05:   1%| | 315/50000 [00:16<tensor(6.2360, device='cuda:0', grad_fn=<NllLossBackward0>)\n",
      "epoch 1 iter 317: train loss 6.23603. lr 1.908000e-05:   1%| | 318/50000 [00:16<tensor(6.2429, device='cuda:0', grad_fn=<NllLossBackward0>)\n",
      "epoch 1 iter 318: train loss 6.24286. lr 1.914000e-05:   1%| | 318/50000 [00:16<tensor(6.2198, device='cuda:0', grad_fn=<NllLossBackward0>)\n",
      "epoch 1 iter 319: train loss 6.21977. lr 1.920000e-05:   1%| | 318/50000 [00:16<tensor(6.2469, device='cuda:0', grad_fn=<NllLossBackward0>)\n",
      "epoch 1 iter 320: train loss 6.24690. lr 1.926000e-05:   1%| | 321/50000 [00:16<tensor(6.2043, device='cuda:0', grad_fn=<NllLossBackward0>)\n",
      "epoch 1 iter 321: train loss 6.20431. lr 1.932000e-05:   1%| | 321/50000 [00:16<tensor(6.3965, device='cuda:0', grad_fn=<NllLossBackward0>)\n",
      "epoch 1 iter 322: train loss 6.39651. lr 1.938000e-05:   1%| | 321/50000 [00:16<tensor(6.2288, device='cuda:0', grad_fn=<NllLossBackward0>)\n",
      "epoch 1 iter 323: train loss 6.22876. lr 1.944000e-05:   1%| | 324/50000 [00:16<tensor(6.2114, device='cuda:0', grad_fn=<NllLossBackward0>)\n",
      "epoch 1 iter 324: train loss 6.21137. lr 1.950000e-05:   1%| | 324/50000 [00:16<tensor(6.1106, device='cuda:0', grad_fn=<NllLossBackward0>)\n",
      "epoch 1 iter 325: train loss 6.11065. lr 1.956000e-05:   1%| | 324/50000 [00:16<tensor(6.2868, device='cuda:0', grad_fn=<NllLossBackward0>)\n",
      "epoch 1 iter 326: train loss 6.28678. lr 1.962000e-05:   1%| | 327/50000 [00:16<tensor(6.1752, device='cuda:0', grad_fn=<NllLossBackward0>)\n",
      "epoch 1 iter 327: train loss 6.17521. lr 1.968000e-05:   1%| | 327/50000 [00:16<tensor(6.2378, device='cuda:0', grad_fn=<NllLossBackward0>)\n",
      "epoch 1 iter 328: train loss 6.23777. lr 1.974000e-05:   1%| | 327/50000 [00:16<tensor(6.2356, device='cuda:0', grad_fn=<NllLossBackward0>)\n",
      "epoch 1 iter 329: train loss 6.23557. lr 1.980000e-05:   1%| | 330/50000 [00:16<tensor(6.1789, device='cuda:0', grad_fn=<NllLossBackward0>)\n",
      "epoch 1 iter 330: train loss 6.17887. lr 1.986000e-05:   1%| | 330/50000 [00:16<tensor(6.2092, device='cuda:0', grad_fn=<NllLossBackward0>)\n",
      "epoch 1 iter 331: train loss 6.20918. lr 1.992000e-05:   1%| | 330/50000 [00:16<tensor(6.2107, device='cuda:0', grad_fn=<NllLossBackward0>)\n",
      "epoch 1 iter 332: train loss 6.21070. lr 1.998000e-05:   1%| | 333/50000 [00:16<tensor(6.2347, device='cuda:0', grad_fn=<NllLossBackward0>)\n"
     ]
    }
   ],
   "source": [
    "!python minGPT/minGPT/runStartingPoint.py"
   ]
  },
  {
   "cell_type": "markdown",
   "id": "19ae562f-1b8c-4383-a83d-101983f70ea7",
   "metadata": {},
   "source": [
    "## Step 2: Enabling DeepSpeed\n",
    "\n",
    "Let's start by adapting the previous training scripts to use the DeepSpeed library by making some minimalistic changes in the code. To do so, you will need to:\n",
    "\n",
    "&nbsp; &nbsp; 1.  Modify the relevant sections in [runFirstDeepSpeed.py](./minGPT/minGPT/runFirstDeepSpeed.py)   \n",
    "&nbsp; &nbsp; 2.  Modify the relevant sections in [trainer.py](./minGPT/minGPT/mingpt/trainer.py)   \n",
    "&nbsp; &nbsp; 3.  Create the DeepSpeed configuration file `ds_config_basic.json`   \n",
    "&nbsp; &nbsp; 4.  Run the training with `deepspeed` command\n",
    "\n",
    "\n",
    "### 1.  Modify the \"ToDo Step 2\" sections in the file `runFirstDeepSpeed.py`\n",
    "Open the file [runFirstDeepSpeed.py](./minGPT/minGPT/runFirstDeepSpeed.py) and define the \"ToDo Step 2\" sections to port the code on DeepSpeed. There are 4 sections to be defined.\n",
    "\n",
    "### 2.  Modify the \"ToDo Step 2\" sections in the `trainer.py`\n",
    "Open the file [trainer.py](./minGPT/minGPT/mingpt/trainer.py) and implement the `DeepSpeedTrainer` class by defining the \"ToDo Step 2\" sections. There are 6 sections to be modified/implemented."
   ]
  },
  {
   "cell_type": "markdown",
   "id": "5bba61b3-6626-4ca2-b38c-408dbf57a99f",
   "metadata": {},
   "source": [
    "### 3.  Create the DeepSpeed configuration file `ds_config_basic.json`\n",
    "In the next cell, change the `FIXME` to set:\n",
    "- The micro-batch size per gpu to 8\n",
    "- Make sure to enable Adam optimizer and copy the learning rate from the original code [runStartingPoint.py](./minGPT/minGPT/runStartingPoint.py)\n",
    "- Set the gradient clipping to the value used in the original code [runStartingPoint.py](./minGPT/minGPT/runStartingPoint.py)"
   ]
  },
  {
   "cell_type": "code",
   "execution_count": 2,
   "id": "c9eaaaf7-6af1-44d4-8eba-8143e81dcfb3",
   "metadata": {},
   "outputs": [
    {
     "name": "stdout",
     "output_type": "stream",
     "text": [
      "Overwriting ./minGPT/minGPT/ds_config_basic.json\n"
     ]
    }
   ],
   "source": [
    "%%writefile ./minGPT/minGPT/ds_config_basic.json\n",
    "{\n",
    "  \"train_micro_batch_size_per_gpu\": 8,\n",
    "  \"optimizer\": {\n",
    "    \"type\": \"Adam\",\n",
    "    \"params\": {\n",
    "      \"lr\": 3e-3\n",
    "    }\n",
    "  },\n",
    "  \"gradient_clipping\": 1\n",
    "}"
   ]
  },
  {
   "cell_type": "markdown",
   "id": "ddc199bd-2670-4878-be02-f65a9273540a",
   "metadata": {},
   "source": [
    "### 4.  Run the training with `deepspeed` command\n",
    "\n",
    "The following command should result in 4 GPU training and we should see the training progress. Once again, the goal of this exercise is not to train this model to convergence. Once you see training taking place, you can interrupt the execution and move to the next step."
   ]
  },
  {
   "cell_type": "code",
   "execution_count": 3,
   "id": "8ed7e3b8-820b-4757-b0f0-2d6ad801418f",
   "metadata": {
    "scrolled": true,
    "tags": []
   },
   "outputs": [
    {
     "name": "stdout",
     "output_type": "stream",
     "text": [
      "[2023-03-24 00:59:41,134] [WARNING] [runner.py:159:fetch_hostfile] Unable to find hostfile, will proceed with training with local resources only.\n",
      "[2023-03-24 00:59:41,302] [INFO] [runner.py:457:main] cmd = /opt/conda/bin/python3.8 -u -m deepspeed.launcher.launch --world_info=eyJsb2NhbGhvc3QiOiBbMCwgMSwgMiwgM119 --master_addr=127.0.0.1 --master_port=29500 minGPT/minGPT/runFirstDeepSpeed.py --deepspeed --deepspeed_config minGPT/minGPT/ds_config_basic.json\n",
      "[2023-03-24 00:59:42,841] [INFO] [launch.py:96:main] 0 NCCL_VERSION=2.11.4\n",
      "[2023-03-24 00:59:42,841] [INFO] [launch.py:96:main] 0 NCCL_DISABLE_P2P=1\n",
      "[2023-03-24 00:59:42,841] [INFO] [launch.py:103:main] WORLD INFO DICT: {'localhost': [0, 1, 2, 3]}\n",
      "[2023-03-24 00:59:42,841] [INFO] [launch.py:109:main] nnodes=1, num_local_procs=4, node_rank=0\n",
      "[2023-03-24 00:59:42,842] [INFO] [launch.py:122:main] global_rank_mapping=defaultdict(<class 'list'>, {'localhost': [0, 1, 2, 3]})\n",
      "[2023-03-24 00:59:42,842] [INFO] [launch.py:123:main] dist_world_size=4\n",
      "[2023-03-24 00:59:42,842] [INFO] [launch.py:125:main] Setting CUDA_VISIBLE_DEVICES=0,1,2,3\n",
      "[2023-03-24 00:59:44,611] [INFO] [distributed.py:48:init_distributed] Initializing torch distributed with backend: nccl\n",
      "Files already downloaded and verifiedFiles already downloaded and verifiedFiles already downloaded and verifiedFiles already downloaded and verified\n",
      "\n",
      "\n",
      "\n",
      "Files already downloaded and verifiedFiles already downloaded and verifiedFiles already downloaded and verifiedFiles already downloaded and verified\n",
      "\n",
      "\n",
      "\n",
      "done step 1/8, re-initialized 4 dead clusters\n",
      "done step 1/8, re-initialized 4 dead clusters\n",
      "done step 1/8, re-initialized 4 dead clusters\n",
      "done step 1/8, re-initialized 4 dead clusters\n",
      "done step 2/8, re-initialized 0 dead clusters\n",
      "done step 2/8, re-initialized 0 dead clusters\n",
      "done step 2/8, re-initialized 0 dead clusters\n",
      "done step 2/8, re-initialized 0 dead clusters\n",
      "done step 3/8, re-initialized 0 dead clusters\n",
      "done step 3/8, re-initialized 0 dead clusters\n",
      "done step 3/8, re-initialized 0 dead clusters\n",
      "done step 3/8, re-initialized 0 dead clusters\n",
      "done step 4/8, re-initialized 0 dead clusters\n",
      "done step 4/8, re-initialized 0 dead clusters\n",
      "done step 4/8, re-initialized 0 dead clusters\n",
      "done step 4/8, re-initialized 0 dead clusters\n",
      "done step 5/8, re-initialized 0 dead clusters\n",
      "done step 5/8, re-initialized 0 dead clusters\n",
      "done step 5/8, re-initialized 0 dead clusters\n",
      "done step 5/8, re-initialized 0 dead clusters\n",
      "done step 6/8, re-initialized 0 dead clusters\n",
      "done step 6/8, re-initialized 0 dead clusters\n",
      "done step 6/8, re-initialized 0 dead clusters\n",
      "done step 6/8, re-initialized 0 dead clusters\n",
      "done step 7/8, re-initialized 0 dead clusters\n",
      "done step 7/8, re-initialized 0 dead clusters\n",
      "done step 7/8, re-initialized 0 dead clusters\n",
      "done step 7/8, re-initialized 0 dead clusters\n",
      "done step 8/8, re-initialized 0 dead clusters\n",
      "done step 8/8, re-initialized 0 dead clusters\n",
      "done step 8/8, re-initialized 0 dead clusters\n",
      "03/24/2023 01:00:21 - INFO - mingpt.model -   number of parameters: 1.000166e+07\n",
      "03/24/2023 01:00:21 - INFO - mingpt.model -   number of parameters: 1.000166e+07\n",
      "done step 8/8, re-initialized 0 dead clusters\n",
      "03/24/2023 01:00:21 - INFO - mingpt.model -   number of parameters: 1.000166e+07\n",
      "03/24/2023 01:00:21 - INFO - mingpt.model -   number of parameters: 1.000166e+07\n",
      "  0%|                                                 | 0/50000 [00:00<?, ?it/s]/opt/conda/lib/python3.8/site-packages/torch/nn/parallel/_functions.py:68: UserWarning: Was asked to gather along dimension 0, but all input tensors were scalars; will instead unsqueeze and return a vector.\n",
      "  warnings.warn('Was asked to gather along dimension 0, but all '\n",
      "/opt/conda/lib/python3.8/site-packages/torch/nn/parallel/_functions.py:68: UserWarning: Was asked to gather along dimension 0, but all input tensors were scalars; will instead unsqueeze and return a vector.\n",
      "  warnings.warn('Was asked to gather along dimension 0, but all '\n",
      "/opt/conda/lib/python3.8/site-packages/torch/nn/parallel/_functions.py:68: UserWarning: Was asked to gather along dimension 0, but all input tensors were scalars; will instead unsqueeze and return a vector.\n",
      "  warnings.warn('Was asked to gather along dimension 0, but all '\n",
      "epoch 1 iter 1: train loss 6.27269. lr 1.200000e-07:   0%| | 2/50000 [00:01<8:15/opt/conda/lib/python3.8/site-packages/torch/nn/parallel/_functions.py:68: UserWarning: Was asked to gather along dimension 0, but all input tensors were scalars; will instead unsqueeze and return a vector.\n",
      "  warnings.warn('Was asked to gather along dimension 0, but all '\n",
      "epoch 1 iter 130: train loss 6.10531. lr 7.860000e-06:   0%| | 131/50000 [00:25<^C\n",
      "[2023-03-24 01:00:50,368] [INFO] [launch.py:178:sigkill_handler] Killing subprocess 622\n",
      "epoch 1 iter 130: train loss 6.10531. lr 7.860000e-06:   0%| | 131/50000 [00:25<\n",
      "[2023-03-24 01:00:50,368] [INFO] [launch.py:178:sigkill_handler] Killing subprocess 623\n",
      "Traceback (most recent call last):\n",
      "  File \"minGPT/minGPT/runFirstDeepSpeed.py\", line 80, in <module>\n",
      "    trainer.train()\n",
      "  File \"/dli/minGPT/minGPT/mingpt/trainer.py\", line 87, in train\n",
      "[2023-03-24 01:00:50,369] [INFO] [launch.py:178:sigkill_handler] Killing subprocess 624\n",
      "    run_epoch(train_loader, is_train=True)\n",
      "  File \"/dli/minGPT/minGPT/mingpt/trainer.py\", line 57, in run_epoch\n",
      "    optimizer.step()\n",
      "  File \"/opt/conda/lib/python3.8/site-packages/torch/optim/optimizer.py\", line 88, in wrapper\n",
      "[2023-03-24 01:00:50,369] [INFO] [launch.py:178:sigkill_handler] Killing subprocess 625\n",
      "[2023-03-24 01:00:50,369] [INFO] [launch.py:187:sigkill_handler] Main process received SIGINT, exiting\n"
     ]
    }
   ],
   "source": [
    "!deepspeed minGPT/minGPT/runFirstDeepSpeed.py --deepspeed --deepspeed_config minGPT/minGPT/ds_config_basic.json"
   ]
  },
  {
   "cell_type": "markdown",
   "id": "583ed01e-9ca5-441c-9275-d4573115d1b7",
   "metadata": {},
   "source": [
    "## Step 3: Multi node execution\n",
    "\n",
    "The above code executed on 4 GPUs for this particular node, but our goal is to make it work across the two nodes we have used earlier in the class. Please reuse the code we have worked with earlier to launch a two node job executing the above. Let us start by creating the appropriate shell script:"
   ]
  },
  {
   "cell_type": "code",
   "execution_count": 4,
   "id": "62ab689f-eb64-4881-a7da-fbf963bd7721",
   "metadata": {},
   "outputs": [
    {
     "name": "stdout",
     "output_type": "stream",
     "text": [
      "Overwriting ./minGPT/minGPT/runSlurmStep3.sh\n"
     ]
    }
   ],
   "source": [
    "%%writefile ./minGPT/minGPT/runSlurmStep3.sh\n",
    "#!/bin/bash\n",
    "#SBATCH --job-name=dli_assessment_step3\n",
    "#SBATCH --nodes=2\n",
    "#SBATCH --ntasks-per-node=1       \n",
    "#SBATCH --cpus-per-task=32 ### Number of threads per task (OMP threads)\n",
    "#SBATCH -o /dli/megatron/logs/%j.out\n",
    "#SBATCH -e /dli/megatron/logs/%j.err\n",
    "\n",
    "# Number of nodes\n",
    "NUM_NODES=2\n",
    "# Number of GPUs per node\n",
    "NUM_GPUS=2\n",
    "\n",
    "deepspeed --num_nodes=${NUM_NODES} --hostfile /dli/minGPT/minGPT/hostfile --num_gpus=${NUM_GPUS} /dli/minGPT/minGPT/runFirstDeepSpeed.py \\\n",
    "    --deepspeed \\\n",
    "    --deepspeed_config /dli/minGPT/minGPT/ds_config_basic.json"
   ]
  },
  {
   "cell_type": "markdown",
   "id": "83193290-4079-4a9d-a1b0-17f939b45d29",
   "metadata": {},
   "source": [
    "Please modify the below to enable multi-node execution. Please use the below command to execute your multi-node job (this is the command that will be used for assessment so do not change the file names or paths)."
   ]
  },
  {
   "cell_type": "code",
   "execution_count": 133,
   "id": "7fae3988-8796-4c1c-873a-f4828c90310c",
   "metadata": {},
   "outputs": [
    {
     "name": "stdout",
     "output_type": "stream",
     "text": [
      "Submitted batch job 14\n",
      "             JOBID PARTITION     NAME     USER ST       TIME  NODES NODELIST(REASON)\n",
      "                14  slurmpar dli_asse    admin PD       0:00      2 (None)\n"
     ]
    }
   ],
   "source": [
    "!sbatch ./minGPT/minGPT/runSlurmStep3.sh\n",
    "!squeue"
   ]
  },
  {
   "cell_type": "markdown",
   "id": "a3d3d948-32ac-4043-aa99-1b0ce50108a8",
   "metadata": {},
   "source": [
    "Once the above executes, we should be able to see output and error logs with the commands below. Make sure to copy the job ID to the below command. Once again, make sure the code deploys logs out the below location with the below file name structure as those will be inspected for the assessment."
   ]
  },
  {
   "cell_type": "code",
   "execution_count": 135,
   "id": "6e584a73-c60d-43c0-bd6c-6c2a4725ae83",
   "metadata": {
    "scrolled": true,
    "tags": []
   },
   "outputs": [
    {
     "name": "stdout",
     "output_type": "stream",
     "text": [
      "[2023-03-24 01:01:03,447] [INFO] [runner.py:378:main] Using IP address of 172.18.0.9 for node slurmnode1\n",
      "[2023-03-24 01:01:03,448] [INFO] [multinode_runner.py:65:get_cmd] Running on the following workers: slurmnode1,slurmnode2\n",
      "[2023-03-24 01:01:03,448] [INFO] [runner.py:457:main] cmd = pdsh -f 1024 -w slurmnode1,slurmnode2 export NCCL_VERSION=2.11.4; export PYTHONPATH=/dli:/etc/assessment/; export PYTHONIOENCODING=utf-8; export NCCL_DISABLE_P2P=1;  cd /dli; /opt/conda/bin/python3.8 -u -m deepspeed.launcher.launch --world_info=eyJzbHVybW5vZGUxIjogWzAsIDFdLCAic2x1cm1ub2RlMiI6IFswLCAxXX0= --node_rank=%n --master_addr=172.18.0.9 --master_port=29500 /dli/minGPT/minGPT/runFirstDeepSpeed.py --deepspeed --deepspeed_config '/dli/minGPT/minGPT/ds_config_basic.json'\n",
      "slurmnode1: [2023-03-24 01:01:05,746] [INFO] [launch.py:96:main] 0 NCCL_VERSION=2.11.4\n",
      "slurmnode1: [2023-03-24 01:01:05,746] [INFO] [launch.py:96:main] 0 NCCL_DISABLE_P2P=1\n",
      "slurmnode1: [2023-03-24 01:01:05,746] [INFO] [launch.py:103:main] WORLD INFO DICT: {'slurmnode1': [0, 1], 'slurmnode2': [0, 1]}\n",
      "slurmnode1: [2023-03-24 01:01:05,746] [INFO] [launch.py:109:main] nnodes=2, num_local_procs=2, node_rank=0\n",
      "slurmnode1: [2023-03-24 01:01:05,746] [INFO] [launch.py:122:main] global_rank_mapping=defaultdict(<class 'list'>, {'slurmnode1': [0, 1], 'slurmnode2': [2, 3]})\n",
      "slurmnode1: [2023-03-24 01:01:05,746] [INFO] [launch.py:123:main] dist_world_size=4\n",
      "slurmnode1: [2023-03-24 01:01:05,746] [INFO] [launch.py:125:main] Setting CUDA_VISIBLE_DEVICES=0,1\n",
      "slurmnode2: [2023-03-24 01:01:05,769] [INFO] [launch.py:96:main] 1 NCCL_VERSION=2.11.4\n",
      "slurmnode2: [2023-03-24 01:01:05,769] [INFO] [launch.py:96:main] 1 NCCL_DISABLE_P2P=1\n",
      "slurmnode2: [2023-03-24 01:01:05,769] [INFO] [launch.py:103:main] WORLD INFO DICT: {'slurmnode1': [0, 1], 'slurmnode2': [0, 1]}\n",
      "slurmnode2: [2023-03-24 01:01:05,769] [INFO] [launch.py:109:main] nnodes=2, num_local_procs=2, node_rank=1\n",
      "slurmnode2: [2023-03-24 01:01:05,769] [INFO] [launch.py:122:main] global_rank_mapping=defaultdict(<class 'list'>, {'slurmnode1': [0, 1], 'slurmnode2': [2, 3]})\n",
      "slurmnode2: [2023-03-24 01:01:05,769] [INFO] [launch.py:123:main] dist_world_size=4\n",
      "slurmnode2: [2023-03-24 01:01:05,769] [INFO] [launch.py:125:main] Setting CUDA_VISIBLE_DEVICES=0,1\n",
      "slurmnode1: [2023-03-24 01:01:07,493] [INFO] [distributed.py:48:init_distributed] Initializing torch distributed with backend: nccl\n",
      "slurmnode1: Downloading https://www.cs.toronto.edu/~kriz/cifar-10-python.tar.gz to ./cifar-10-python.tar.gz\n",
      "slurmnode1: Downloading https://www.cs.toronto.edu/~kriz/cifar-10-python.tar.gz to ./cifar-10-python.tar.gz\n",
      "slurmnode2: Downloading https://www.cs.toronto.edu/~kriz/cifar-10-python.tar.gz to ./cifar-10-python.tar.gz\n",
      "slurmnode2: Downloading https://www.cs.toronto.edu/~kriz/cifar-10-python.tar.gz to ./cifar-10-python.tar.gz\n",
      "slurmnode1: Extracting ./cifar-10-python.tar.gz to ./\n",
      "slurmnode1: Extracting ./cifar-10-python.tar.gz to ./\n",
      "slurmnode2: Extracting ./cifar-10-python.tar.gz to ./\n",
      "slurmnode2: Extracting ./cifar-10-python.tar.gz to ./\n",
      "slurmnode1: Files already downloaded and verifiedFiles already downloaded and verified\n",
      "slurmnode1: \n",
      "slurmnode2: Files already downloaded and verifiedFiles already downloaded and verified\n",
      "slurmnode2: \n",
      "slurmnode1: done step 1/8, re-initialized 4 dead clusters\n",
      "slurmnode1: done step 1/8, re-initialized 4 dead clusters\n",
      "slurmnode2: done step 1/8, re-initialized 4 dead clusters\n",
      "slurmnode2: done step 1/8, re-initialized 4 dead clusters\n",
      "slurmnode1: done step 2/8, re-initialized 0 dead clusters\n",
      "slurmnode1: done step 2/8, re-initialized 0 dead clusters\n",
      "slurmnode2: done step 2/8, re-initialized 0 dead clusters\n",
      "slurmnode2: done step 2/8, re-initialized 0 dead clusters\n",
      "slurmnode1: done step 3/8, re-initialized 0 dead clusters\n",
      "slurmnode1: done step 3/8, re-initialized 0 dead clusters\n",
      "slurmnode2: done step 3/8, re-initialized 0 dead clusters\n",
      "slurmnode2: done step 3/8, re-initialized 0 dead clusters\n",
      "slurmnode1: done step 4/8, re-initialized 0 dead clusters\n",
      "slurmnode1: done step 4/8, re-initialized 0 dead clusters\n",
      "slurmnode2: done step 4/8, re-initialized 0 dead clusters\n",
      "slurmnode2: done step 4/8, re-initialized 0 dead clusters\n",
      "slurmnode1: done step 5/8, re-initialized 0 dead clusters\n",
      "slurmnode1: done step 5/8, re-initialized 0 dead clusters\n",
      "slurmnode2: done step 5/8, re-initialized 0 dead clusters\n",
      "slurmnode2: done step 5/8, re-initialized 0 dead clusters\n",
      "slurmnode1: done step 6/8, re-initialized 0 dead clusters\n",
      "slurmnode1: done step 6/8, re-initialized 0 dead clusters\n",
      "slurmnode2: done step 6/8, re-initialized 0 dead clusters\n",
      "slurmnode2: done step 6/8, re-initialized 0 dead clusters\n"
     ]
    }
   ],
   "source": [
    "!JOB_ID=2;cat /dli/megatron/logs/$JOB_ID.out"
   ]
  },
  {
   "cell_type": "code",
   "execution_count": 56,
   "id": "83fe2de0-5d66-4880-ab10-074bc896e1ae",
   "metadata": {},
   "outputs": [
    {
     "name": "stdout",
     "output_type": "stream",
     "text": [
      "slurmnode2: Warning: Permanently added 'slurmnode2,172.18.0.3' (ECDSA) to the list of known hosts.\n",
      "170499072it [00:08, 20636322.81it/s]                               \n",
      "170499072it [00:08, 20466335.12it/s]                               \n",
      "170499072it [00:08, 20188765.00it/s]                               \n",
      "170499072it [00:08, 20140134.50it/s]                               \n",
      "slurmstepd-slurmnode1: error: *** JOB 2 ON slurmnode1 CANCELLED AT 2023-03-24T01:01:51 ***\n"
     ]
    }
   ],
   "source": [
    "!JOB_ID=2;cat /dli/megatron/logs/$JOB_ID.err"
   ]
  },
  {
   "cell_type": "markdown",
   "id": "ee6cbe44-51ad-4411-8ef5-792075915855",
   "metadata": {},
   "source": [
    "Once you are happy with your code, please make sure the batch job is terminated before going to the next step."
   ]
  },
  {
   "cell_type": "code",
   "execution_count": 136,
   "id": "3c2e59b2-a040-40e7-bb47-022eba1f15d3",
   "metadata": {},
   "outputs": [
    {
     "name": "stdout",
     "output_type": "stream",
     "text": [
      "             JOBID PARTITION     NAME     USER ST       TIME  NODES NODELIST(REASON)\n",
      "                14  slurmpar dli_asse    admin  R       0:44      2 slurmnode[1-2]\n"
     ]
    }
   ],
   "source": [
    "!squeue"
   ]
  },
  {
   "cell_type": "code",
   "execution_count": 137,
   "id": "a98f6482-d538-4e28-b299-5bc0e3824cc3",
   "metadata": {},
   "outputs": [],
   "source": [
    "!scancel  14"
   ]
  },
  {
   "cell_type": "markdown",
   "id": "1c18320d-6f90-41b5-93ea-b2c6afc36317",
   "metadata": {},
   "source": [
    "## Step 4: Further code improvement\n",
    "\n",
    "We are missing capability to do activation checkpointing. In this step, we will introduce code that will allow us to do activation checkpointing with DeepSpeed library.\n",
    "\n",
    "&nbsp; &nbsp; 1. Define the transformer blocks for activation checkpointing   \n",
    "&nbsp; &nbsp; 2. Create the DeepSeed configuration file enabeling activation checkpointing and FP16 training   \n",
    "&nbsp; &nbsp; 3. Create and run the sbatch training file  "
   ]
  },
  {
   "cell_type": "markdown",
   "id": "b7c1cd8f",
   "metadata": {},
   "source": [
    "### 1. Define the transformer blocks for activation checkpointing\n",
    "\n",
    "To enable activation checkpointing of a model (or part of the model) with DeepSpeed, at the forward pass definition, we need to wrap each block with the function `deepspeed.checkpointing.checkpoint()` ([learn more](https://deepspeed.readthedocs.io/en/stable/activation-checkpointing.html#deepspeed.checkpointing.checkpoint)). \n",
    "\n",
    "The example bellow shows a simple convolutional Netowrk definition with 2 CNN blocks followed by a linear layer in which the CNN blocks are wrapped for activation checkpointing with DeepSpeed.\n",
    "\n",
    "```\n",
    "class CNN(nn.Module):\n",
    "    def __init__(self):\n",
    "        super().__init__()\n",
    "        self.cnn_block_1 = nn.Sequential(*[nn.Conv2d(3, 32, 3, padding=1),nn.ReLU(),nn.MaxPool2d(kernel_size=2)])\n",
    "        self.cnn_block_2 = nn.Sequential(*[nn.Conv2d(64, 64, 3, padding=1),nn.ReLU(),nn.MaxPool2d(kernel_size=2)])\n",
    "        self.flatten = lambda inp: torch.flatten(inp, 1)\n",
    "        self.linearize = nn.Sequential(*[ nn.Linear(64 * 8 * 8, 512),nn.ReLU()])\n",
    "        self.out = nn.Linear(512, 10)\n",
    "    \n",
    "    def forward(self, X):\n",
    "        X = deepspeed.checkpointing.checkpoint(self.cnn_block_1, X)\n",
    "        X = deepspeed.checkpointing.checkpoint(self.cnn_block_2, X)\n",
    "        X = self.flatten(X)\n",
    "        X = self.linearize(X)\n",
    "        X = self.out(X)\n",
    "        return X\n",
    "\n",
    "```\n",
    "A similar mechanism is implemented with torch via the function `torch.utils.checkpoint.checkpoint()`.\n",
    "\n",
    "\n",
    "In our case, the VisionTransformer model is implemented as the GPT class in the file `./minGPT/minGPT/mingpt/model.py`. You need to make the transformer blocks wrapped by the DeepSpeed activation checkpointing. Modify the \"Step 4 ToDo\" task in [model.py](./minGPT/minGPT/mingpt/model.py) file. \n"
   ]
  },
  {
   "cell_type": "markdown",
   "id": "3533ffd5",
   "metadata": {},
   "source": [
    "### 2. Create the DeepSeed configuration file\n",
    "\n",
    "Before starting, you can check the DeepSpeed documentation of the config-json file for the [activation-checkpointing.](https://www.deepspeed.ai/docs/config-json/#activation-checkpointing)\n",
    "\n",
    "Create the `ds_config_step4.json` by modifying the `#FIXME` in the cell bellow to:\n",
    "- Enable activation checkpointing\n",
    "- Make the micro batch size per GPU to 128 to make sure activation checkpointing is working well\n",
    "- Make the number of checkpoints to 12\n",
    "- Enable FP16 training\n",
    "\n"
   ]
  },
  {
   "cell_type": "code",
   "execution_count": 59,
   "id": "0112af26",
   "metadata": {},
   "outputs": [
    {
     "name": "stdout",
     "output_type": "stream",
     "text": [
      "Overwriting minGPT/minGPT/ds_config_step4.json\n"
     ]
    }
   ],
   "source": [
    "%%writefile minGPT/minGPT/ds_config_step4.json\n",
    "{\n",
    "  \"train_micro_batch_size_per_gpu\": 128,\n",
    "  \"optimizer\": {\n",
    "    \"type\": \"Adam\",\n",
    "    \"params\": {\n",
    "      \"lr\": 3e-4\n",
    "    }\n",
    "  },\n",
    "  \"gradient_clipping\": 1.0,\n",
    "  \"activation_checkpointing\": {\"number_checkpoints\": 12}, \n",
    "  \"fp16\": {\n",
    "    \"enabled\": true\n",
    "  }\n",
    "}"
   ]
  },
  {
   "cell_type": "markdown",
   "id": "72f43cef",
   "metadata": {},
   "source": [
    "### 3. Run the sbatch training file\n",
    "\n",
    "\n",
    "Let's start by creating copies of the training python scripts `runFirstDeepSpeed.py`."
   ]
  },
  {
   "cell_type": "code",
   "execution_count": 61,
   "id": "aa3bad5d",
   "metadata": {},
   "outputs": [],
   "source": [
    "!cp /dli/minGPT/minGPT/runFirstDeepSpeed.py /dli/minGPT/minGPT/runStep4.py"
   ]
  },
  {
   "cell_type": "markdown",
   "id": "af37d3a0",
   "metadata": {},
   "source": [
    "Let's now create the sbatch file `runSlurmStep4.sh`."
   ]
  },
  {
   "cell_type": "code",
   "execution_count": 62,
   "id": "7efe061f",
   "metadata": {},
   "outputs": [
    {
     "name": "stdout",
     "output_type": "stream",
     "text": [
      "Overwriting ./minGPT/minGPT/runSlurmStep4.sh\n"
     ]
    }
   ],
   "source": [
    "%%writefile ./minGPT/minGPT/runSlurmStep4.sh\n",
    "#!/bin/bash\n",
    "#SBATCH --job-name=dli_assessment_step4\n",
    "#SBATCH --nodes=2\n",
    "#SBATCH --ntasks-per-node=1       \n",
    "#SBATCH --cpus-per-task=32 ### Number of threads per task (OMP threads)\n",
    "#SBATCH -o /dli/megatron/logs/%j.out\n",
    "#SBATCH -e /dli/megatron/logs/%j.err\n",
    "\n",
    "# Number of nodes\n",
    "NUM_NODES=2\n",
    "# Number of GPUs per node\n",
    "NUM_GPUS=2\n",
    "\n",
    "deepspeed --num_nodes=${NUM_NODES} --hostfile /dli/minGPT/minGPT/hostfile --num_gpus=${NUM_GPUS} /dli/minGPT/minGPT/runStep4.py \\\n",
    "    --deepspeed \\\n",
    "    --deepspeed_config /dli/minGPT/minGPT/ds_config_step4.json"
   ]
  },
  {
   "cell_type": "markdown",
   "id": "0cb16851",
   "metadata": {},
   "source": [
    "Once you have done the above, please run the with the below command to submit the training job to the slurm scheduler."
   ]
  },
  {
   "cell_type": "code",
   "execution_count": 63,
   "id": "e8a10d38-9eda-41e2-bcce-8156caced370",
   "metadata": {},
   "outputs": [
    {
     "name": "stdout",
     "output_type": "stream",
     "text": [
      "Submitted batch job 9\n",
      "             JOBID PARTITION     NAME     USER ST       TIME  NODES NODELIST(REASON)\n",
      "                 9  slurmpar dli_asse    admin  R       0:01      2 slurmnode[1-2]\n"
     ]
    }
   ],
   "source": [
    "!sbatch /dli/minGPT/minGPT/runSlurmStep4.sh\n",
    "!squeue"
   ]
  },
  {
   "cell_type": "markdown",
   "id": "59e7261f-bd99-4cea-98b6-5be237aa3446",
   "metadata": {},
   "source": [
    "Verify the execution of your code using the below (you should see it progress despite the large batch size):"
   ]
  },
  {
   "cell_type": "code",
   "execution_count": 170,
   "id": "0e3bf8a5-c6f8-4e16-89ea-b65cfc0aefe1",
   "metadata": {},
   "outputs": [
    {
     "name": "stdout",
     "output_type": "stream",
     "text": [
      "[2023-03-24 01:38:46,775] [INFO] [runner.py:378:main] Using IP address of 172.18.0.9 for node slurmnode1\n",
      "[2023-03-24 01:38:46,776] [INFO] [multinode_runner.py:65:get_cmd] Running on the following workers: slurmnode1,slurmnode2\n",
      "[2023-03-24 01:38:46,776] [INFO] [runner.py:457:main] cmd = pdsh -f 1024 -w slurmnode1,slurmnode2 export NCCL_VERSION=2.11.4; export PYTHONPATH=/dli:/etc/assessment/; export PYTHONIOENCODING=utf-8; export NCCL_DISABLE_P2P=1;  cd /dli; /opt/conda/bin/python3.8 -u -m deepspeed.launcher.launch --world_info=eyJzbHVybW5vZGUxIjogWzAsIDFdLCAic2x1cm1ub2RlMiI6IFswLCAxXX0= --node_rank=%n --master_addr=172.18.0.9 --master_port=29500 /dli/minGPT/minGPT/runStep4.py --deepspeed --deepspeed_config '/dli/minGPT/minGPT/ds_config_step4.json'\n",
      "slurmnode1: [2023-03-24 01:38:49,071] [INFO] [launch.py:96:main] 0 NCCL_VERSION=2.11.4\n",
      "slurmnode1: [2023-03-24 01:38:49,071] [INFO] [launch.py:96:main] 0 NCCL_DISABLE_P2P=1\n",
      "slurmnode1: [2023-03-24 01:38:49,071] [INFO] [launch.py:103:main] WORLD INFO DICT: {'slurmnode1': [0, 1], 'slurmnode2': [0, 1]}\n",
      "slurmnode1: [2023-03-24 01:38:49,071] [INFO] [launch.py:109:main] nnodes=2, num_local_procs=2, node_rank=0\n",
      "slurmnode1: [2023-03-24 01:38:49,071] [INFO] [launch.py:122:main] global_rank_mapping=defaultdict(<class 'list'>, {'slurmnode1': [0, 1], 'slurmnode2': [2, 3]})\n",
      "slurmnode1: [2023-03-24 01:38:49,071] [INFO] [launch.py:123:main] dist_world_size=4\n",
      "slurmnode1: [2023-03-24 01:38:49,072] [INFO] [launch.py:125:main] Setting CUDA_VISIBLE_DEVICES=0,1\n",
      "slurmnode2: [2023-03-24 01:38:49,085] [INFO] [launch.py:96:main] 1 NCCL_VERSION=2.11.4\n",
      "slurmnode2: [2023-03-24 01:38:49,085] [INFO] [launch.py:96:main] 1 NCCL_DISABLE_P2P=1\n",
      "slurmnode2: [2023-03-24 01:38:49,085] [INFO] [launch.py:103:main] WORLD INFO DICT: {'slurmnode1': [0, 1], 'slurmnode2': [0, 1]}\n",
      "slurmnode2: [2023-03-24 01:38:49,085] [INFO] [launch.py:109:main] nnodes=2, num_local_procs=2, node_rank=1\n",
      "slurmnode2: [2023-03-24 01:38:49,085] [INFO] [launch.py:122:main] global_rank_mapping=defaultdict(<class 'list'>, {'slurmnode1': [0, 1], 'slurmnode2': [2, 3]})\n",
      "slurmnode2: [2023-03-24 01:38:49,085] [INFO] [launch.py:123:main] dist_world_size=4\n",
      "slurmnode2: [2023-03-24 01:38:49,085] [INFO] [launch.py:125:main] Setting CUDA_VISIBLE_DEVICES=0,1\n",
      "slurmnode1: [2023-03-24 01:38:50,797] [INFO] [distributed.py:48:init_distributed] Initializing torch distributed with backend: nccl\n",
      "slurmnode1: Files already downloaded and verified\n",
      "slurmnode1: Files already downloaded and verified\n",
      "slurmnode2: Files already downloaded and verifiedFiles already downloaded and verified\n",
      "slurmnode2: \n",
      "slurmnode1: Files already downloaded and verifiedFiles already downloaded and verified\n",
      "slurmnode1: \n",
      "slurmnode2: Files already downloaded and verifiedFiles already downloaded and verified\n",
      "slurmnode2: \n",
      "slurmnode1: done step 1/8, re-initialized 4 dead clusters\n",
      "slurmnode2: done step 1/8, re-initialized 4 dead clusters\n",
      "slurmnode2: done step 1/8, re-initialized 4 dead clusters\n",
      "slurmnode1: done step 1/8, re-initialized 4 dead clusters\n",
      "slurmnode1: done step 2/8, re-initialized 0 dead clusters\n",
      "slurmnode2: done step 2/8, re-initialized 0 dead clusters\n",
      "slurmnode1: done step 2/8, re-initialized 0 dead clusters\n",
      "slurmnode2: done step 2/8, re-initialized 0 dead clusters\n",
      "slurmnode2: done step 3/8, re-initialized 0 dead clusters\n",
      "slurmnode1: done step 3/8, re-initialized 0 dead clusters\n",
      "slurmnode1: done step 3/8, re-initialized 0 dead clusters\n",
      "slurmnode2: done step 3/8, re-initialized 0 dead clusters\n",
      "slurmnode2: done step 4/8, re-initialized 0 dead clusters\n",
      "slurmnode1: done step 4/8, re-initialized 0 dead clusters\n",
      "slurmnode1: done step 4/8, re-initialized 0 dead clusters\n",
      "slurmnode2: done step 4/8, re-initialized 0 dead clusters\n",
      "slurmnode2: done step 5/8, re-initialized 0 dead clusters\n",
      "slurmnode1: done step 5/8, re-initialized 0 dead clusters\n",
      "slurmnode1: done step 5/8, re-initialized 0 dead clusters\n",
      "slurmnode2: done step 5/8, re-initialized 0 dead clusters\n",
      "slurmnode2: done step 6/8, re-initialized 0 dead clusters\n",
      "slurmnode1: done step 6/8, re-initialized 0 dead clusters\n",
      "slurmnode1: done step 6/8, re-initialized 0 dead clusters\n",
      "slurmnode2: done step 7/8, re-initialized 0 dead clusters\n",
      "slurmnode2: done step 6/8, re-initialized 0 dead clusters\n",
      "slurmnode1: done step 7/8, re-initialized 0 dead clusters\n",
      "slurmnode1: done step 7/8, re-initialized 0 dead clusters\n",
      "slurmnode2: done step 8/8, re-initialized 0 dead clusters\n",
      "slurmnode2: done step 7/8, re-initialized 0 dead clusters\n",
      "slurmnode1: done step 8/8, re-initialized 0 dead clusters\n",
      "slurmnode1: done step 8/8, re-initialized 0 dead clusters\n",
      "slurmnode2: done step 8/8, re-initialized 0 dead clusters\n",
      "slurmnode1: [2023-03-24 01:39:31,108] [INFO] [checkpointing.py:547:forward] Activation Checkpointing Information\n",
      "slurmnode1: [2023-03-24 01:39:31,108] [INFO] [checkpointing.py:548:forward] ----Partition Activations False, CPU CHECKPOINTING False\n",
      "slurmnode1: [2023-03-24 01:39:31,108] [INFO] [checkpointing.py:551:forward] ----contiguous Memory Checkpointing False with None total layers\n",
      "slurmnode1: [2023-03-24 01:39:31,108] [INFO] [checkpointing.py:554:forward] ----Synchronization False\n",
      "slurmnode1: [2023-03-24 01:39:31,108] [INFO] [checkpointing.py:555:forward] ----Profiling time in checkpointing False\n"
     ]
    }
   ],
   "source": [
    "!JOB_ID=9;cat /dli/megatron/logs/$JOB_ID.out"
   ]
  },
  {
   "cell_type": "code",
   "execution_count": 73,
   "id": "7f84c360-9eb9-41aa-ab6c-b1eaec2add62",
   "metadata": {},
   "outputs": [
    {
     "name": "stdout",
     "output_type": "stream",
     "text": [
      "slurmnode2: 03/24/2023 01:39:26 - INFO - mingpt.model -   number of parameters: 1.000166e+07\n",
      "slurmnode1: 03/24/2023 01:39:27 - INFO - mingpt.model -   number of parameters: 1.000166e+07\n",
      "slurmnode1: 03/24/2023 01:39:28 - INFO - mingpt.model -   number of parameters: 1.000166e+07\n",
      "slurmnode2: 03/24/2023 01:39:28 - INFO - mingpt.model -   number of parameters: 1.000166e+07\n",
      "  0%|          | 0/50000 [00:00<?, ?it/s]/opt/conda/lib/python3.8/site-packages/torch/nn/parallel/_functions.py:68: UserWarning: Was asked to gather along dimension 0, but all input tensors were scalars; will instead unsqueeze and return a vector.\n",
      "slurmnode2:   warnings.warn('Was asked to gather along dimension 0, but all '\n",
      "  0%|          | 0/50000 [00:00<?, ?it/s]/opt/conda/lib/python3.8/site-packages/torch/nn/parallel/_functions.py:68: UserWarning: Was asked to gather along dimension 0, but all input tensors were scalars; will instead unsqueeze and return a vector.\n",
      "slurmnode1:   warnings.warn('Was asked to gather along dimension 0, but all '\n",
      "epoch 1 iter 0: train loss 6.30214. lr 6.000000e-08:   0%|          | 1/50000 [00:01<16:46:19,  1.21s/it]/opt/conda/lib/python3.8/site-packages/torch/nn/parallel/_functions.py:68: UserWarning: Was asked to gather along dimension 0, but all input tensors were scalars; will instead unsqueeze and return a vector.\n",
      "slurmnode1:   warnings.warn('Was asked to gather along dimension 0, but all '\n",
      "epoch 1 iter 8: train loss 6.25080. lr 5.400000e-07:   0%|          | 8/50000 [00:02<2:08:42,  6.47it/s]/opt/conda/lib/python3.8/site-packages/torch/nn/parallel/_functions.py:68: UserWarning: Was asked to gather along dimension 0, but all input tensors were scalars; will instead unsqueeze and return a vector.\n",
      "slurmnode2:   warnings.warn('Was asked to gather along dimension 0, but all '\n"
     ]
    }
   ],
   "source": [
    "!JOB_ID=9;cat /dli/megatron/logs/$JOB_ID.err"
   ]
  },
  {
   "cell_type": "markdown",
   "id": "817e2925-d6f1-456b-bfa9-dbec7325df58",
   "metadata": {},
   "source": [
    "Don't forget to cancel execution of your batch job once you are happy."
   ]
  },
  {
   "cell_type": "code",
   "execution_count": 74,
   "id": "cefa60c4-e58f-435e-9960-64a8445308e9",
   "metadata": {},
   "outputs": [
    {
     "name": "stdout",
     "output_type": "stream",
     "text": [
      "             JOBID PARTITION     NAME     USER ST       TIME  NODES NODELIST(REASON)\n",
      "                 9  slurmpar dli_asse    admin  R       1:39      2 slurmnode[1-2]\n"
     ]
    }
   ],
   "source": [
    "!squeue"
   ]
  },
  {
   "cell_type": "code",
   "execution_count": 75,
   "id": "a5904dcb-3a59-43c4-8806-d5320324855b",
   "metadata": {},
   "outputs": [],
   "source": [
    "!scancel  9"
   ]
  },
  {
   "cell_type": "markdown",
   "id": "f112d963",
   "metadata": {},
   "source": [
    "### Further optimization consideration \n",
    "All workers participating in the training process are generating the same output. Thus, the k-means is computed twice. \n",
    "It is possible to ajust the k-means implmentation to execute it just once and with a redistribution of the results across all of the workers. \n",
    "Bellow an example on how to do it:\n",
    "\n",
    "```import torch.distributed as dist\n",
    "def run_kmeans(x, ncluster, niter=8, rank, size):\n",
    "    print('KMeans executed on rank ', rank, ' Worlds size ', size)\n",
    "    N, D = x.size()\n",
    "    c = x[torch.randperm(N)[:ncluster]] # init clusters at random\n",
    "    c = c.cuda(args.local_rank) # move the tensor to the GPU for exchange\n",
    "    if rank == 0:\n",
    "        # Computing KMeans only on rank 0 \n",
    "        with torch.no_grad():\n",
    "            c = kmeans(x, ncluster, niter)\n",
    "    # We now have computed the clusters so can proceed to the exchange\n",
    "    dist.barrier()\n",
    "    print('Broadcasting')\n",
    "    dist.broadcast(C.cuda(args.local_rank), src=0)\n",
    "    c=c.cpu()\n",
    "    print('Rank ', rank, ' has data ', C.size())\n",
    "    return c\n",
    "\n",
    "C=run_kmeans(px, ncluster, niter=8, dist.get_rank(), dist.get_world_size())    \n",
    "```\n"
   ]
  },
  {
   "cell_type": "markdown",
   "id": "42e2bd1d-d375-4db3-815f-9ae64336805f",
   "metadata": {},
   "source": [
    "## Step 5: Scaling up\n",
    "\n",
    "Now that we have a minimal functional implemented, let's scale out the training job. In this part of the assessment, we will make the model substantially bigger. \n",
    "\n",
    "\n",
    "&nbsp; &nbsp; 1. Scale the model's architecture   \n",
    "&nbsp; &nbsp; 2. Create the DeepSeed configuration file enabeling activation checkpointing, FP16 training, ZeRO optimizer     \n",
    "&nbsp; &nbsp; 3. Create and run the sbatch training file  \n",
    "\n",
    "### 1. Scale the model's architecture\n",
    "Before modifying the training script, let's start by making a copy to be modified:"
   ]
  },
  {
   "cell_type": "code",
   "execution_count": 76,
   "id": "5161b46d-16d2-4666-ba8a-a687d1912f93",
   "metadata": {},
   "outputs": [],
   "source": [
    "!cp /dli/minGPT/minGPT/runFirstDeepSpeed.py /dli/minGPT/minGPT/runStep5.py"
   ]
  },
  {
   "cell_type": "markdown",
   "id": "2e2d6341-5b42-4d1f-a6cd-365e0bb4fbbf",
   "metadata": {},
   "source": [
    "Adjust the number of layers of the VisionTransformers to **24** by modifying the [runStep5.py](./minGPT/minGPT/runStep5.py) on the \"GPTConfig\" section where the architecture of the neural network dimensions is defined as: \n",
    "```\n",
    "mconf = GPTConfig(train_dataset.vocab_size, train_dataset.block_size,\n",
    "                  embd_pdrop=0.0, resid_pdrop=0.0, attn_pdrop=0.0,\n",
    "                  n_layer=12, n_head=8, n_embd=256)\n",
    "```\n",
    "\n",
    "\n",
    "### 2. Create the DeepSeed configuration file enabling activation checkpointing, FP16 training, ZeRO optimizer\n",
    "\n",
    "Alter [ds_config_step5.json](./minGPT/minGPT/ds_config_step5.json) to reconfigure be enabling:\n",
    "- Gradient accumulation and execute 4 accumulation steps to increase the global batch size (which is frequently needed to maintain fixed hyperparameters).\n",
    "- Activation checkpointing to create 24 rather than 12 checkpoints\n",
    "- FP16 training\n",
    "- ZeRo Stage 3 optimizer with CPU offload for both parameters and optimizer states. Check the [ZeRO documentation](https://deepspeed.readthedocs.io/en/latest/zero3.html) for more details. \n"
   ]
  },
  {
   "cell_type": "code",
   "execution_count": 77,
   "id": "64ce4ee5-52a3-4611-9438-242b1b2837b2",
   "metadata": {},
   "outputs": [
    {
     "name": "stdout",
     "output_type": "stream",
     "text": [
      "Overwriting minGPT/minGPT/ds_config_step5.json\n"
     ]
    }
   ],
   "source": [
    "%%writefile minGPT/minGPT/ds_config_step5.json\n",
    "{\n",
    "  \"train_micro_batch_size_per_gpu\": 128,\n",
    "  \"gradient_accumulation_steps\": 4,\n",
    "  \"optimizer\": {\n",
    "    \"type\": \"Adam\",\n",
    "    \"params\": {\n",
    "      \"lr\": 3e-4\n",
    "    }\n",
    "  },\n",
    "  \"gradient_clipping\": 1.0,\n",
    "  \"activation_checkpointing\": {\"number_checkpoints\": 24}, \n",
    "  \"fp16\": {\n",
    "    \"enabled\": true\n",
    "  },\n",
    "  \"zero_optimization\": {\n",
    "    \"stage\": 3,\n",
    "    \"offload_param\": {\n",
    "      \"device\": \"cpu\"\n",
    "    },\n",
    "    \"offload_optimizer\": {\n",
    "      \"device\": \"cpu\"\n",
    "    }\n",
    "  }\n",
    "}"
   ]
  },
  {
   "cell_type": "markdown",
   "id": "4338d1e4-5814-48b6-935f-10a111f8f76e",
   "metadata": {},
   "source": [
    "### 3. Create and run the sbatch training file \n",
    "Execute the next cell to generate the sbatch script for the step5 training. \n"
   ]
  },
  {
   "cell_type": "code",
   "execution_count": 78,
   "id": "c5b9051e-1386-4aff-be66-d16d637f9377",
   "metadata": {},
   "outputs": [
    {
     "name": "stdout",
     "output_type": "stream",
     "text": [
      "Overwriting ./minGPT/minGPT/runSlurmStep5.sh\n"
     ]
    }
   ],
   "source": [
    "%%writefile ./minGPT/minGPT/runSlurmStep5.sh\n",
    "#!/bin/bash\n",
    "#SBATCH --job-name=dli_assessment_step5\n",
    "#SBATCH --nodes=2\n",
    "#SBATCH --ntasks-per-node=1       \n",
    "#SBATCH --cpus-per-task=32 ### Number of threads per task (OMP threads)\n",
    "#SBATCH -o /dli/megatron/logs/%j.out\n",
    "#SBATCH -e /dli/megatron/logs/%j.err\n",
    "\n",
    "# Number of nodes\n",
    "NUM_NODES=2\n",
    "# Number of GPUs per node\n",
    "NUM_GPUS=2\n",
    "\n",
    "deepspeed --num_nodes=${NUM_NODES} --hostfile /dli/minGPT/minGPT/hostfile --num_gpus=${NUM_GPUS} /dli/minGPT/minGPT/runStep5.py \\\n",
    "    --deepspeed \\\n",
    "    --deepspeed_config /dli/minGPT/minGPT/ds_config_step5.json"
   ]
  },
  {
   "cell_type": "markdown",
   "id": "c9a41a70-bc32-439c-a9f2-8a9faf70fe6f",
   "metadata": {},
   "source": [
    "Once you have made the above changes please execute your job with the below command:"
   ]
  },
  {
   "cell_type": "code",
   "execution_count": 209,
   "id": "40801a02-10c5-4dd6-be57-ed2a5ad24516",
   "metadata": {},
   "outputs": [
    {
     "name": "stdout",
     "output_type": "stream",
     "text": [
      "Submitted batch job 18\n",
      "             JOBID PARTITION     NAME     USER ST       TIME  NODES NODELIST(REASON)\n",
      "                18  slurmpar dli_asse    admin  R       0:01      2 slurmnode[1-2]\n"
     ]
    }
   ],
   "source": [
    "!sbatch /dli/minGPT/minGPT/runSlurmStep5.sh\n",
    "!squeue"
   ]
  },
  {
   "cell_type": "markdown",
   "id": "2fef1ba9-40e3-421d-b3d4-3bf9cb1350c9",
   "metadata": {},
   "source": [
    "Verify the execution of your code using the below:"
   ]
  },
  {
   "cell_type": "code",
   "execution_count": 214,
   "id": "cb23a05d-cfe3-4049-b97b-c8370ed38799",
   "metadata": {},
   "outputs": [
    {
     "name": "stdout",
     "output_type": "stream",
     "text": [
      "[2023-03-24 03:14:38,835] [INFO] [runner.py:378:main] Using IP address of 172.18.0.9 for node slurmnode1\n",
      "[2023-03-24 03:14:38,836] [INFO] [multinode_runner.py:65:get_cmd] Running on the following workers: slurmnode1,slurmnode2\n",
      "[2023-03-24 03:14:38,836] [INFO] [runner.py:457:main] cmd = pdsh -f 1024 -w slurmnode1,slurmnode2 export NCCL_VERSION=2.11.4; export PYTHONPATH=/dli:/etc/assessment/; export PYTHONIOENCODING=utf-8; export NCCL_DISABLE_P2P=1;  cd /dli; /opt/conda/bin/python3.8 -u -m deepspeed.launcher.launch --world_info=eyJzbHVybW5vZGUxIjogWzAsIDFdLCAic2x1cm1ub2RlMiI6IFswLCAxXX0= --node_rank=%n --master_addr=172.18.0.9 --master_port=29500 /dli/minGPT/minGPT/runStep5.py --deepspeed --deepspeed_config '/dli/minGPT/minGPT/ds_config_step5.json'\n",
      "slurmnode2: [2023-03-24 03:14:41,151] [INFO] [launch.py:96:main] 1 NCCL_VERSION=2.11.4\n",
      "slurmnode2: [2023-03-24 03:14:41,151] [INFO] [launch.py:96:main] 1 NCCL_DISABLE_P2P=1\n",
      "slurmnode2: [2023-03-24 03:14:41,151] [INFO] [launch.py:103:main] WORLD INFO DICT: {'slurmnode1': [0, 1], 'slurmnode2': [0, 1]}\n",
      "slurmnode2: [2023-03-24 03:14:41,151] [INFO] [launch.py:109:main] nnodes=2, num_local_procs=2, node_rank=1\n",
      "slurmnode2: [2023-03-24 03:14:41,151] [INFO] [launch.py:122:main] global_rank_mapping=defaultdict(<class 'list'>, {'slurmnode1': [0, 1], 'slurmnode2': [2, 3]})\n",
      "slurmnode2: [2023-03-24 03:14:41,151] [INFO] [launch.py:123:main] dist_world_size=4\n",
      "slurmnode2: [2023-03-24 03:14:41,151] [INFO] [launch.py:125:main] Setting CUDA_VISIBLE_DEVICES=0,1\n",
      "slurmnode1: [2023-03-24 03:14:41,155] [INFO] [launch.py:96:main] 0 NCCL_VERSION=2.11.4\n",
      "slurmnode1: [2023-03-24 03:14:41,155] [INFO] [launch.py:96:main] 0 NCCL_DISABLE_P2P=1\n",
      "slurmnode1: [2023-03-24 03:14:41,155] [INFO] [launch.py:103:main] WORLD INFO DICT: {'slurmnode1': [0, 1], 'slurmnode2': [0, 1]}\n",
      "slurmnode1: [2023-03-24 03:14:41,155] [INFO] [launch.py:109:main] nnodes=2, num_local_procs=2, node_rank=0\n",
      "slurmnode1: [2023-03-24 03:14:41,155] [INFO] [launch.py:122:main] global_rank_mapping=defaultdict(<class 'list'>, {'slurmnode1': [0, 1], 'slurmnode2': [2, 3]})\n",
      "slurmnode1: [2023-03-24 03:14:41,155] [INFO] [launch.py:123:main] dist_world_size=4\n",
      "slurmnode1: [2023-03-24 03:14:41,155] [INFO] [launch.py:125:main] Setting CUDA_VISIBLE_DEVICES=0,1\n",
      "slurmnode1: [2023-03-24 03:14:42,870] [INFO] [distributed.py:48:init_distributed] Initializing torch distributed with backend: nccl\n",
      "slurmnode2: Files already downloaded and verifiedFiles already downloaded and verified\n",
      "slurmnode2: \n",
      "slurmnode1: Files already downloaded and verified\n",
      "slurmnode1: Files already downloaded and verified\n",
      "slurmnode1: Files already downloaded and verifiedFiles already downloaded and verified\n",
      "slurmnode1: \n",
      "slurmnode2: Files already downloaded and verifiedFiles already downloaded and verified\n",
      "slurmnode2: \n",
      "slurmnode1: done step 1/8, re-initialized 4 dead clusters\n",
      "slurmnode1: done step 1/8, re-initialized 4 dead clusters\n",
      "slurmnode2: done step 1/8, re-initialized 4 dead clusters\n",
      "slurmnode2: done step 1/8, re-initialized 4 dead clusters\n",
      "slurmnode1: done step 2/8, re-initialized 0 dead clusters\n",
      "slurmnode1: done step 2/8, re-initialized 0 dead clusters\n",
      "slurmnode2: done step 2/8, re-initialized 0 dead clusters\n",
      "slurmnode2: done step 2/8, re-initialized 0 dead clusters\n",
      "slurmnode1: done step 3/8, re-initialized 0 dead clusters\n",
      "slurmnode1: done step 3/8, re-initialized 0 dead clusters\n",
      "slurmnode2: done step 3/8, re-initialized 0 dead clusters\n",
      "slurmnode2: done step 3/8, re-initialized 0 dead clusters\n",
      "slurmnode1: done step 4/8, re-initialized 0 dead clusters\n",
      "slurmnode1: done step 4/8, re-initialized 0 dead clusters\n",
      "slurmnode2: done step 4/8, re-initialized 0 dead clusters\n",
      "slurmnode2: done step 4/8, re-initialized 0 dead clusters\n",
      "slurmnode1: done step 5/8, re-initialized 0 dead clusters\n",
      "slurmnode1: done step 5/8, re-initialized 0 dead clusters\n",
      "slurmnode2: done step 5/8, re-initialized 0 dead clusters\n",
      "slurmnode2: done step 5/8, re-initialized 0 dead clusters\n",
      "slurmnode1: done step 6/8, re-initialized 0 dead clusters\n",
      "slurmnode1: done step 6/8, re-initialized 0 dead clusters\n",
      "slurmnode2: done step 6/8, re-initialized 0 dead clusters\n",
      "slurmnode2: done step 6/8, re-initialized 0 dead clusters\n",
      "slurmnode1: done step 7/8, re-initialized 0 dead clusters\n",
      "slurmnode1: done step 7/8, re-initialized 0 dead clusters\n",
      "slurmnode2: done step 7/8, re-initialized 0 dead clusters\n",
      "slurmnode2: done step 7/8, re-initialized 0 dead clusters\n",
      "slurmnode1: done step 8/8, re-initialized 0 dead clusters\n",
      "slurmnode1: done step 8/8, re-initialized 0 dead clusters\n",
      "slurmnode2: done step 8/8, re-initialized 0 dead clusters\n",
      "slurmnode1: [2023-03-24 03:15:21,947] [INFO] [logging.py:69:log_dist] [Rank 0] DeepSpeed info: version=0.6.5, git-hash=unknown, git-branch=unknown\n",
      "slurmnode1: [2023-03-24 03:15:22,212] [INFO] [launch.py:178:sigkill_handler] Killing subprocess 8273\n",
      "slurmnode1: [2023-03-24 03:15:22,213] [INFO] [launch.py:178:sigkill_handler] Killing subprocess 8274\n",
      "slurmnode1: [2023-03-24 03:15:22,213] [ERROR] [launch.py:184:sigkill_handler] ['/opt/conda/bin/python3.8', '-u', '/dli/minGPT/minGPT/runStep5.py', '--local_rank=1', '--deepspeed', '--deepspeed_config', '/dli/minGPT/minGPT/ds_config_step5.json'] exits with return code = 1\n",
      "slurmnode2: done step 8/8, re-initialized 0 dead clusters\n",
      "slurmnode2: [2023-03-24 03:15:23,225] [INFO] [launch.py:178:sigkill_handler] Killing subprocess 6488\n",
      "slurmnode2: [2023-03-24 03:15:23,225] [INFO] [launch.py:178:sigkill_handler] Killing subprocess 6489\n",
      "slurmnode2: [2023-03-24 03:15:23,226] [ERROR] [launch.py:184:sigkill_handler] ['/opt/conda/bin/python3.8', '-u', '/dli/minGPT/minGPT/runStep5.py', '--local_rank=1', '--deepspeed', '--deepspeed_config', '/dli/minGPT/minGPT/ds_config_step5.json'] exits with return code = 1\n"
     ]
    }
   ],
   "source": [
    "!JOB_ID=18;cat /dli/megatron/logs/$JOB_ID.out"
   ]
  },
  {
   "cell_type": "code",
   "execution_count": 215,
   "id": "c41933e8-7789-495a-8b97-3be96ff8f99a",
   "metadata": {},
   "outputs": [
    {
     "name": "stdout",
     "output_type": "stream",
     "text": [
      "slurmnode1: 03/24/2023 03:15:21 - INFO - mingpt.model -   number of parameters: 1.947878e+07\n",
      "slurmnode1: Traceback (most recent call last):\n",
      "slurmnode1:   File \"/dli/minGPT/minGPT/runStep5.py\", line 80, in <module>\n",
      "slurmnode1:     trainer.train()\n",
      "slurmnode1:   File \"/dli/minGPT/minGPT/mingpt/trainer.py\", line 107, in train\n",
      "slurmnode1:     model_engine, optimizer, train_loader, _ = deepspeed.initialize(args=config, model=raw_model, model_parameters=parameters)        \n",
      "slurmnode1:   File \"/opt/conda/lib/python3.8/site-packages/deepspeed/__init__.py\", line 120, in initialize\n",
      "slurmnode1:     engine = DeepSpeedEngine(args=args,\n",
      "slurmnode1:   File \"/opt/conda/lib/python3.8/site-packages/deepspeed/runtime/engine.py\", line 238, in __init__\n",
      "slurmnode1:     self._do_args_sanity_check(args)\n",
      "slurmnode1:   File \"/opt/conda/lib/python3.8/site-packages/deepspeed/runtime/engine.py\", line 900, in _do_args_sanity_check\n",
      "slurmnode1:     assert (\n",
      "slurmnode1: AssertionError: DeepSpeed requires --deepspeed_config to specify configuration file\n",
      "slurmnode1: 03/24/2023 03:15:21 - INFO - mingpt.model -   number of parameters: 1.947878e+07\n",
      "slurmnode1: Traceback (most recent call last):\n",
      "slurmnode1:   File \"/dli/minGPT/minGPT/runStep5.py\", line 80, in <module>\n",
      "slurmnode1:     trainer.train()\n",
      "slurmnode1:   File \"/dli/minGPT/minGPT/mingpt/trainer.py\", line 107, in train\n",
      "slurmnode1:     model_engine, optimizer, train_loader, _ = deepspeed.initialize(args=config, model=raw_model, model_parameters=parameters)        \n",
      "slurmnode1:   File \"/opt/conda/lib/python3.8/site-packages/deepspeed/__init__.py\", line 120, in initialize\n",
      "slurmnode1:     engine = DeepSpeedEngine(args=args,\n",
      "slurmnode1:   File \"/opt/conda/lib/python3.8/site-packages/deepspeed/runtime/engine.py\", line 238, in __init__\n",
      "slurmnode1:     self._do_args_sanity_check(args)\n",
      "slurmnode1:   File \"/opt/conda/lib/python3.8/site-packages/deepspeed/runtime/engine.py\", line 900, in _do_args_sanity_check\n",
      "slurmnode1:     assert (\n",
      "slurmnode1: AssertionError: DeepSpeed requires --deepspeed_config to specify configuration file\n",
      "pdsh@slurmnode1: slurmnode1: ssh exited with exit code 1\n",
      "slurmnode2: 03/24/2023 03:15:22 - INFO - mingpt.model -   number of parameters: 1.947878e+07\n",
      "slurmnode2: Traceback (most recent call last):\n",
      "slurmnode2:   File \"/dli/minGPT/minGPT/runStep5.py\", line 80, in <module>\n",
      "slurmnode2:     trainer.train()\n",
      "slurmnode2:   File \"/dli/minGPT/minGPT/mingpt/trainer.py\", line 107, in train\n",
      "slurmnode2:     model_engine, optimizer, train_loader, _ = deepspeed.initialize(args=config, model=raw_model, model_parameters=parameters)        \n",
      "slurmnode2:   File \"/opt/conda/lib/python3.8/site-packages/deepspeed/__init__.py\", line 120, in initialize\n",
      "slurmnode2:     engine = DeepSpeedEngine(args=args,\n",
      "slurmnode2:   File \"/opt/conda/lib/python3.8/site-packages/deepspeed/runtime/engine.py\", line 238, in __init__\n",
      "slurmnode2:     self._do_args_sanity_check(args)\n",
      "slurmnode2:   File \"/opt/conda/lib/python3.8/site-packages/deepspeed/runtime/engine.py\", line 900, in _do_args_sanity_check\n",
      "slurmnode2:     assert (\n",
      "slurmnode2: AssertionError: DeepSpeed requires --deepspeed_config to specify configuration file\n",
      "slurmnode2: 03/24/2023 03:15:22 - INFO - mingpt.model -   number of parameters: 1.947878e+07\n",
      "slurmnode2: Traceback (most recent call last):\n",
      "slurmnode2:   File \"/dli/minGPT/minGPT/runStep5.py\", line 80, in <module>\n",
      "slurmnode2:     trainer.train()\n",
      "slurmnode2:   File \"/dli/minGPT/minGPT/mingpt/trainer.py\", line 107, in train\n",
      "slurmnode2:     model_engine, optimizer, train_loader, _ = deepspeed.initialize(args=config, model=raw_model, model_parameters=parameters)        \n",
      "slurmnode2:   File \"/opt/conda/lib/python3.8/site-packages/deepspeed/__init__.py\", line 120, in initialize\n",
      "slurmnode2:     engine = DeepSpeedEngine(args=args,\n",
      "slurmnode2:   File \"/opt/conda/lib/python3.8/site-packages/deepspeed/runtime/engine.py\", line 238, in __init__\n",
      "slurmnode2:     self._do_args_sanity_check(args)\n",
      "slurmnode2:   File \"/opt/conda/lib/python3.8/site-packages/deepspeed/runtime/engine.py\", line 900, in _do_args_sanity_check\n",
      "slurmnode2:     assert (\n",
      "slurmnode2: AssertionError: DeepSpeed requires --deepspeed_config to specify configuration file\n",
      "pdsh@slurmnode1: slurmnode2: ssh exited with exit code 1\n"
     ]
    }
   ],
   "source": [
    "!JOB_ID=18;cat /dli/megatron/logs/$JOB_ID.err"
   ]
  },
  {
   "cell_type": "markdown",
   "id": "1bae45e4-bef1-4394-b448-5162d9d4b8cb",
   "metadata": {},
   "source": [
    "Its really important that before you go to the next step you stop all of the executing and pending jobs or evaluation will faill!"
   ]
  },
  {
   "cell_type": "code",
   "execution_count": 206,
   "id": "b15fb509-ab9e-4d39-95cd-28351033d830",
   "metadata": {},
   "outputs": [
    {
     "name": "stdout",
     "output_type": "stream",
     "text": [
      "             JOBID PARTITION     NAME     USER ST       TIME  NODES NODELIST(REASON)\n",
      "                17  slurmpar dli_asse    admin  R      36:17      2 slurmnode[1-2]\n"
     ]
    }
   ],
   "source": [
    "!squeue"
   ]
  },
  {
   "cell_type": "code",
   "execution_count": 176,
   "id": "9cf6ec38-ca0c-4c9b-8bf0-1d58ade9661b",
   "metadata": {},
   "outputs": [
    {
     "data": {
      "text/html": [
       "\n",
       "<pre>\n",
       "   Step 1: Open a terminal session by following the <a href=\"\", data-commandlinker-command=\"terminal:create-new\">Terminal link</a>\n",
       "   Step 2: Check the GPUs: <font color=\"green\">watch nvidia-smi</font>\n",
       "</pre\n"
      ],
      "text/plain": [
       "<IPython.core.display.HTML object>"
      ]
     },
     "metadata": {},
     "output_type": "display_data"
    }
   ],
   "source": [
    "%%html\n",
    "\n",
    "<pre>\n",
    "   Step 1: Open a terminal session by following the <a href=\"\", data-commandlinker-command=\"terminal:create-new\">Terminal link</a>\n",
    "   Step 2: Check the GPUs: <font color=\"green\">watch nvidia-smi</font>\n",
    "</pre"
   ]
  },
  {
   "cell_type": "code",
   "execution_count": 208,
   "id": "3d58077c-c4d4-46fa-b4c4-1d9442eb14c9",
   "metadata": {},
   "outputs": [],
   "source": [
    "!scancel  17"
   ]
  },
  {
   "cell_type": "markdown",
   "id": "0a4db940-8ab3-4282-91c6-d631dfbf571a",
   "metadata": {},
   "source": [
    "## Step 6: Evaluate\n",
    "\n",
    "If you have implemented all of the changes listed above, please provide the job ID verified in Step 5 in the code block below. If the challenges were completed correctly, an \"Assessment Passed!\" message will appear. Good luck!"
   ]
  },
  {
   "cell_type": "code",
   "execution_count": 156,
   "id": "b806b2b0-a877-4c02-a88b-e2cb944be111",
   "metadata": {},
   "outputs": [
    {
     "name": "stdout",
     "output_type": "stream",
     "text": [
      "Evaluating Job ID: 15\n",
      "Error: job did not complete a training step with the expected configuration. Please try again.\n"
     ]
    }
   ],
   "source": [
    "from run_assessment import run_assessment\n",
    "job_id = 15\n",
    "run_assessment(job_id)"
   ]
  },
  {
   "cell_type": "markdown",
   "id": "0c537006-d407-44b1-8741-1531bfc8609b",
   "metadata": {},
   "source": [
    "Once \"Assessment Passed!\" appears, please go back to the DLI portal and press the assess button. This will generate a certificate. Congratulations!"
   ]
  }
 ],
 "metadata": {
  "kernelspec": {
   "display_name": "Python 3 (ipykernel)",
   "language": "python",
   "name": "python3"
  },
  "language_info": {
   "codemirror_mode": {
    "name": "ipython",
    "version": 3
   },
   "file_extension": ".py",
   "mimetype": "text/x-python",
   "name": "python",
   "nbconvert_exporter": "python",
   "pygments_lexer": "ipython3",
   "version": "3.8.12"
  }
 },
 "nbformat": 4,
 "nbformat_minor": 5
}
