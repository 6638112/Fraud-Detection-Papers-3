{
 "cells": [
  {
   "cell_type": "markdown",
   "id": "1123fe11-ac37-4070-9559-202a36d910e4",
   "metadata": {},
   "source": [
    "<img src=\"./images/DLI_Header.png\" style=\"width: 400px;\">"
   ]
  },
  {
   "cell_type": "markdown",
   "id": "f34d208e-ff07-44f6-b628-b82315c10ba4",
   "metadata": {},
   "source": [
    "# Assessment\n",
    "\n",
    "## Overview\n",
    "\n",
    "The goal of this assessment is to evaluate your ability to build and execute large models. Please demonstrate that ability by porting an existing piece of code into DeepSpeed and creating a series of configuration files to enable a range of DeepSpeed functions including: activation checkpointing, mixed precision training as well as ZeRo redundancy optimizer. \n",
    "\n",
    "To make the task containable, we have deliberately selected a simplified codebase, namely minGPT (https://github.com/karpathy/minGPT). This is a minimalistic implementation of Transformers that will not provide maximum performance, but which is representative and should allow you to complete this coding exercise in a relatively short period of time.\n",
    "\n",
    "In this task, we will look at yet another family of models, namely, Vision Transformers. Before diving into the assignment, please review the [code example](minGPT/minGPT/play_image.ipynb) that we will be using in this assessment. Feel free to execute the above code example but do bear in mind that training to convergence will take a considerable amount of time, so it  might help to finish it early and focus on the code migration discussed below."
   ]
  },
  {
   "cell_type": "markdown",
   "id": "95a9d34b-dead-4d67-aee5-2a1c614f8fe6",
   "metadata": {},
   "source": [
    "## Introduction\n",
    "\n",
    "Conceptually, our goal will be to:\n",
    "- Migrate a standalone pytorch implementation of the training pipeline into DeepSpeed and train effectively on our \"two server\" cluster\n",
    "- Enable functionality that will allow for memory saving, namely: Mixed Precision Training, Activation Checkpointing and ZeRo Redundancy optimiser\n",
    "- Increase the size of the model being trained\n",
    "\n",
    "The below notebook will be a guide through the process and provide test code which will help determine whether you are on the right path to the correct solution. By the end of the assessment, when the code is complete, you will be asked to go back to the lab platform and press the `assess` button. This will trigger an automated process which will load your code files as well as the deepspeed configuration files and execute them, assessing correctness of the implementation. Please leave enough time to execute this step as it can take several minutes to compleate. If you are running out of time, please download the files you have modified so that they can be finished later."
   ]
  },
  {
   "cell_type": "markdown",
   "id": "9b959719-1fef-4a5a-8454-5babc9c6aa90",
   "metadata": {},
   "source": [
    "## Step 1: Baseline implementation\n",
    "\n",
    "Let us begin by looking at the starting point of our assessment, namely [runStartingPoint.py](./minGPT/minGPT/runStartingPoint.py). This is the same code that was reviewed earlier, just extracted into a python file to allow us for its batch execution. Let us test it to make sure it works in a standalone mode. Once again, training to convergence will take a substantial amount of time, so once you see training progress feel free to stop the training process and move to the next step."
   ]
  },
  {
   "cell_type": "code",
   "execution_count": 1,
   "id": "acf98ec2-b1b8-4a6c-b2de-8410ea4562cf",
   "metadata": {
    "scrolled": true,
    "tags": []
   },
   "outputs": [
    {
     "name": "stdout",
     "output_type": "stream",
     "text": [
      "Downloading https://www.cs.toronto.edu/~kriz/cifar-10-python.tar.gz to ./cifar-10-python.tar.gz\n",
      "170499072it [00:08, 20585688.02it/s]                                            \n",
      "Extracting ./cifar-10-python.tar.gz to ./\n",
      "Files already downloaded and verified\n",
      "50000 10000\n",
      "done step 1/8, re-initialized 4 dead clusters\n",
      "done step 2/8, re-initialized 0 dead clusters\n",
      "done step 3/8, re-initialized 0 dead clusters\n",
      "done step 4/8, re-initialized 0 dead clusters\n",
      "done step 5/8, re-initialized 0 dead clusters\n",
      "done step 6/8, re-initialized 0 dead clusters\n",
      "done step 7/8, re-initialized 0 dead clusters\n",
      "done step 8/8, re-initialized 0 dead clusters\n",
      "03/24/2023 05:18:07 - INFO - mingpt.model -   number of parameters: 1.000166e+07\n",
      "  0%|                                                 | 0/50000 [00:00<?, ?it/s]/opt/conda/lib/python3.8/site-packages/torch/nn/parallel/_functions.py:68: UserWarning: Was asked to gather along dimension 0, but all input tensors were scalars; will instead unsqueeze and return a vector.\n",
      "  warnings.warn('Was asked to gather along dimension 0, but all '\n",
      "epoch 1 iter 235: train loss 6.24364. lr 1.416000e-05:   0%| | 235/50000 [00:21<^C\n",
      "epoch 1 iter 235: train loss 6.24364. lr 1.416000e-05:   0%| | 236/50000 [00:21<\n",
      "Traceback (most recent call last):\n",
      "  File \"minGPT/minGPT/runStartingPoint.py\", line 71, in <module>\n",
      "    trainer.train()\n",
      "  File \"/dli/minGPT/minGPT/mingpt/trainer.py\", line 87, in train\n",
      "    run_epoch(train_loader, is_train=True)\n",
      "  File \"/dli/minGPT/minGPT/mingpt/trainer.py\", line 47, in run_epoch\n",
      "    logits, loss = model(x, y)\n",
      "  File \"/opt/conda/lib/python3.8/site-packages/torch/nn/modules/module.py\", line 1110, in _call_impl\n",
      "    return forward_call(*input, **kwargs)\n",
      "  File \"/opt/conda/lib/python3.8/site-packages/torch/nn/parallel/data_parallel.py\", line 168, in forward\n",
      "    outputs = self.parallel_apply(replicas, inputs, kwargs)\n",
      "  File \"/opt/conda/lib/python3.8/site-packages/torch/nn/parallel/data_parallel.py\", line 178, in parallel_apply\n",
      "    return parallel_apply(replicas, inputs, kwargs, self.device_ids[:len(replicas)])\n",
      "  File \"/opt/conda/lib/python3.8/site-packages/torch/nn/parallel/parallel_apply.py\", line 80, in parallel_apply\n",
      "    _worker(0, modules[0], inputs[0], kwargs_tup[0], devices[0])\n",
      "  File \"/opt/conda/lib/python3.8/site-packages/torch/nn/parallel/parallel_apply.py\", line 61, in _worker\n",
      "    output = module(*input, **kwargs)\n",
      "  File \"/opt/conda/lib/python3.8/site-packages/torch/nn/modules/module.py\", line 1110, in _call_impl\n",
      "    return forward_call(*input, **kwargs)\n",
      "  File \"/dli/minGPT/minGPT/mingpt/model.py\", line 195, in forward\n",
      "    x = self.blocks(x)\n",
      "  File \"/opt/conda/lib/python3.8/site-packages/torch/nn/modules/module.py\", line 1110, in _call_impl\n",
      "    return forward_call(*input, **kwargs)\n",
      "  File \"/opt/conda/lib/python3.8/site-packages/torch/nn/modules/container.py\", line 141, in forward\n",
      "    input = module(input)\n",
      "  File \"/opt/conda/lib/python3.8/site-packages/torch/nn/modules/module.py\", line 1110, in _call_impl\n",
      "    return forward_call(*input, **kwargs)\n",
      "  File \"/dli/minGPT/minGPT/mingpt/model.py\", line 98, in forward\n",
      "    x = x + self.attn(self.ln1(x))\n",
      "  File \"/opt/conda/lib/python3.8/site-packages/torch/nn/modules/module.py\", line 1110, in _call_impl\n",
      "    return forward_call(*input, **kwargs)\n",
      "  File \"/dli/minGPT/minGPT/mingpt/model.py\", line 76, in forward\n",
      "    y = y.transpose(1, 2).contiguous().view(B, T, C) # re-assemble all head outputs side by side\n",
      "KeyboardInterrupt\n"
     ]
    }
   ],
   "source": [
    "!python minGPT/minGPT/runStartingPoint.py"
   ]
  },
  {
   "cell_type": "markdown",
   "id": "19ae562f-1b8c-4383-a83d-101983f70ea7",
   "metadata": {},
   "source": [
    "## Step 2: Enabling DeepSpeed\n",
    "\n",
    "Let's start by adapting the previous training scripts to use the DeepSpeed library by making some minimalistic changes in the code. To do so, you will need to:\n",
    "\n",
    "&nbsp; &nbsp; 1.  Modify the relevant sections in [runFirstDeepSpeed.py](./minGPT/minGPT/runFirstDeepSpeed.py)   \n",
    "&nbsp; &nbsp; 2.  Modify the relevant sections in [trainer.py](./minGPT/minGPT/mingpt/trainer.py)   \n",
    "&nbsp; &nbsp; 3.  Create the DeepSpeed configuration file `ds_config_basic.json`   \n",
    "&nbsp; &nbsp; 4.  Run the training with `deepspeed` command\n",
    "\n",
    "\n",
    "### 1.  Modify the \"ToDo Step 2\" sections in the file `runFirstDeepSpeed.py`\n",
    "Open the file [runFirstDeepSpeed.py](./minGPT/minGPT/runFirstDeepSpeed.py) and define the \"ToDo Step 2\" sections to port the code on DeepSpeed. There are 4 sections to be defined.\n",
    "\n",
    "### 2.  Modify the \"ToDo Step 2\" sections in the `trainer.py`\n",
    "Open the file [trainer.py](./minGPT/minGPT/mingpt/trainer.py) and implement the `DeepSpeedTrainer` class by defining the \"ToDo Step 2\" sections. There are 6 sections to be modified/implemented."
   ]
  },
  {
   "cell_type": "markdown",
   "id": "5bba61b3-6626-4ca2-b38c-408dbf57a99f",
   "metadata": {},
   "source": [
    "### 3.  Create the DeepSpeed configuration file `ds_config_basic.json`\n",
    "In the next cell, change the `FIXME` to set:\n",
    "- The micro-batch size per gpu to 8\n",
    "- Make sure to enable Adam optimizer and copy the learning rate from the original code [runStartingPoint.py](./minGPT/minGPT/runStartingPoint.py)\n",
    "- Set the gradient clipping to the value used in the original code [runStartingPoint.py](./minGPT/minGPT/runStartingPoint.py)"
   ]
  },
  {
   "cell_type": "code",
   "execution_count": 2,
   "id": "c9eaaaf7-6af1-44d4-8eba-8143e81dcfb3",
   "metadata": {},
   "outputs": [
    {
     "name": "stdout",
     "output_type": "stream",
     "text": [
      "Overwriting ./minGPT/minGPT/ds_config_basic.json\n"
     ]
    }
   ],
   "source": [
    "%%writefile ./minGPT/minGPT/ds_config_basic.json\n",
    "{\n",
    "  \"train_micro_batch_size_per_gpu\": 8,\n",
    "  \"optimizer\": {\n",
    "    \"type\": \"Adam\",\n",
    "    \"params\": {\n",
    "      \"lr\": 3e-3\n",
    "    }\n",
    "  },\n",
    "  \"gradient_clipping\": 1\n",
    "}"
   ]
  },
  {
   "cell_type": "markdown",
   "id": "ddc199bd-2670-4878-be02-f65a9273540a",
   "metadata": {},
   "source": [
    "### 4.  Run the training with `deepspeed` command\n",
    "\n",
    "The following command should result in 4 GPU training and we should see the training progress. Once again, the goal of this exercise is not to train this model to convergence. Once you see training taking place, you can interrupt the execution and move to the next step."
   ]
  },
  {
   "cell_type": "code",
   "execution_count": null,
   "id": "8ed7e3b8-820b-4757-b0f0-2d6ad801418f",
   "metadata": {
    "scrolled": true,
    "tags": []
   },
   "outputs": [],
   "source": [
    "!deepspeed minGPT/minGPT/runFirstDeepSpeed.py --deepspeed --deepspeed_config minGPT/minGPT/ds_config_basic.json"
   ]
  },
  {
   "cell_type": "markdown",
   "id": "583ed01e-9ca5-441c-9275-d4573115d1b7",
   "metadata": {},
   "source": [
    "## Step 3: Multi node execution\n",
    "\n",
    "The above code executed on 4 GPUs for this particular node, but our goal is to make it work across the two nodes we have used earlier in the class. Please reuse the code we have worked with earlier to launch a two node job executing the above. Let us start by creating the appropriate shell script:"
   ]
  },
  {
   "cell_type": "code",
   "execution_count": 3,
   "id": "62ab689f-eb64-4881-a7da-fbf963bd7721",
   "metadata": {},
   "outputs": [
    {
     "name": "stdout",
     "output_type": "stream",
     "text": [
      "Overwriting ./minGPT/minGPT/runSlurmStep3.sh\n"
     ]
    }
   ],
   "source": [
    "%%writefile ./minGPT/minGPT/runSlurmStep3.sh\n",
    "#!/bin/bash\n",
    "#SBATCH --job-name=dli_assessment_step3\n",
    "#SBATCH --nodes=2\n",
    "#SBATCH --ntasks-per-node=1       \n",
    "#SBATCH --cpus-per-task=32 ### Number of threads per task (OMP threads)\n",
    "#SBATCH -o /dli/megatron/logs/%j.out\n",
    "#SBATCH -e /dli/megatron/logs/%j.err\n",
    "\n",
    "# Number of nodes\n",
    "NUM_NODES=2\n",
    "# Number of GPUs per node\n",
    "NUM_GPUS=2\n",
    "\n",
    "deepspeed --num_nodes=${NUM_NODES} --hostfile /dli/minGPT/minGPT/hostfile --num_gpus=${NUM_GPUS} /dli/minGPT/minGPT/runFirstDeepSpeed.py \\\n",
    "    --deepspeed \\\n",
    "    --deepspeed_config /dli/minGPT/minGPT/ds_config_basic.json"
   ]
  },
  {
   "cell_type": "markdown",
   "id": "83193290-4079-4a9d-a1b0-17f939b45d29",
   "metadata": {},
   "source": [
    "Please modify the below to enable multi-node execution. Please use the below command to execute your multi-node job (this is the command that will be used for assessment so do not change the file names or paths)."
   ]
  },
  {
   "cell_type": "code",
   "execution_count": 1,
   "id": "7fae3988-8796-4c1c-873a-f4828c90310c",
   "metadata": {},
   "outputs": [
    {
     "name": "stdout",
     "output_type": "stream",
     "text": [
      "Submitted batch job 19\n",
      "             JOBID PARTITION     NAME     USER ST       TIME  NODES NODELIST(REASON)\n",
      "                19  slurmpar dli_asse    admin  R       0:00      2 slurmnode[1-2]\n"
     ]
    }
   ],
   "source": [
    "!sbatch ./minGPT/minGPT/runSlurmStep3.sh\n",
    "!squeue"
   ]
  },
  {
   "cell_type": "markdown",
   "id": "a3d3d948-32ac-4043-aa99-1b0ce50108a8",
   "metadata": {},
   "source": [
    "Once the above executes, we should be able to see output and error logs with the commands below. Make sure to copy the job ID to the below command. Once again, make sure the code deploys logs out the below location with the below file name structure as those will be inspected for the assessment."
   ]
  },
  {
   "cell_type": "code",
   "execution_count": null,
   "id": "6e584a73-c60d-43c0-bd6c-6c2a4725ae83",
   "metadata": {
    "scrolled": true,
    "tags": []
   },
   "outputs": [],
   "source": [
    "!JOB_ID=2;cat /dli/megatron/logs/$JOB_ID.out"
   ]
  },
  {
   "cell_type": "code",
   "execution_count": null,
   "id": "83fe2de0-5d66-4880-ab10-074bc896e1ae",
   "metadata": {},
   "outputs": [],
   "source": [
    "!JOB_ID=2;cat /dli/megatron/logs/$JOB_ID.err"
   ]
  },
  {
   "cell_type": "markdown",
   "id": "ee6cbe44-51ad-4411-8ef5-792075915855",
   "metadata": {},
   "source": [
    "Once you are happy with your code, please make sure the batch job is terminated before going to the next step."
   ]
  },
  {
   "cell_type": "code",
   "execution_count": 4,
   "id": "3c2e59b2-a040-40e7-bb47-022eba1f15d3",
   "metadata": {},
   "outputs": [
    {
     "name": "stdout",
     "output_type": "stream",
     "text": [
      "             JOBID PARTITION     NAME     USER ST       TIME  NODES NODELIST(REASON)\n"
     ]
    }
   ],
   "source": [
    "!squeue"
   ]
  },
  {
   "cell_type": "code",
   "execution_count": null,
   "id": "a98f6482-d538-4e28-b299-5bc0e3824cc3",
   "metadata": {},
   "outputs": [],
   "source": [
    "!scancel  2"
   ]
  },
  {
   "cell_type": "markdown",
   "id": "1c18320d-6f90-41b5-93ea-b2c6afc36317",
   "metadata": {},
   "source": [
    "## Step 4: Further code improvement\n",
    "\n",
    "We are missing capability to do activation checkpointing. In this step, we will introduce code that will allow us to do activation checkpointing with DeepSpeed library.\n",
    "\n",
    "&nbsp; &nbsp; 1. Define the transformer blocks for activation checkpointing   \n",
    "&nbsp; &nbsp; 2. Create the DeepSeed configuration file enabeling activation checkpointing and FP16 training   \n",
    "&nbsp; &nbsp; 3. Create and run the sbatch training file  "
   ]
  },
  {
   "cell_type": "markdown",
   "id": "b7c1cd8f",
   "metadata": {},
   "source": [
    "### 1. Define the transformer blocks for activation checkpointing\n",
    "\n",
    "To enable activation checkpointing of a model (or part of the model) with DeepSpeed, at the forward pass definition, we need to wrap each block with the function `deepspeed.checkpointing.checkpoint()` ([learn more](https://deepspeed.readthedocs.io/en/stable/activation-checkpointing.html#deepspeed.checkpointing.checkpoint)). \n",
    "\n",
    "The example bellow shows a simple convolutional Netowrk definition with 2 CNN blocks followed by a linear layer in which the CNN blocks are wrapped for activation checkpointing with DeepSpeed.\n",
    "\n",
    "```\n",
    "class CNN(nn.Module):\n",
    "    def __init__(self):\n",
    "        super().__init__()\n",
    "        self.cnn_block_1 = nn.Sequential(*[nn.Conv2d(3, 32, 3, padding=1),nn.ReLU(),nn.MaxPool2d(kernel_size=2)])\n",
    "        self.cnn_block_2 = nn.Sequential(*[nn.Conv2d(64, 64, 3, padding=1),nn.ReLU(),nn.MaxPool2d(kernel_size=2)])\n",
    "        self.flatten = lambda inp: torch.flatten(inp, 1)\n",
    "        self.linearize = nn.Sequential(*[ nn.Linear(64 * 8 * 8, 512),nn.ReLU()])\n",
    "        self.out = nn.Linear(512, 10)\n",
    "    \n",
    "    def forward(self, X):\n",
    "        X = deepspeed.checkpointing.checkpoint(self.cnn_block_1, X)\n",
    "        X = deepspeed.checkpointing.checkpoint(self.cnn_block_2, X)\n",
    "        X = self.flatten(X)\n",
    "        X = self.linearize(X)\n",
    "        X = self.out(X)\n",
    "        return X\n",
    "\n",
    "```\n",
    "A similar mechanism is implemented with torch via the function `torch.utils.checkpoint.checkpoint()`.\n",
    "\n",
    "\n",
    "In our case, the VisionTransformer model is implemented as the GPT class in the file `./minGPT/minGPT/mingpt/model.py`. You need to make the transformer blocks wrapped by the DeepSpeed activation checkpointing. Modify the \"Step 4 ToDo\" task in [model.py](./minGPT/minGPT/mingpt/model.py) file. \n"
   ]
  },
  {
   "cell_type": "markdown",
   "id": "3533ffd5",
   "metadata": {},
   "source": [
    "### 2. Create the DeepSeed configuration file\n",
    "\n",
    "Before starting, you can check the DeepSpeed documentation of the config-json file for the [activation-checkpointing.](https://www.deepspeed.ai/docs/config-json/#activation-checkpointing)\n",
    "\n",
    "Create the `ds_config_step4.json` by modifying the `#FIXME` in the cell bellow to:\n",
    "- Enable activation checkpointing\n",
    "- Make the micro batch size per GPU to 128 to make sure activation checkpointing is working well\n",
    "- Make the number of checkpoints to 12\n",
    "- Enable FP16 training\n",
    "\n"
   ]
  },
  {
   "cell_type": "code",
   "execution_count": 5,
   "id": "0112af26",
   "metadata": {},
   "outputs": [
    {
     "name": "stdout",
     "output_type": "stream",
     "text": [
      "Writing minGPT/minGPT/ds_config_step4.json\n"
     ]
    }
   ],
   "source": [
    "%%writefile minGPT/minGPT/ds_config_step4.json\n",
    "{\n",
    "  \"train_micro_batch_size_per_gpu\": 128,\n",
    "  \"optimizer\": {\n",
    "    \"type\": \"Adam\",\n",
    "    \"params\": {\n",
    "      \"lr\": 3e-4\n",
    "    }\n",
    "  },\n",
    "  \"gradient_clipping\": 1.0,\n",
    "  \"activation_checkpointing\": {\"number_checkpoints\": 12}, \n",
    "  \"fp16\": {\n",
    "    \"enabled\": true\n",
    "  }\n",
    "}"
   ]
  },
  {
   "cell_type": "markdown",
   "id": "72f43cef",
   "metadata": {},
   "source": [
    "### 3. Run the sbatch training file\n",
    "\n",
    "\n",
    "Let's start by creating copies of the training python scripts `runFirstDeepSpeed.py`."
   ]
  },
  {
   "cell_type": "code",
   "execution_count": 6,
   "id": "aa3bad5d",
   "metadata": {},
   "outputs": [],
   "source": [
    "!cp /dli/minGPT/minGPT/runFirstDeepSpeed.py /dli/minGPT/minGPT/runStep4.py"
   ]
  },
  {
   "cell_type": "markdown",
   "id": "af37d3a0",
   "metadata": {},
   "source": [
    "Let's now create the sbatch file `runSlurmStep4.sh`."
   ]
  },
  {
   "cell_type": "code",
   "execution_count": 7,
   "id": "7efe061f",
   "metadata": {},
   "outputs": [
    {
     "name": "stdout",
     "output_type": "stream",
     "text": [
      "Writing ./minGPT/minGPT/runSlurmStep4.sh\n"
     ]
    }
   ],
   "source": [
    "%%writefile ./minGPT/minGPT/runSlurmStep4.sh\n",
    "#!/bin/bash\n",
    "#SBATCH --job-name=dli_assessment_step4\n",
    "#SBATCH --nodes=2\n",
    "#SBATCH --ntasks-per-node=1       \n",
    "#SBATCH --cpus-per-task=32 ### Number of threads per task (OMP threads)\n",
    "#SBATCH -o /dli/megatron/logs/%j.out\n",
    "#SBATCH -e /dli/megatron/logs/%j.err\n",
    "\n",
    "# Number of nodes\n",
    "NUM_NODES=2\n",
    "# Number of GPUs per node\n",
    "NUM_GPUS=2\n",
    "\n",
    "deepspeed --num_nodes=${NUM_NODES} --hostfile /dli/minGPT/minGPT/hostfile --num_gpus=${NUM_GPUS} /dli/minGPT/minGPT/runStep4.py \\\n",
    "    --deepspeed \\\n",
    "    --deepspeed_config /dli/minGPT/minGPT/ds_config_step4.json"
   ]
  },
  {
   "cell_type": "markdown",
   "id": "0cb16851",
   "metadata": {},
   "source": [
    "Once you have done the above, please run the with the below command to submit the training job to the slurm scheduler."
   ]
  },
  {
   "cell_type": "code",
   "execution_count": null,
   "id": "e8a10d38-9eda-41e2-bcce-8156caced370",
   "metadata": {},
   "outputs": [],
   "source": [
    "!sbatch /dli/minGPT/minGPT/runSlurmStep4.sh\n",
    "!squeue"
   ]
  },
  {
   "cell_type": "markdown",
   "id": "59e7261f-bd99-4cea-98b6-5be237aa3446",
   "metadata": {},
   "source": [
    "Verify the execution of your code using the below (you should see it progress despite the large batch size):"
   ]
  },
  {
   "cell_type": "code",
   "execution_count": null,
   "id": "0e3bf8a5-c6f8-4e16-89ea-b65cfc0aefe1",
   "metadata": {},
   "outputs": [],
   "source": [
    "!JOB_ID=TODO_ENTER_JOB_ID;cat /dli/megatron/logs/$JOB_ID.out"
   ]
  },
  {
   "cell_type": "code",
   "execution_count": null,
   "id": "7f84c360-9eb9-41aa-ab6c-b1eaec2add62",
   "metadata": {},
   "outputs": [],
   "source": [
    "!JOB_ID=TODO_ENTER_JOB_ID;cat /dli/megatron/logs/$JOB_ID.err"
   ]
  },
  {
   "cell_type": "markdown",
   "id": "817e2925-d6f1-456b-bfa9-dbec7325df58",
   "metadata": {},
   "source": [
    "Don't forget to cancel execution of your batch job once you are happy."
   ]
  },
  {
   "cell_type": "code",
   "execution_count": null,
   "id": "cefa60c4-e58f-435e-9960-64a8445308e9",
   "metadata": {},
   "outputs": [],
   "source": [
    "!squeue"
   ]
  },
  {
   "cell_type": "code",
   "execution_count": null,
   "id": "a5904dcb-3a59-43c4-8806-d5320324855b",
   "metadata": {},
   "outputs": [],
   "source": [
    "!scancel  #PASTE_JOB_ID_HERE"
   ]
  },
  {
   "cell_type": "markdown",
   "id": "f112d963",
   "metadata": {},
   "source": [
    "### Further optimization consideration \n",
    "All workers participating in the training process are generating the same output. Thus, the k-means is computed twice. \n",
    "It is possible to ajust the k-means implmentation to execute it just once and with a redistribution of the results across all of the workers. \n",
    "Bellow an example on how to do it:\n",
    "\n",
    "```import torch.distributed as dist\n",
    "def run_kmeans(x, ncluster, niter=8, rank, size):\n",
    "    print('KMeans executed on rank ', rank, ' Worlds size ', size)\n",
    "    N, D = x.size()\n",
    "    c = x[torch.randperm(N)[:ncluster]] # init clusters at random\n",
    "    c = c.cuda(args.local_rank) # move the tensor to the GPU for exchange\n",
    "    if rank == 0:\n",
    "        # Computing KMeans only on rank 0 \n",
    "        with torch.no_grad():\n",
    "            c = kmeans(x, ncluster, niter)\n",
    "    # We now have computed the clusters so can proceed to the exchange\n",
    "    dist.barrier()\n",
    "    print('Broadcasting')\n",
    "    dist.broadcast(C.cuda(args.local_rank), src=0)\n",
    "    c=c.cpu()\n",
    "    print('Rank ', rank, ' has data ', C.size())\n",
    "    return c\n",
    "\n",
    "C=run_kmeans(px, ncluster, niter=8, dist.get_rank(), dist.get_world_size())    \n",
    "```\n"
   ]
  },
  {
   "cell_type": "markdown",
   "id": "42e2bd1d-d375-4db3-815f-9ae64336805f",
   "metadata": {},
   "source": [
    "## Step 5: Scaling up\n",
    "\n",
    "Now that we have a minimal functional implemented, let's scale out the training job. In this part of the assessment, we will make the model substantially bigger. \n",
    "\n",
    "\n",
    "&nbsp; &nbsp; 1. Scale the model's architecture   \n",
    "&nbsp; &nbsp; 2. Create the DeepSeed configuration file enabeling activation checkpointing, FP16 training, ZeRO optimizer     \n",
    "&nbsp; &nbsp; 3. Create and run the sbatch training file  \n",
    "\n",
    "### 1. Scale the model's architecture\n",
    "Before modifying the training script, let's start by making a copy to be modified:"
   ]
  },
  {
   "cell_type": "code",
   "execution_count": 8,
   "id": "5161b46d-16d2-4666-ba8a-a687d1912f93",
   "metadata": {},
   "outputs": [],
   "source": [
    "!cp /dli/minGPT/minGPT/runFirstDeepSpeed.py /dli/minGPT/minGPT/runStep5.py"
   ]
  },
  {
   "cell_type": "markdown",
   "id": "2e2d6341-5b42-4d1f-a6cd-365e0bb4fbbf",
   "metadata": {},
   "source": [
    "Adjust the number of layers of the VisionTransformers to **24** by modifying the [runStep5.py](./minGPT/minGPT/runStep5.py) on the \"GPTConfig\" section where the architecture of the neural network dimensions is defined as: \n",
    "```\n",
    "mconf = GPTConfig(train_dataset.vocab_size, train_dataset.block_size,\n",
    "                  embd_pdrop=0.0, resid_pdrop=0.0, attn_pdrop=0.0,\n",
    "                  n_layer=12, n_head=8, n_embd=256)\n",
    "```\n",
    "\n",
    "\n",
    "### 2. Create the DeepSeed configuration file enabling activation checkpointing, FP16 training, ZeRO optimizer\n",
    "\n",
    "Alter [ds_config_step5.json](./minGPT/minGPT/ds_config_step5.json) to reconfigure be enabling:\n",
    "- Gradient accumulation and execute 4 accumulation steps to increase the global batch size (which is frequently needed to maintain fixed hyperparameters).\n",
    "- Activation checkpointing to create 24 rather than 12 checkpoints\n",
    "- FP16 training\n",
    "- ZeRo Stage 3 optimizer with CPU offload for both parameters and optimizer states. Check the [ZeRO documentation](https://deepspeed.readthedocs.io/en/latest/zero3.html) for more details. \n"
   ]
  },
  {
   "cell_type": "code",
   "execution_count": 9,
   "id": "64ce4ee5-52a3-4611-9438-242b1b2837b2",
   "metadata": {},
   "outputs": [
    {
     "name": "stdout",
     "output_type": "stream",
     "text": [
      "Writing minGPT/minGPT/ds_config_step5.json\n"
     ]
    }
   ],
   "source": [
    "%%writefile minGPT/minGPT/ds_config_step5.json\n",
    "{\n",
    "  \"train_micro_batch_size_per_gpu\": 128,\n",
    "  \"gradient_accumulation_steps\": 4,\n",
    "  \"optimizer\": {\n",
    "    \"type\": \"Adam\",\n",
    "    \"params\": {\n",
    "      \"lr\": 3e-4\n",
    "    }\n",
    "  },\n",
    "  \"gradient_clipping\": 1.0,\n",
    "  \"activation_checkpointing\": {\"number_checkpoints\": 24}, \n",
    "  \"fp16\": {\n",
    "    \"enabled\": true\n",
    "  },\n",
    "  \"zero_optimization\": {\n",
    "    \"stage\": 3,\n",
    "    \"offload_param\": {\n",
    "      \"device\": \"cpu\"\n",
    "    },\n",
    "    \"offload_optimizer\": {\n",
    "      \"device\": \"cpu\"\n",
    "    }\n",
    "  }\n",
    "}"
   ]
  },
  {
   "cell_type": "markdown",
   "id": "4338d1e4-5814-48b6-935f-10a111f8f76e",
   "metadata": {},
   "source": [
    "### 3. Create and run the sbatch training file \n",
    "Execute the next cell to generate the sbatch script for the step5 training. \n"
   ]
  },
  {
   "cell_type": "code",
   "execution_count": 10,
   "id": "c5b9051e-1386-4aff-be66-d16d637f9377",
   "metadata": {},
   "outputs": [
    {
     "name": "stdout",
     "output_type": "stream",
     "text": [
      "Writing ./minGPT/minGPT/runSlurmStep5.sh\n"
     ]
    }
   ],
   "source": [
    "%%writefile ./minGPT/minGPT/runSlurmStep5.sh\n",
    "#!/bin/bash\n",
    "#SBATCH --job-name=dli_assessment_step5\n",
    "#SBATCH --nodes=2\n",
    "#SBATCH --ntasks-per-node=1       \n",
    "#SBATCH --cpus-per-task=32 ### Number of threads per task (OMP threads)\n",
    "#SBATCH -o /dli/megatron/logs/%j.out\n",
    "#SBATCH -e /dli/megatron/logs/%j.err\n",
    "\n",
    "# Number of nodes\n",
    "NUM_NODES=2\n",
    "# Number of GPUs per node\n",
    "NUM_GPUS=2\n",
    "\n",
    "deepspeed --num_nodes=${NUM_NODES} --hostfile /dli/minGPT/minGPT/hostfile --num_gpus=${NUM_GPUS} /dli/minGPT/minGPT/runStep5.py \\\n",
    "    --deepspeed \\\n",
    "    --deepspeed_config /dli/minGPT/minGPT/ds_config_step5.json"
   ]
  },
  {
   "cell_type": "markdown",
   "id": "c9a41a70-bc32-439c-a9f2-8a9faf70fe6f",
   "metadata": {},
   "source": [
    "Once you have made the above changes please execute your job with the below command:"
   ]
  },
  {
   "cell_type": "code",
   "execution_count": 18,
   "id": "40801a02-10c5-4dd6-be57-ed2a5ad24516",
   "metadata": {},
   "outputs": [
    {
     "name": "stdout",
     "output_type": "stream",
     "text": [
      "Submitted batch job 3\n",
      "             JOBID PARTITION     NAME     USER ST       TIME  NODES NODELIST(REASON)\n",
      "                 3  slurmpar dli_asse    admin PD       0:00      2 (None)\n"
     ]
    }
   ],
   "source": [
    "!sbatch /dli/minGPT/minGPT/runSlurmStep5.sh\n",
    "!squeue"
   ]
  },
  {
   "cell_type": "markdown",
   "id": "2fef1ba9-40e3-421d-b3d4-3bf9cb1350c9",
   "metadata": {},
   "source": [
    "Verify the execution of your code using the below:"
   ]
  },
  {
   "cell_type": "code",
   "execution_count": 51,
   "id": "cb23a05d-cfe3-4049-b97b-c8370ed38799",
   "metadata": {},
   "outputs": [
    {
     "name": "stdout",
     "output_type": "stream",
     "text": [
      "[2023-03-24 05:28:26,738] [INFO] [runner.py:378:main] Using IP address of 172.18.0.3 for node slurmnode1\n",
      "[2023-03-24 05:28:26,738] [INFO] [multinode_runner.py:65:get_cmd] Running on the following workers: slurmnode1,slurmnode2\n",
      "[2023-03-24 05:28:26,739] [INFO] [runner.py:457:main] cmd = pdsh -f 1024 -w slurmnode1,slurmnode2 export NCCL_VERSION=2.11.4; export PYTHONPATH=/dli:/etc/assessment/; export PYTHONIOENCODING=utf-8; export NCCL_DISABLE_P2P=1;  cd /dli; /opt/conda/bin/python3.8 -u -m deepspeed.launcher.launch --world_info=eyJzbHVybW5vZGUxIjogWzAsIDFdLCAic2x1cm1ub2RlMiI6IFswLCAxXX0= --node_rank=%n --master_addr=172.18.0.3 --master_port=29500 /dli/minGPT/minGPT/runStep5.py --deepspeed --deepspeed_config '/dli/minGPT/minGPT/ds_config_step5.json'\n",
      "slurmnode2: [2023-03-24 05:28:29,054] [INFO] [launch.py:96:main] 1 NCCL_VERSION=2.11.4\n",
      "slurmnode2: [2023-03-24 05:28:29,054] [INFO] [launch.py:96:main] 1 NCCL_DISABLE_P2P=1\n",
      "slurmnode2: [2023-03-24 05:28:29,054] [INFO] [launch.py:103:main] WORLD INFO DICT: {'slurmnode1': [0, 1], 'slurmnode2': [0, 1]}\n",
      "slurmnode2: [2023-03-24 05:28:29,054] [INFO] [launch.py:109:main] nnodes=2, num_local_procs=2, node_rank=1\n",
      "slurmnode2: [2023-03-24 05:28:29,054] [INFO] [launch.py:122:main] global_rank_mapping=defaultdict(<class 'list'>, {'slurmnode1': [0, 1], 'slurmnode2': [2, 3]})\n",
      "slurmnode2: [2023-03-24 05:28:29,054] [INFO] [launch.py:123:main] dist_world_size=4\n",
      "slurmnode2: [2023-03-24 05:28:29,054] [INFO] [launch.py:125:main] Setting CUDA_VISIBLE_DEVICES=0,1\n",
      "slurmnode1: [2023-03-24 05:28:29,055] [INFO] [launch.py:96:main] 0 NCCL_VERSION=2.11.4\n",
      "slurmnode1: [2023-03-24 05:28:29,055] [INFO] [launch.py:96:main] 0 NCCL_DISABLE_P2P=1\n",
      "slurmnode1: [2023-03-24 05:28:29,055] [INFO] [launch.py:103:main] WORLD INFO DICT: {'slurmnode1': [0, 1], 'slurmnode2': [0, 1]}\n",
      "slurmnode1: [2023-03-24 05:28:29,055] [INFO] [launch.py:109:main] nnodes=2, num_local_procs=2, node_rank=0\n",
      "slurmnode1: [2023-03-24 05:28:29,055] [INFO] [launch.py:122:main] global_rank_mapping=defaultdict(<class 'list'>, {'slurmnode1': [0, 1], 'slurmnode2': [2, 3]})\n",
      "slurmnode1: [2023-03-24 05:28:29,055] [INFO] [launch.py:123:main] dist_world_size=4\n",
      "slurmnode1: [2023-03-24 05:28:29,055] [INFO] [launch.py:125:main] Setting CUDA_VISIBLE_DEVICES=0,1\n",
      "slurmnode1: [2023-03-24 05:28:30,847] [INFO] [distributed.py:48:init_distributed] Initializing torch distributed with backend: nccl\n",
      "slurmnode1: Files already downloaded and verifiedFiles already downloaded and verified\n",
      "slurmnode1: \n",
      "slurmnode2: Using downloaded and verified file: ./cifar-10-python.tar.gzUsing downloaded and verified file: ./cifar-10-python.tar.gz\n",
      "slurmnode2: \n",
      "slurmnode2: Extracting ./cifar-10-python.tar.gz to ./Extracting ./cifar-10-python.tar.gz to ./\n",
      "slurmnode2: \n",
      "slurmnode1: Files already downloaded and verifiedFiles already downloaded and verified\n",
      "slurmnode1: \n",
      "slurmnode2: Files already downloaded and verifiedFiles already downloaded and verified\n",
      "slurmnode2: \n",
      "slurmnode1: done step 1/8, re-initialized 4 dead clusters\n",
      "slurmnode1: done step 1/8, re-initialized 4 dead clusters\n",
      "slurmnode1: done step 2/8, re-initialized 0 dead clusters\n",
      "slurmnode1: done step 2/8, re-initialized 0 dead clusters\n",
      "slurmnode1: done step 3/8, re-initialized 0 dead clusters\n",
      "slurmnode2: done step 1/8, re-initialized 4 dead clusters\n",
      "slurmnode2: done step 1/8, re-initialized 4 dead clusters\n",
      "slurmnode1: done step 4/8, re-initialized 0 dead clusters\n",
      "slurmnode1: done step 3/8, re-initialized 0 dead clusters\n",
      "slurmnode2: done step 2/8, re-initialized 0 dead clusters\n",
      "slurmnode2: done step 2/8, re-initialized 0 dead clusters\n",
      "slurmnode1: done step 4/8, re-initialized 0 dead clusters\n",
      "slurmnode1: done step 5/8, re-initialized 0 dead clusters\n",
      "slurmnode2: done step 3/8, re-initialized 0 dead clusters\n",
      "slurmnode2: done step 3/8, re-initialized 0 dead clusters\n",
      "slurmnode1: done step 5/8, re-initialized 0 dead clusters\n",
      "slurmnode1: done step 6/8, re-initialized 0 dead clusters\n",
      "slurmnode2: done step 4/8, re-initialized 0 dead clusters\n",
      "slurmnode2: done step 4/8, re-initialized 0 dead clusters\n",
      "slurmnode1: done step 6/8, re-initialized 0 dead clusters\n",
      "slurmnode1: done step 7/8, re-initialized 0 dead clusters\n",
      "slurmnode2: done step 5/8, re-initialized 0 dead clusters\n",
      "slurmnode2: done step 5/8, re-initialized 0 dead clusters\n",
      "slurmnode1: done step 7/8, re-initialized 0 dead clusters\n",
      "slurmnode2: done step 6/8, re-initialized 0 dead clusters\n",
      "slurmnode1: done step 8/8, re-initialized 0 dead clusters\n",
      "slurmnode2: done step 6/8, re-initialized 0 dead clusters\n",
      "slurmnode1: [2023-03-24 05:29:07,310] [INFO] [logging.py:69:log_dist] [Rank 0] DeepSpeed info: version=0.6.5, git-hash=unknown, git-branch=unknown\n",
      "slurmnode1: done step 8/8, re-initialized 0 dead clusters\n",
      "slurmnode2: done step 7/8, re-initialized 0 dead clusters\n",
      "slurmnode2: done step 7/8, re-initialized 0 dead clusters\n",
      "slurmnode2: done step 8/8, re-initialized 0 dead clusters\n",
      "slurmnode2: done step 8/8, re-initialized 0 dead clusters\n",
      "slurmnode1: [2023-03-24 05:29:14,720] [INFO] [engine.py:278:__init__] DeepSpeed Flops Profiler Enabled: False\n",
      "slurmnode2: Using /home/admin/.cache/torch_extensions/py38_cu115 as PyTorch extensions root...\n",
      "slurmnode2: Creating extension directory /home/admin/.cache/torch_extensions/py38_cu115/cpu_adam...\n",
      "slurmnode2: Using /home/admin/.cache/torch_extensions/py38_cu115 as PyTorch extensions root...\n",
      "slurmnode2: Creating extension directory /home/admin/.cache/torch_extensions/py38_cu115/cpu_adam...\n",
      "slurmnode2: Detected CUDA files, patching ldflags\n",
      "slurmnode2: Emitting ninja build file /home/admin/.cache/torch_extensions/py38_cu115/cpu_adam/build.ninja...\n",
      "slurmnode2: Building extension module cpu_adam...\n",
      "slurmnode2: Allowing ninja to set a default number of workers... (overridable by setting the environment variable MAX_JOBS=N)\n",
      "slurmnode1: Using /home/admin/.cache/torch_extensions/py38_cu115 as PyTorch extensions root...\n",
      "slurmnode1: Using /home/admin/.cache/torch_extensions/py38_cu115 as PyTorch extensions root...\n",
      "slurmnode2: [1/3] /usr/local/cuda/bin/nvcc  -DTORCH_EXTENSION_NAME=cpu_adam -DTORCH_API_INCLUDE_EXTENSION_H -DPYBIND11_COMPILER_TYPE=\\\"_gcc\\\" -DPYBIND11_STDLIB=\\\"_libstdcpp\\\" -DPYBIND11_BUILD_ABI=\\\"_cxxabi1013\\\" -I/opt/conda/lib/python3.8/site-packages/deepspeed/ops/csrc/includes -I/usr/local/cuda/include -isystem /opt/conda/lib/python3.8/site-packages/torch/include -isystem /opt/conda/lib/python3.8/site-packages/torch/include/torch/csrc/api/include -isystem /opt/conda/lib/python3.8/site-packages/torch/include/TH -isystem /opt/conda/lib/python3.8/site-packages/torch/include/THC -isystem /usr/local/cuda/include -isystem /opt/conda/include/python3.8 -D_GLIBCXX_USE_CXX11_ABI=1 -D__CUDA_NO_HALF_OPERATORS__ -D__CUDA_NO_HALF_CONVERSIONS__ -D__CUDA_NO_BFLOAT16_CONVERSIONS__ -D__CUDA_NO_HALF2_OPERATORS__ --expt-relaxed-constexpr -gencode=arch=compute_70,code=compute_70 -gencode=arch=compute_70,code=sm_70 --compiler-options '-fPIC' -O3 --use_fast_math -std=c++14 -U__CUDA_NO_HALF_OPERATORS__ -U__CUDA_NO_HALF_CONVERSIONS__ -U__CUDA_NO_HALF2_OPERATORS__ -gencode=arch=compute_70,code=sm_70 -gencode=arch=compute_70,code=compute_70 -c /opt/conda/lib/python3.8/site-packages/deepspeed/ops/csrc/common/custom_cuda_kernel.cu -o custom_cuda_kernel.cuda.o \n",
      "slurmnode2: [2/3] c++ -MMD -MF cpu_adam.o.d -DTORCH_EXTENSION_NAME=cpu_adam -DTORCH_API_INCLUDE_EXTENSION_H -DPYBIND11_COMPILER_TYPE=\\\"_gcc\\\" -DPYBIND11_STDLIB=\\\"_libstdcpp\\\" -DPYBIND11_BUILD_ABI=\\\"_cxxabi1013\\\" -I/opt/conda/lib/python3.8/site-packages/deepspeed/ops/csrc/includes -I/usr/local/cuda/include -isystem /opt/conda/lib/python3.8/site-packages/torch/include -isystem /opt/conda/lib/python3.8/site-packages/torch/include/torch/csrc/api/include -isystem /opt/conda/lib/python3.8/site-packages/torch/include/TH -isystem /opt/conda/lib/python3.8/site-packages/torch/include/THC -isystem /usr/local/cuda/include -isystem /opt/conda/include/python3.8 -D_GLIBCXX_USE_CXX11_ABI=1 -fPIC -std=c++14 -O3 -std=c++14 -g -Wno-reorder -L/usr/local/cuda/lib64 -lcudart -lcublas -g -march=native -fopenmp -D__AVX256__ -c /opt/conda/lib/python3.8/site-packages/deepspeed/ops/csrc/adam/cpu_adam.cpp -o cpu_adam.o \n",
      "slurmnode2: [3/3] c++ cpu_adam.o custom_cuda_kernel.cuda.o -shared -lcurand -L/opt/conda/lib/python3.8/site-packages/torch/lib -lc10 -lc10_cuda -ltorch_cpu -ltorch_cuda -ltorch -ltorch_python -L/usr/local/cuda/lib64 -lcudart -o cpu_adam.so\n",
      "slurmnode2: Loading extension module cpu_adam...\n",
      "slurmnode2: Time to load cpu_adam op: 35.492050647735596 seconds\n",
      "slurmnode1: Loading extension module cpu_adam...\n",
      "slurmnode1: Time to load cpu_adam op: 35.48467421531677 seconds\n",
      "slurmnode1: Loading extension module cpu_adam...\n",
      "slurmnode1: Time to load cpu_adam op: 35.47410464286804 seconds\n",
      "slurmnode2: Loading extension module cpu_adam...\n",
      "slurmnode2: Time to load cpu_adam op: 35.555869340896606 seconds\n",
      "slurmnode2: Adam Optimizer #0 is created with AVX2 arithmetic capability.\n",
      "slurmnode2: Config: alpha=0.000300, betas=(0.900000, 0.999000), weight_decay=0.000000, adam_w=1\n",
      "slurmnode1: Adam Optimizer #0 is created with AVX2 arithmetic capability.\n",
      "slurmnode1: Config: alpha=0.000300, betas=(0.900000, 0.999000), weight_decay=0.000000, adam_w=1\n",
      "slurmnode2: Using /home/admin/.cache/torch_extensions/py38_cu115 as PyTorch extensions root...\n",
      "slurmnode2: Creating extension directory /home/admin/.cache/torch_extensions/py38_cu115/utils...\n",
      "slurmnode1: Using /home/admin/.cache/torch_extensions/py38_cu115 as PyTorch extensions root...\n",
      "slurmnode2: Adam Optimizer #0 is created with AVX2 arithmetic capability.\n",
      "slurmnode2: Config: alpha=0.000300, betas=(0.900000, 0.999000), weight_decay=0.000000, adam_w=1\n",
      "slurmnode1: Adam Optimizer #0 is created with AVX2 arithmetic capability.\n",
      "slurmnode1: Config: alpha=0.000300, betas=(0.900000, 0.999000), weight_decay=0.000000, adam_w=1\n",
      "slurmnode1: [2023-03-24 05:29:52,439] [INFO] [engine.py:1100:_configure_optimizer] Using DeepSpeed Optimizer param name adam as basic optimizer\n",
      "slurmnode2: Emitting ninja build file /home/admin/.cache/torch_extensions/py38_cu115/utils/build.ninja...\n",
      "slurmnode2: Building extension module utils...\n",
      "slurmnode2: Allowing ninja to set a default number of workers... (overridable by setting the environment variable MAX_JOBS=N)\n",
      "slurmnode1: [2023-03-24 05:29:52,468] [INFO] [engine.py:1108:_configure_optimizer] DeepSpeed Basic Optimizer = DeepSpeedCPUAdam\n",
      "slurmnode1: [2023-03-24 05:29:52,468] [INFO] [utils.py:52:is_zero_supported_optimizer] Checking ZeRO support for optimizer=DeepSpeedCPUAdam type=<class 'deepspeed.ops.adam.cpu_adam.DeepSpeedCPUAdam'>\n",
      "slurmnode1: [2023-03-24 05:29:52,469] [INFO] [logging.py:69:log_dist] [Rank 0] Creating fp16 ZeRO stage 3 optimizer\n",
      "slurmnode1: [2023-03-24 05:29:52,469] [INFO] [engine.py:1410:_configure_zero_optimizer] Initializing ZeRO Stage 3\n",
      "slurmnode2: Using /home/admin/.cache/torch_extensions/py38_cu115 as PyTorch extensions root...\n",
      "slurmnode1: [2023-03-24 05:29:52,477] [INFO] [stage3.py:275:__init__] Reduce bucket size 500000000\n",
      "slurmnode1: [2023-03-24 05:29:52,477] [INFO] [stage3.py:276:__init__] Prefetch bucket size 50000000\n",
      "slurmnode1: Using /home/admin/.cache/torch_extensions/py38_cu115 as PyTorch extensions root...\n",
      "slurmnode2: [1/2] c++ -MMD -MF flatten_unflatten.o.d -DTORCH_EXTENSION_NAME=utils -DTORCH_API_INCLUDE_EXTENSION_H -DPYBIND11_COMPILER_TYPE=\\\"_gcc\\\" -DPYBIND11_STDLIB=\\\"_libstdcpp\\\" -DPYBIND11_BUILD_ABI=\\\"_cxxabi1013\\\" -isystem /opt/conda/lib/python3.8/site-packages/torch/include -isystem /opt/conda/lib/python3.8/site-packages/torch/include/torch/csrc/api/include -isystem /opt/conda/lib/python3.8/site-packages/torch/include/TH -isystem /opt/conda/lib/python3.8/site-packages/torch/include/THC -isystem /opt/conda/include/python3.8 -D_GLIBCXX_USE_CXX11_ABI=1 -fPIC -std=c++14 -c /opt/conda/lib/python3.8/site-packages/deepspeed/ops/csrc/utils/flatten_unflatten.cpp -o flatten_unflatten.o \n",
      "slurmnode2: [2/2] c++ flatten_unflatten.o -shared -L/opt/conda/lib/python3.8/site-packages/torch/lib -lc10 -ltorch_cpu -ltorch -ltorch_python -o utils.so\n",
      "slurmnode2: Loading extension module utils...\n",
      "slurmnode2: Time to load utils op: 16.65075945854187 seconds\n",
      "slurmnode1: Loading extension module utils...\n",
      "slurmnode1: Time to load utils op: 16.628148794174194 seconds\n",
      "slurmnode2: Loading extension module utils...\n",
      "slurmnode2: Time to load utils op: 16.627944946289062 seconds\n",
      "slurmnode1: Loading extension module utils...\n",
      "slurmnode1: Time to load utils op: 16.626903772354126 seconds\n",
      "slurmnode1: [2023-03-24 05:30:09,491] [INFO] [stage3.py:567:_setup_for_real_optimizer] optimizer state initialized\n",
      "slurmnode2: Using /home/admin/.cache/torch_extensions/py38_cu115 as PyTorch extensions root...\n",
      "slurmnode2: No modifications detected for re-loaded extension module utils, skipping build step...\n",
      "slurmnode2: Loading extension module utils...\n",
      "slurmnode2: Using /home/admin/.cache/torch_extensions/py38_cu115 as PyTorch extensions root...\n",
      "slurmnode1: Using /home/admin/.cache/torch_extensions/py38_cu115 as PyTorch extensions root...\n",
      "slurmnode2: Time to load utils op: 0.0005390644073486328 seconds\n",
      "slurmnode1: No modifications detected for re-loaded extension module utils, skipping build step...\n",
      "slurmnode1: Loading extension module utils...\n",
      "slurmnode2: No modifications detected for re-loaded extension module utils, skipping build step...\n",
      "slurmnode2: Loading extension module utils...\n",
      "slurmnode1: Time to load utils op: 0.0005183219909667969 seconds\n",
      "slurmnode2: Time to load utils op: 0.0005638599395751953 seconds\n",
      "slurmnode1: [2023-03-24 05:30:10,049] [INFO] [utils.py:828:see_memory_usage] After initializing ZeRO optimizer\n",
      "slurmnode1: [2023-03-24 05:30:10,050] [INFO] [utils.py:829:see_memory_usage] MA 0.98 GB         Max_MA 0.98 GB         CA 1.03 GB         Max_CA 1 GB \n",
      "slurmnode1: [2023-03-24 05:30:10,051] [INFO] [utils.py:837:see_memory_usage] CPU Virtual Memory:  used = 17.41 GB, percent = 7.3%\n",
      "slurmnode1: [2023-03-24 05:30:10,051] [INFO] [logging.py:69:log_dist] [Rank 0] DeepSpeed Final Optimizer = adam\n",
      "slurmnode1: [2023-03-24 05:30:10,051] [INFO] [engine.py:795:_configure_lr_scheduler] DeepSpeed using client LR scheduler\n",
      "slurmnode1: [2023-03-24 05:30:10,051] [INFO] [logging.py:69:log_dist] [Rank 0] DeepSpeed LR Scheduler = None\n",
      "slurmnode1: [2023-03-24 05:30:10,052] [INFO] [logging.py:69:log_dist] [Rank 0] step=0, skipped=0, lr=[0.0003], mom=[(0.9, 0.999)]\n",
      "slurmnode1: [2023-03-24 05:30:10,053] [INFO] [config.py:1059:print] DeepSpeedEngine configuration:\n",
      "slurmnode1: [2023-03-24 05:30:10,053] [INFO] [config.py:1063:print]   activation_checkpointing_config  {\n",
      "slurmnode1:     \"partition_activations\": false, \n",
      "slurmnode1:     \"contiguous_memory_optimization\": false, \n",
      "slurmnode1:     \"cpu_checkpointing\": false, \n",
      "slurmnode1:     \"number_checkpoints\": 24, \n",
      "slurmnode1:     \"synchronize_checkpoint_boundary\": false, \n",
      "slurmnode1:     \"profile\": false\n",
      "slurmnode1: }\n",
      "slurmnode1: [2023-03-24 05:30:10,053] [INFO] [config.py:1063:print]   aio_config ................... {'block_size': 1048576, 'queue_depth': 8, 'thread_count': 1, 'single_submit': False, 'overlap_events': True}\n",
      "slurmnode1: [2023-03-24 05:30:10,053] [INFO] [config.py:1063:print]   amp_enabled .................. False\n",
      "slurmnode1: [2023-03-24 05:30:10,053] [INFO] [config.py:1063:print]   amp_params ................... False\n",
      "slurmnode1: [2023-03-24 05:30:10,054] [INFO] [config.py:1063:print]   autotuning_config ............ {\n",
      "slurmnode1:     \"enabled\": false, \n",
      "slurmnode1:     \"start_step\": null, \n",
      "slurmnode1:     \"end_step\": null, \n",
      "slurmnode1:     \"metric_path\": null, \n",
      "slurmnode1:     \"arg_mappings\": null, \n",
      "slurmnode1:     \"metric\": \"throughput\", \n",
      "slurmnode1:     \"model_info\": null, \n",
      "slurmnode1:     \"results_dir\": null, \n",
      "slurmnode1:     \"exps_dir\": null, \n",
      "slurmnode1:     \"overwrite\": true, \n",
      "slurmnode1:     \"fast\": true, \n",
      "slurmnode1:     \"start_profile_step\": 3, \n",
      "slurmnode1:     \"end_profile_step\": 5, \n",
      "slurmnode1:     \"tuner_type\": \"gridsearch\", \n",
      "slurmnode1:     \"tuner_early_stopping\": 5, \n",
      "slurmnode1:     \"tuner_num_trials\": 50, \n",
      "slurmnode1:     \"model_info_path\": null, \n",
      "slurmnode1:     \"mp_size\": 1, \n",
      "slurmnode1:     \"max_train_batch_size\": null, \n",
      "slurmnode1:     \"min_train_batch_size\": 1, \n",
      "slurmnode1:     \"max_train_micro_batch_size_per_gpu\": 1.024000e+03, \n",
      "slurmnode1:     \"min_train_micro_batch_size_per_gpu\": 1, \n",
      "slurmnode1:     \"num_tuning_micro_batch_sizes\": 3\n",
      "slurmnode1: }\n",
      "slurmnode1: [2023-03-24 05:30:10,054] [INFO] [config.py:1063:print]   bfloat16_enabled ............. False\n",
      "slurmnode1: [2023-03-24 05:30:10,054] [INFO] [config.py:1063:print]   checkpoint_tag_validation_enabled  True\n",
      "slurmnode1: [2023-03-24 05:30:10,054] [INFO] [config.py:1063:print]   checkpoint_tag_validation_fail  False\n",
      "slurmnode1: [2023-03-24 05:30:10,055] [INFO] [config.py:1063:print]   communication_data_type ...... None\n",
      "slurmnode1: [2023-03-24 05:30:10,055] [INFO] [config.py:1063:print]   curriculum_enabled ........... False\n",
      "slurmnode1: [2023-03-24 05:30:10,055] [INFO] [config.py:1063:print]   curriculum_params ............ False\n",
      "slurmnode1: [2023-03-24 05:30:10,055] [INFO] [config.py:1063:print]   dataloader_drop_last ......... False\n",
      "slurmnode1: [2023-03-24 05:30:10,055] [INFO] [config.py:1063:print]   disable_allgather ............ False\n",
      "slurmnode1: [2023-03-24 05:30:10,055] [INFO] [config.py:1063:print]   dump_state ................... False\n",
      "slurmnode1: [2023-03-24 05:30:10,055] [INFO] [config.py:1063:print]   dynamic_loss_scale_args ...... None\n",
      "slurmnode1: [2023-03-24 05:30:10,055] [INFO] [config.py:1063:print]   eigenvalue_enabled ........... False\n",
      "slurmnode1: [2023-03-24 05:30:10,055] [INFO] [config.py:1063:print]   eigenvalue_gas_boundary_resolution  1\n",
      "slurmnode1: [2023-03-24 05:30:10,056] [INFO] [config.py:1063:print]   eigenvalue_layer_name ........ bert.encoder.layer\n",
      "slurmnode1: [2023-03-24 05:30:10,056] [INFO] [config.py:1063:print]   eigenvalue_layer_num ......... 0\n",
      "slurmnode1: [2023-03-24 05:30:10,056] [INFO] [config.py:1063:print]   eigenvalue_max_iter .......... 100\n",
      "slurmnode1: [2023-03-24 05:30:10,056] [INFO] [config.py:1063:print]   eigenvalue_stability ......... 1e-06\n",
      "slurmnode1: [2023-03-24 05:30:10,056] [INFO] [config.py:1063:print]   eigenvalue_tol ............... 0.01\n",
      "slurmnode1: [2023-03-24 05:30:10,056] [INFO] [config.py:1063:print]   eigenvalue_verbose ........... False\n",
      "slurmnode1: [2023-03-24 05:30:10,056] [INFO] [config.py:1063:print]   elasticity_enabled ........... False\n",
      "slurmnode1: [2023-03-24 05:30:10,056] [INFO] [config.py:1063:print]   flops_profiler_config ........ {\n",
      "slurmnode1:     \"enabled\": false, \n",
      "slurmnode1:     \"profile_step\": 1, \n",
      "slurmnode1:     \"module_depth\": -1, \n",
      "slurmnode1:     \"top_modules\": 1, \n",
      "slurmnode1:     \"detailed\": true, \n",
      "slurmnode1:     \"output_file\": null\n",
      "slurmnode1: }\n",
      "slurmnode1: [2023-03-24 05:30:10,056] [INFO] [config.py:1063:print]   fp16_enabled ................. True\n",
      "slurmnode1: [2023-03-24 05:30:10,057] [INFO] [config.py:1063:print]   fp16_master_weights_and_gradients  False\n",
      "slurmnode1: [2023-03-24 05:30:10,057] [INFO] [config.py:1063:print]   fp16_mixed_quantize .......... False\n",
      "slurmnode1: [2023-03-24 05:30:10,057] [INFO] [config.py:1063:print]   global_rank .................. 0\n",
      "slurmnode1: [2023-03-24 05:30:10,057] [INFO] [config.py:1063:print]   gradient_accumulation_steps .. 4\n",
      "slurmnode1: [2023-03-24 05:30:10,057] [INFO] [config.py:1063:print]   gradient_clipping ............ 1.0\n",
      "slurmnode1: [2023-03-24 05:30:10,057] [INFO] [config.py:1063:print]   gradient_predivide_factor .... 1.0\n",
      "slurmnode1: [2023-03-24 05:30:10,057] [INFO] [config.py:1063:print]   initial_dynamic_scale ........ 4294967296\n",
      "slurmnode1: [2023-03-24 05:30:10,057] [INFO] [config.py:1063:print]   loss_scale ................... 0\n",
      "slurmnode1: [2023-03-24 05:30:10,057] [INFO] [config.py:1063:print]   memory_breakdown ............. False\n",
      "slurmnode1: [2023-03-24 05:30:10,058] [INFO] [config.py:1063:print]   optimizer_legacy_fusion ...... False\n",
      "slurmnode1: [2023-03-24 05:30:10,058] [INFO] [config.py:1063:print]   optimizer_name ............... adam\n",
      "slurmnode1: [2023-03-24 05:30:10,058] [INFO] [config.py:1063:print]   optimizer_params ............. {'lr': 0.0003}\n",
      "slurmnode1: [2023-03-24 05:30:10,058] [INFO] [config.py:1063:print]   pipeline ..................... {'stages': 'auto', 'partition': 'best', 'seed_layers': False, 'activation_checkpoint_interval': 0}\n",
      "slurmnode1: [2023-03-24 05:30:10,058] [INFO] [config.py:1063:print]   pld_enabled .................. False\n",
      "slurmnode1: [2023-03-24 05:30:10,058] [INFO] [config.py:1063:print]   pld_params ................... False\n",
      "slurmnode1: [2023-03-24 05:30:10,058] [INFO] [config.py:1063:print]   prescale_gradients ........... False\n",
      "slurmnode1: [2023-03-24 05:30:10,058] [INFO] [config.py:1063:print]   quantize_change_rate ......... 0.001\n",
      "slurmnode1: [2023-03-24 05:30:10,058] [INFO] [config.py:1063:print]   quantize_groups .............. 1\n",
      "slurmnode1: [2023-03-24 05:30:10,058] [INFO] [config.py:1063:print]   quantize_offset .............. 1000\n",
      "slurmnode1: [2023-03-24 05:30:10,059] [INFO] [config.py:1063:print]   quantize_period .............. 1000\n",
      "slurmnode1: [2023-03-24 05:30:10,059] [INFO] [config.py:1063:print]   quantize_rounding ............ 0\n",
      "slurmnode1: [2023-03-24 05:30:10,059] [INFO] [config.py:1063:print]   quantize_start_bits .......... 16\n",
      "slurmnode1: [2023-03-24 05:30:10,059] [INFO] [config.py:1063:print]   quantize_target_bits ......... 8\n",
      "slurmnode1: [2023-03-24 05:30:10,059] [INFO] [config.py:1063:print]   quantize_training_enabled .... False\n",
      "slurmnode1: [2023-03-24 05:30:10,059] [INFO] [config.py:1063:print]   quantize_type ................ 0\n",
      "slurmnode1: [2023-03-24 05:30:10,059] [INFO] [config.py:1063:print]   quantize_verbose ............. False\n",
      "slurmnode1: [2023-03-24 05:30:10,059] [INFO] [config.py:1063:print]   scheduler_name ............... None\n",
      "slurmnode1: [2023-03-24 05:30:10,059] [INFO] [config.py:1063:print]   scheduler_params ............. None\n",
      "slurmnode1: [2023-03-24 05:30:10,059] [INFO] [config.py:1063:print]   sparse_attention ............. None\n",
      "slurmnode1: [2023-03-24 05:30:10,060] [INFO] [config.py:1063:print]   sparse_gradients_enabled ..... False\n",
      "slurmnode1: [2023-03-24 05:30:10,060] [INFO] [config.py:1063:print]   steps_per_print .............. 10\n",
      "slurmnode1: [2023-03-24 05:30:10,060] [INFO] [config.py:1063:print]   tensorboard_enabled .......... False\n",
      "slurmnode1: [2023-03-24 05:30:10,060] [INFO] [config.py:1063:print]   tensorboard_job_name ......... DeepSpeedJobName\n",
      "slurmnode1: [2023-03-24 05:30:10,060] [INFO] [config.py:1063:print]   tensorboard_output_path ...... \n",
      "slurmnode1: [2023-03-24 05:30:10,060] [INFO] [config.py:1063:print]   train_batch_size ............. 2048\n",
      "slurmnode1: [2023-03-24 05:30:10,060] [INFO] [config.py:1063:print]   train_micro_batch_size_per_gpu  128\n",
      "slurmnode1: [2023-03-24 05:30:10,060] [INFO] [config.py:1063:print]   use_quantizer_kernel ......... False\n",
      "slurmnode1: [2023-03-24 05:30:10,060] [INFO] [config.py:1063:print]   wall_clock_breakdown ......... False\n",
      "slurmnode1: [2023-03-24 05:30:10,060] [INFO] [config.py:1063:print]   world_size ................... 4\n",
      "slurmnode1: [2023-03-24 05:30:10,061] [INFO] [config.py:1063:print]   zero_allow_untested_optimizer  False\n",
      "slurmnode1: [2023-03-24 05:30:10,061] [INFO] [config.py:1063:print]   zero_config .................. {\n",
      "slurmnode1:     \"stage\": 3, \n",
      "slurmnode1:     \"contiguous_gradients\": true, \n",
      "slurmnode1:     \"reduce_scatter\": true, \n",
      "slurmnode1:     \"reduce_bucket_size\": 5.000000e+08, \n",
      "slurmnode1:     \"allgather_partitions\": true, \n",
      "slurmnode1:     \"allgather_bucket_size\": 5.000000e+08, \n",
      "slurmnode1:     \"overlap_comm\": true, \n",
      "slurmnode1:     \"load_from_fp32_weights\": true, \n",
      "slurmnode1:     \"elastic_checkpoint\": false, \n",
      "slurmnode1:     \"offload_param\": {\n",
      "slurmnode1:         \"device\": \"cpu\", \n",
      "slurmnode1:         \"nvme_path\": null, \n",
      "slurmnode1:         \"buffer_count\": 5, \n",
      "slurmnode1:         \"buffer_size\": 1.000000e+08, \n",
      "slurmnode1:         \"max_in_cpu\": 1.000000e+09, \n",
      "slurmnode1:         \"pin_memory\": false\n",
      "slurmnode1:     }, \n",
      "slurmnode1:     \"offload_optimizer\": {\n",
      "slurmnode1:         \"device\": \"cpu\", \n",
      "slurmnode1:         \"nvme_path\": null, \n",
      "slurmnode1:         \"buffer_count\": 4, \n",
      "slurmnode1:         \"pin_memory\": false, \n",
      "slurmnode1:         \"pipeline_read\": false, \n",
      "slurmnode1:         \"pipeline_write\": false, \n",
      "slurmnode1:         \"fast_init\": false, \n",
      "slurmnode1:         \"pipeline\": false\n",
      "slurmnode1:     }, \n",
      "slurmnode1:     \"sub_group_size\": 1.000000e+09, \n",
      "slurmnode1:     \"prefetch_bucket_size\": 5.000000e+07, \n",
      "slurmnode1:     \"param_persistence_threshold\": 1.000000e+05, \n",
      "slurmnode1:     \"max_live_parameters\": 1.000000e+09, \n",
      "slurmnode1:     \"max_reuse_distance\": 1.000000e+09, \n",
      "slurmnode1:     \"gather_16bit_weights_on_model_save\": false, \n",
      "slurmnode1:     \"ignore_unused_parameters\": true, \n",
      "slurmnode1:     \"round_robin_gradients\": false, \n",
      "slurmnode1:     \"legacy_stage1\": false\n",
      "slurmnode1: }\n",
      "slurmnode1: [2023-03-24 05:30:10,061] [INFO] [config.py:1063:print]   zero_enabled ................. True\n",
      "slurmnode1: [2023-03-24 05:30:10,061] [INFO] [config.py:1063:print]   zero_optimization_stage ...... 3\n",
      "slurmnode1: [2023-03-24 05:30:10,061] [INFO] [config.py:1065:print]   json = {\n",
      "slurmnode1:     \"train_micro_batch_size_per_gpu\": 128, \n",
      "slurmnode1:     \"gradient_accumulation_steps\": 4, \n",
      "slurmnode1:     \"optimizer\": {\n",
      "slurmnode1:         \"type\": \"Adam\", \n",
      "slurmnode1:         \"params\": {\n",
      "slurmnode1:             \"lr\": 0.0003\n",
      "slurmnode1:         }\n",
      "slurmnode1:     }, \n",
      "slurmnode1:     \"gradient_clipping\": 1.0, \n",
      "slurmnode1:     \"activation_checkpointing\": {\n",
      "slurmnode1:         \"number_checkpoints\": 24\n",
      "slurmnode1:     }, \n",
      "slurmnode1:     \"fp16\": {\n",
      "slurmnode1:         \"enabled\": true\n",
      "slurmnode1:     }, \n",
      "slurmnode1:     \"zero_optimization\": {\n",
      "slurmnode1:         \"stage\": 3, \n",
      "slurmnode1:         \"offload_param\": {\n",
      "slurmnode1:             \"device\": \"cpu\"\n",
      "slurmnode1:         }, \n",
      "slurmnode1:         \"offload_optimizer\": {\n",
      "slurmnode1:             \"device\": \"cpu\"\n",
      "slurmnode1:         }\n",
      "slurmnode1:     }\n",
      "slurmnode1: }\n",
      "slurmnode1: Using /home/admin/.cache/torch_extensions/py38_cu115 as PyTorch extensions root...\n",
      "slurmnode1: No modifications detected for re-loaded extension module utils, skipping build step...\n",
      "slurmnode1: Loading extension module utils...\n",
      "slurmnode1: Time to load utils op: 0.0006842613220214844 seconds\n",
      "slurmnode1: [2023-03-24 05:30:12,697] [INFO] [checkpointing.py:547:forward] Activation Checkpointing Information\n",
      "slurmnode1: [2023-03-24 05:30:12,698] [INFO] [checkpointing.py:548:forward] ----Partition Activations False, CPU CHECKPOINTING False\n",
      "slurmnode1: [2023-03-24 05:30:12,698] [INFO] [checkpointing.py:551:forward] ----contiguous Memory Checkpointing False with None total layers\n",
      "slurmnode1: [2023-03-24 05:30:12,698] [INFO] [checkpointing.py:554:forward] ----Synchronization False\n",
      "slurmnode1: [2023-03-24 05:30:12,698] [INFO] [checkpointing.py:555:forward] ----Profiling time in checkpointing False\n",
      "slurmnode1: [2023-03-24 05:30:33,726] [INFO] [stage3.py:2281:_overflow_clean_up] [deepspeed] OVERFLOW! Rank 0 Skipping step. Attempted loss scale: 4294967296, reducing to 2147483648.0\n",
      "slurmnode1: [2023-03-24 05:30:52,646] [INFO] [stage3.py:2281:_overflow_clean_up] [deepspeed] OVERFLOW! Rank 0 Skipping step. Attempted loss scale: 2147483648.0, reducing to 1073741824.0\n",
      "slurmnode1: [2023-03-24 05:31:01,917] [INFO] [timer.py:193:stop] 0/10, SamplesPerSec=107.00303235075711, MemAllocated=1.12GB, MaxMemAllocated=11.1GB\n",
      "slurmnode1: [2023-03-24 05:31:11,706] [INFO] [stage3.py:2281:_overflow_clean_up] [deepspeed] OVERFLOW! Rank 0 Skipping step. Attempted loss scale: 1073741824.0, reducing to 536870912.0\n",
      "slurmnode1: [2023-03-24 05:31:30,805] [INFO] [stage3.py:2281:_overflow_clean_up] [deepspeed] OVERFLOW! Rank 0 Skipping step. Attempted loss scale: 536870912.0, reducing to 268435456.0\n",
      "slurmnode1: [2023-03-24 05:31:49,798] [INFO] [stage3.py:2281:_overflow_clean_up] [deepspeed] OVERFLOW! Rank 0 Skipping step. Attempted loss scale: 268435456.0, reducing to 134217728.0\n",
      "slurmnode1: [2023-03-24 05:31:49,799] [INFO] [timer.py:193:stop] 0/20, SamplesPerSec=106.97318243119071, MemAllocated=1.11GB, MaxMemAllocated=11.1GB\n",
      "slurmnode1: [2023-03-24 05:32:08,720] [INFO] [stage3.py:2281:_overflow_clean_up] [deepspeed] OVERFLOW! Rank 0 Skipping step. Attempted loss scale: 134217728.0, reducing to 67108864.0\n",
      "slurmnode1: [2023-03-24 05:32:27,707] [INFO] [stage3.py:2281:_overflow_clean_up] [deepspeed] OVERFLOW! Rank 0 Skipping step. Attempted loss scale: 67108864.0, reducing to 33554432.0\n",
      "slurmnode1: [2023-03-24 05:32:37,028] [INFO] [timer.py:193:stop] 0/30, SamplesPerSec=107.48839842050022, MemAllocated=1.12GB, MaxMemAllocated=11.1GB\n",
      "slurmnode1: [2023-03-24 05:32:46,606] [INFO] [stage3.py:2281:_overflow_clean_up] [deepspeed] OVERFLOW! Rank 0 Skipping step. Attempted loss scale: 33554432.0, reducing to 16777216.0\n",
      "slurmnode1: [2023-03-24 05:33:05,625] [INFO] [stage3.py:2281:_overflow_clean_up] [deepspeed] OVERFLOW! Rank 0 Skipping step. Attempted loss scale: 16777216.0, reducing to 8388608.0\n",
      "slurmnode1: [2023-03-24 05:33:24,609] [INFO] [stage3.py:2281:_overflow_clean_up] [deepspeed] OVERFLOW! Rank 0 Skipping step. Attempted loss scale: 8388608.0, reducing to 4194304.0\n",
      "slurmnode1: [2023-03-24 05:33:24,610] [INFO] [logging.py:69:log_dist] [Rank 0] step=10, skipped=10, lr=[0.00029952], mom=[(0.9, 0.999)]\n",
      "slurmnode1: [2023-03-24 05:33:24,611] [INFO] [timer.py:193:stop] 0/40, SamplesPerSec=107.52365655263515, MemAllocated=1.11GB, MaxMemAllocated=11.1GB\n",
      "slurmnode1: [2023-03-24 05:33:43,703] [INFO] [stage3.py:2281:_overflow_clean_up] [deepspeed] OVERFLOW! Rank 0 Skipping step. Attempted loss scale: 4194304.0, reducing to 2097152.0\n",
      "slurmnode1: [2023-03-24 05:34:02,690] [INFO] [stage3.py:2281:_overflow_clean_up] [deepspeed] OVERFLOW! Rank 0 Skipping step. Attempted loss scale: 2097152.0, reducing to 1048576.0\n",
      "slurmnode1: [2023-03-24 05:34:12,009] [INFO] [timer.py:193:stop] 0/50, SamplesPerSec=107.63088137939685, MemAllocated=1.12GB, MaxMemAllocated=11.1GB\n",
      "slurmnode1: [2023-03-24 05:34:21,838] [INFO] [stage3.py:2281:_overflow_clean_up] [deepspeed] OVERFLOW! Rank 0 Skipping step. Attempted loss scale: 1048576.0, reducing to 524288.0\n",
      "slurmnode1: [2023-03-24 05:34:40,940] [INFO] [stage3.py:2281:_overflow_clean_up] [deepspeed] OVERFLOW! Rank 0 Skipping step. Attempted loss scale: 524288.0, reducing to 262144.0\n",
      "slurmnode1: [2023-03-24 05:35:00,107] [INFO] [stage3.py:2281:_overflow_clean_up] [deepspeed] OVERFLOW! Rank 0 Skipping step. Attempted loss scale: 262144.0, reducing to 131072.0\n",
      "slurmnode1: [2023-03-24 05:35:00,108] [INFO] [timer.py:193:stop] 0/60, SamplesPerSec=107.43019882097127, MemAllocated=1.11GB, MaxMemAllocated=11.1GB\n",
      "slurmnode1: [2023-03-24 05:35:47,894] [INFO] [timer.py:193:stop] 0/70, SamplesPerSec=107.39154571779764, MemAllocated=1.12GB, MaxMemAllocated=11.1GB\n",
      "slurmnode1: [2023-03-24 05:36:36,057] [INFO] [logging.py:69:log_dist] [Rank 0] step=20, skipped=15, lr=[0.00060672], mom=[(0.9, 0.999)]\n",
      "slurmnode1: [2023-03-24 05:36:36,057] [INFO] [timer.py:193:stop] 0/80, SamplesPerSec=107.25396418165043, MemAllocated=1.12GB, MaxMemAllocated=11.1GB\n",
      "slurmnode1: [2023-03-24 05:37:23,712] [INFO] [timer.py:193:stop] 0/90, SamplesPerSec=107.27792636626735, MemAllocated=1.12GB, MaxMemAllocated=11.1GB\n",
      "slurmnode1: [2023-03-24 05:38:14,446] [INFO] [timer.py:193:stop] 0/100, SamplesPerSec=106.65425221279688, MemAllocated=1.12GB, MaxMemAllocated=11.1GB\n",
      "slurmnode1: [2023-03-24 05:39:02,175] [INFO] [timer.py:193:stop] 0/110, SamplesPerSec=106.71349450274013, MemAllocated=1.12GB, MaxMemAllocated=11.1GB\n",
      "slurmnode1: [2023-03-24 05:39:50,457] [INFO] [logging.py:69:log_dist] [Rank 0] step=30, skipped=15, lr=[0.00091128], mom=[(0.9, 0.999)]\n",
      "slurmnode1: [2023-03-24 05:39:50,458] [INFO] [timer.py:193:stop] 0/120, SamplesPerSec=106.65821607557146, MemAllocated=1.12GB, MaxMemAllocated=11.1GB\n",
      "slurmnode1: [2023-03-24 05:40:38,032] [INFO] [timer.py:193:stop] 0/130, SamplesPerSec=106.73485603884946, MemAllocated=1.12GB, MaxMemAllocated=11.1GB\n",
      "slurmnode1: [2023-03-24 05:41:26,322] [INFO] [timer.py:193:stop] 0/140, SamplesPerSec=106.68484204257295, MemAllocated=1.12GB, MaxMemAllocated=11.1GB\n",
      "slurmnode1: [2023-03-24 05:42:13,861] [INFO] [timer.py:193:stop] 0/150, SamplesPerSec=106.75455806294553, MemAllocated=1.12GB, MaxMemAllocated=11.1GB\n",
      "slurmnode1: [2023-03-24 05:43:02,081] [INFO] [logging.py:69:log_dist] [Rank 0] step=40, skipped=15, lr=[0.00121848], mom=[(0.9, 0.999)]\n",
      "slurmnode1: [2023-03-24 05:43:02,082] [INFO] [timer.py:193:stop] 0/160, SamplesPerSec=106.71939790171078, MemAllocated=1.12GB, MaxMemAllocated=11.1GB\n",
      "slurmnode1: [2023-03-24 05:43:49,690] [INFO] [timer.py:193:stop] 0/170, SamplesPerSec=106.76999088208765, MemAllocated=1.12GB, MaxMemAllocated=11.1GB\n",
      "slurmnode1: [2023-03-24 05:44:37,867] [INFO] [timer.py:193:stop] 0/180, SamplesPerSec=106.7434467968251, MemAllocated=1.12GB, MaxMemAllocated=11.1GB\n",
      "slurmnode1: [2023-03-24 05:45:25,343] [INFO] [timer.py:193:stop] 0/190, SamplesPerSec=106.80328068822959, MemAllocated=1.12GB, MaxMemAllocated=11.1GB\n",
      "slurmnode1: [2023-03-24 05:45:54,216] [INFO] [launch.py:210:main] Process 515 exits successfully.\n",
      "slurmnode2: [2023-03-24 05:45:54,216] [INFO] [launch.py:210:main] Process 268 exits successfully.\n",
      "slurmnode1: [2023-03-24 05:45:55,217] [INFO] [launch.py:210:main] Process 514 exits successfully.\n",
      "slurmnode2: [2023-03-24 05:45:55,218] [INFO] [launch.py:210:main] Process 269 exits successfully.\n"
     ]
    }
   ],
   "source": [
    "!JOB_ID=3;cat /dli/megatron/logs/$JOB_ID.out"
   ]
  },
  {
   "cell_type": "code",
   "execution_count": 50,
   "id": "c41933e8-7789-495a-8b97-3be96ff8f99a",
   "metadata": {},
   "outputs": [
    {
     "name": "stdout",
     "output_type": "stream",
     "text": [
      "slurmnode1: 03/24/2023 05:29:07 - INFO - mingpt.model -   number of parameters: 1.947878e+07\n",
      "slurmnode1: 03/24/2023 05:29:08 - INFO - mingpt.model -   number of parameters: 1.947878e+07\n",
      "slurmnode2: 03/24/2023 05:29:11 - INFO - mingpt.model -   number of parameters: 1.947878e+07\n",
      "slurmnode2: 03/24/2023 05:29:11 - INFO - mingpt.model -   number of parameters: 1.947878e+07\n",
      "slurmnode1: 03/24/2023 05:29:12 - INFO - torch.distributed.distributed_c10d -   Added key: store_based_barrier_key:2 to store for rank: 0\n",
      "slurmnode1: 03/24/2023 05:29:12 - INFO - torch.distributed.distributed_c10d -   Added key: store_based_barrier_key:2 to store for rank: 1\n",
      "slurmnode2: 03/24/2023 05:29:13 - INFO - torch.distributed.distributed_c10d -   Added key: store_based_barrier_key:2 to store for rank: 3\n",
      "slurmnode2: 03/24/2023 05:29:14 - INFO - torch.distributed.distributed_c10d -   Added key: store_based_barrier_key:2 to store for rank: 2\n",
      "slurmnode2: 03/24/2023 05:29:14 - INFO - torch.distributed.distributed_c10d -   Rank 2: Completed store-based barrier for key:store_based_barrier_key:2 with 4 nodes.\n",
      "slurmnode1: 03/24/2023 05:29:14 - INFO - torch.distributed.distributed_c10d -   Rank 0: Completed store-based barrier for key:store_based_barrier_key:2 with 4 nodes.\n",
      "slurmnode1: 03/24/2023 05:29:14 - INFO - torch.distributed.distributed_c10d -   Rank 1: Completed store-based barrier for key:store_based_barrier_key:2 with 4 nodes.\n",
      "slurmnode2: 03/24/2023 05:29:14 - INFO - torch.distributed.distributed_c10d -   Rank 3: Completed store-based barrier for key:store_based_barrier_key:2 with 4 nodes.\n",
      "epoch 1 iter 97: train loss 6.28906. lr 7.500000e-04:   1%|          | 98/12500 [07:50<16:32:34,  4.80s/it]\n",
      "epoch 1 iter 97: train loss 6.26953. lr 7.500000e-04:   1%|          | 98/12500 [07:50<16:32:34,  4.80s/it]\n",
      "epoch 1 iter 97: train loss 6.28125. lr 7.500000e-04:   1%|          | 98/12500 [07:50<16:32:19,  4.80s/it]\n",
      "epoch 1 iter 97: train loss 6.29297. lr 7.500000e-04:   1%|          | 98/12500 [07:50<16:32:11,  4.80s/it]\n",
      "epoch 2 iter 97: train loss 6.28125. lr 1.500000e-03:   1%|          | 98/12500 [07:52<16:35:47,  4.82s/it]\n",
      "epoch 2 iter 97: train loss 6.28906. lr 1.500000e-03:   1%|          | 98/12500 [07:52<16:35:45,  4.82s/it]\n",
      "epoch 2 iter 97: train loss 6.26953. lr 1.500000e-03:   1%|          | 98/12500 [07:52<16:35:49,  4.82s/it]\n",
      "epoch 2 iter 97: train loss 6.29297. lr 1.500000e-03:   1%|          | 98/12500 [07:52<16:35:39,  4.82s/it]\n"
     ]
    }
   ],
   "source": [
    "!JOB_ID=3;cat /dli/megatron/logs/$JOB_ID.err"
   ]
  },
  {
   "cell_type": "code",
   "execution_count": 15,
   "id": "6a9d5d0d-044c-464c-89b7-4337bf0ec2e0",
   "metadata": {},
   "outputs": [
    {
     "data": {
      "text/html": [
       "\n",
       "<pre>\n",
       "   Step 1: Open a terminal session by following the <a href=\"\", data-commandlinker-command=\"terminal:create-new\">Terminal link</a>\n",
       "   Step 2: Check the GPUs: <font color=\"green\">watch nvidia-smi</font>\n",
       "</pre\n"
      ],
      "text/plain": [
       "<IPython.core.display.HTML object>"
      ]
     },
     "metadata": {},
     "output_type": "display_data"
    }
   ],
   "source": [
    "%%html\n",
    "\n",
    "<pre>\n",
    "   Step 1: Open a terminal session by following the <a href=\"\", data-commandlinker-command=\"terminal:create-new\">Terminal link</a>\n",
    "   Step 2: Check the GPUs: <font color=\"green\">watch nvidia-smi</font>\n",
    "</pre"
   ]
  },
  {
   "cell_type": "markdown",
   "id": "1bae45e4-bef1-4394-b448-5162d9d4b8cb",
   "metadata": {},
   "source": [
    "Its really important that before you go to the next step you stop all of the executing and pending jobs or evaluation will faill!"
   ]
  },
  {
   "cell_type": "code",
   "execution_count": 53,
   "id": "b15fb509-ab9e-4d39-95cd-28351033d830",
   "metadata": {},
   "outputs": [
    {
     "name": "stdout",
     "output_type": "stream",
     "text": [
      "             JOBID PARTITION     NAME     USER ST       TIME  NODES NODELIST(REASON)\n"
     ]
    }
   ],
   "source": [
    "!squeue"
   ]
  },
  {
   "cell_type": "code",
   "execution_count": 17,
   "id": "3d58077c-c4d4-46fa-b4c4-1d9442eb14c9",
   "metadata": {},
   "outputs": [],
   "source": [
    "!scancel  3"
   ]
  },
  {
   "cell_type": "markdown",
   "id": "0a4db940-8ab3-4282-91c6-d631dfbf571a",
   "metadata": {},
   "source": [
    "## Step 6: Evaluate\n",
    "\n",
    "If you have implemented all of the changes listed above, please provide the job ID verified in Step 5 in the code block below. If the challenges were completed correctly, an \"Assessment Passed!\" message will appear. Good luck!"
   ]
  },
  {
   "cell_type": "code",
   "execution_count": 54,
   "id": "b806b2b0-a877-4c02-a88b-e2cb944be111",
   "metadata": {},
   "outputs": [
    {
     "name": "stdout",
     "output_type": "stream",
     "text": [
      "Evaluating Job ID: 3\n",
      "Assessment Passed! Congratulations!\n",
      "See instructions below to generate a certificate.\n"
     ]
    }
   ],
   "source": [
    "from run_assessment import run_assessment\n",
    "job_id = 3\n",
    "run_assessment(job_id)"
   ]
  },
  {
   "cell_type": "markdown",
   "id": "0c537006-d407-44b1-8741-1531bfc8609b",
   "metadata": {},
   "source": [
    "Once \"Assessment Passed!\" appears, please go back to the DLI portal and press the assess button. This will generate a certificate. Congratulations!"
   ]
  }
 ],
 "metadata": {
  "kernelspec": {
   "display_name": "Python 3 (ipykernel)",
   "language": "python",
   "name": "python3"
  },
  "language_info": {
   "codemirror_mode": {
    "name": "ipython",
    "version": 3
   },
   "file_extension": ".py",
   "mimetype": "text/x-python",
   "name": "python",
   "nbconvert_exporter": "python",
   "pygments_lexer": "ipython3",
   "version": "3.8.12"
  }
 },
 "nbformat": 4,
 "nbformat_minor": 5
}
