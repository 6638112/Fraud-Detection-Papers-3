{
 "cells": [
  {
   "cell_type": "markdown",
   "metadata": {},
   "source": [
    "<img src=\"./images/DLI_Header.png\" style=\"width: 400px;\">"
   ]
  },
  {
   "cell_type": "markdown",
   "metadata": {},
   "source": [
    "# 5.0 Multi-Nodes Distributed Training for Computer Vision\n",
    "\n",
    "In this notebook, we will learn how to train a simple Image Classifier in distributed mode.\n",
    "We will first implement a vanilla pipeline parallel distribution. Then, we will use Microsoft's [DeepSpeed Library](https://www.deepspeed.ai/) for model distribution and optimization techniques.\n",
    "\n",
    "## The goals\n",
    "\n",
    "The goals of this notebook are to:\n",
    "* Learn how to train a vanilla CNN\n",
    "* Port the code to DeepSpeed library \n",
    "* Scale training using Data parallel distribution\n",
    "* Optimize training with DeepSpeed autotuning and Zero Redundancy Optimizer\n",
    "\n",
    "\n",
    "**[5.1 Convolutional Neural Network for Image Classification on CIFAR-10](#1.1-The-hardware-overview)<br>**\n",
    "&nbsp;&nbsp;&nbsp;&nbsp;[5.1.1 The dataset](#1.1.3-Check-The-Interconnect-Topology)<br>\n",
    "&nbsp;&nbsp;&nbsp;&nbsp;[5.1.2 Convolutional Neural Network](#1.1.3-Check-The-Interconnect-Topology)<br>\n",
    "&nbsp;&nbsp;&nbsp;&nbsp;[5.1.3 Naive Model Distribution](#1.1.3-Check-The-Interconnect-Topology)<br>\n",
    "**[5.2 Distributed Training with DeepSpeed](#1.1-The-hardware-overview)<br>**\n",
    "&nbsp;&nbsp;&nbsp;&nbsp;[5.2.1 Make the code run with DeepSpeed](#1.1.3-Check-The-Interconnect-Topology)<br>\n",
    "&nbsp;&nbsp;&nbsp;&nbsp;[5.2.2 Scale-out training with Data Parallelism](#1.1.3-Check-The-Interconnect-Topology)<br>\n",
    "&nbsp;&nbsp;&nbsp;&nbsp;[5.2.3 Zero Redundancy Optimizer ](#1.1.3-Check-The-Interconnect-Topology)<br>\n",
    "\n",
    "### Cancel Previous Running/Pending Jobs\n",
    "\n",
    "Before moving on, check that no jobs are still running or waiting on the SLURM queue. Let's check the SLURM jobs queue by executing the following cell:\n"
   ]
  },
  {
   "cell_type": "code",
   "execution_count": 1,
   "metadata": {},
   "outputs": [
    {
     "name": "stdout",
     "output_type": "stream",
     "text": [
      "             JOBID PARTITION     NAME     USER ST       TIME  NODES NODELIST(REASON)\n"
     ]
    }
   ],
   "source": [
    "# Check the SLURM jobs queue \n",
    "!squeue"
   ]
  },
  {
   "cell_type": "markdown",
   "metadata": {},
   "source": [
    "If there are still jobs running or pending, execute the following cell to cancel all the user's jobs using the `scancel` command. "
   ]
  },
  {
   "cell_type": "code",
   "execution_count": 2,
   "metadata": {},
   "outputs": [
    {
     "name": "stdout",
     "output_type": "stream",
     "text": [
      "             JOBID PARTITION     NAME     USER ST       TIME  NODES NODELIST(REASON)\n"
     ]
    }
   ],
   "source": [
    "# Cancel admin user jobs\n",
    "! scancel -u $USER\n",
    "\n",
    "# Check again the SLURM jobs queue (should be either empty, or the status TS column should be CG)\n",
    "! squeue"
   ]
  },
  {
   "cell_type": "markdown",
   "metadata": {},
   "source": [
    "---\n",
    "# 5.1 Convolutional Neural Network for Image Classification on CIFAR-10\n",
    "\n",
    "## 5.1.1 The dataset\n",
    "\n",
    "\n",
    "The [CIFAR-10 Dataset](https://www.cs.toronto.edu/~kriz/cifar.html) consists of 60K images (50K for training and 10K for testing). Images are 32 by 32 pixels labelled with 10 classes: plane, car, bird, cat, deer, dog, frog, horse, ship and truck. \n",
    "In this lab, we will train a simple Convolutional Neural Network to classify CIFAR-10 images.\n",
    "\n",
    "To download the dataset, we will use the [Torchvision](https://pytorch.org/vision/stable/index.html) package, a Pytorch library that contains popular datasets, model architectures, and common image transformations for Computer Vision.\n",
    "<img src=\"images/CIFAR-10.jpg\" width=\"350\" />\n",
    "\n",
    "Let's first import the relevant libraries by executing the next cell."
   ]
  },
  {
   "cell_type": "code",
   "execution_count": 3,
   "metadata": {},
   "outputs": [],
   "source": [
    "# import the relevant libraries\n",
    "import torch\n",
    "import torchvision\n",
    "from IPython.display import display_html\n",
    "\n",
    "def restartkernel() :\n",
    "    display_html(\"<script>Jupyter.notebook.kernel.restart()</script>\",raw=True)\n",
    "\n",
    "# define an image tranform \n",
    "transform = torchvision.transforms.Compose([torchvision.transforms.ToTensor(),torchvision.transforms.Normalize((0.5, 0.5, 0.5), (0.5, 0.5, 0.5))])"
   ]
  },
  {
   "cell_type": "markdown",
   "metadata": {},
   "source": [
    "Execute the next 2 cells to download the training and test CIFAR10 corpus."
   ]
  },
  {
   "cell_type": "code",
   "execution_count": 4,
   "metadata": {
    "scrolled": true
   },
   "outputs": [
    {
     "name": "stdout",
     "output_type": "stream",
     "text": [
      "Downloading https://www.cs.toronto.edu/~kriz/cifar-10-python.tar.gz to ./data/cifar-10-python.tar.gz\n"
     ]
    },
    {
     "data": {
      "application/vnd.jupyter.widget-view+json": {
       "model_id": "f8658805d72e470d8727fd2eba7bd6ac",
       "version_major": 2,
       "version_minor": 0
      },
      "text/plain": [
       "  0%|          | 0/170498071 [00:00<?, ?it/s]"
      ]
     },
     "metadata": {},
     "output_type": "display_data"
    },
    {
     "name": "stdout",
     "output_type": "stream",
     "text": [
      "Extracting ./data/cifar-10-python.tar.gz to ./data\n"
     ]
    }
   ],
   "source": [
    "# Download the CIFAR10 training dataset\n",
    "trainset = torchvision.datasets.CIFAR10(root='./data',\n",
    "                                        train=True,\n",
    "                                        download=True,\n",
    "                                        transform=transform)\n",
    "trainloader = torch.utils.data.DataLoader(trainset,\n",
    "                                          batch_size=64,\n",
    "                                          shuffle=True,\n",
    "                                          num_workers=2)"
   ]
  },
  {
   "cell_type": "code",
   "execution_count": 5,
   "metadata": {},
   "outputs": [
    {
     "name": "stdout",
     "output_type": "stream",
     "text": [
      "Files already downloaded and verified\n"
     ]
    }
   ],
   "source": [
    "# Download the CIFAR10 test dataset\n",
    "testset = torchvision.datasets.CIFAR10(root='./data',\n",
    "                                       train=False,\n",
    "                                       download=True,\n",
    "                                       transform=transform)\n",
    "\n",
    "testloader = torch.utils.data.DataLoader(testset,\n",
    "                                         batch_size=64,\n",
    "                                         shuffle=False,\n",
    "                                         num_workers=2)"
   ]
  },
  {
   "cell_type": "markdown",
   "metadata": {},
   "source": [
    "Let's have a look at some examples:"
   ]
  },
  {
   "cell_type": "code",
   "execution_count": 6,
   "metadata": {},
   "outputs": [
    {
     "data": {
      "image/png": "[encoded data removed]",
      "text/plain": [
       "<Figure size 432x288 with 8 Axes>"
      ]
     },
     "metadata": {
      "needs_background": "light"
     },
     "output_type": "display_data"
    }
   ],
   "source": [
    "# Show some random training images\n",
    "import matplotlib.pyplot as plt\n",
    "import numpy as np\n",
    "\n",
    "def imshow(images, labels):\n",
    "    for i in range(8): \n",
    "        img = images[i] / 2 + 0.5\n",
    "        npimg = img.numpy()\n",
    "        plt.subplot(2,4,i+1)\n",
    "        plt.imshow(np.transpose(npimg, (1, 2 , 0)));\n",
    "        plt.axis('off');\n",
    "        plt.title(classes[labels[i]])\n",
    "\n",
    "classes = ('plane', 'car', 'bird', 'cat', 'deer', 'dog', 'frog', 'horse', 'ship', 'truck')\n",
    "\n",
    "# get some training images\n",
    "dataiter = iter(trainloader)\n",
    "images, labels = dataiter.next()\n",
    "# Show images\n",
    "imshow(images,labels)"
   ]
  },
  {
   "cell_type": "markdown",
   "metadata": {},
   "source": [
    "## 5.1.2 Convolutional Neural Network\n",
    "\n",
    "Let's define a neural network with 2 convolutional layers, first followed by a pooling layer then 3 fully connected layers. "
   ]
  },
  {
   "cell_type": "code",
   "execution_count": 8,
   "metadata": {},
   "outputs": [],
   "source": [
    "# Define the CNN\n",
    "import torch.nn as nn\n",
    "import torch.nn.functional as F\n",
    "\n",
    "class CNN_Net(nn.Module):\n",
    "    def __init__(self):\n",
    "        super(CNN_Net, self).__init__()\n",
    "        self.conv1 = nn.Conv2d(3, 6, 5)\n",
    "        self.pool = nn.MaxPool2d(2, 2)\n",
    "        self.conv2 = nn.Conv2d(6, 16, 5)\n",
    "        self.fc1 = nn.Linear(16 * 5 * 5, 120)\n",
    "        self.fc2 = nn.Linear(120, 84)\n",
    "        self.fc3 = nn.Linear(84, 10)\n",
    "\n",
    "    def forward(self, x):\n",
    "        x = self.pool(F.relu(self.conv1(x)))\n",
    "        x = self.pool(F.relu(self.conv2(x)))\n",
    "        x = x.view(-1, 16 * 5 * 5)\n",
    "        x = F.relu(self.fc1(x))\n",
    "        x = F.relu(self.fc2(x))\n",
    "        x = self.fc3(x)\n",
    "        return x\n",
    "\n",
    "cnn_net = CNN_Net()\n"
   ]
  },
  {
   "cell_type": "code",
   "execution_count": 9,
   "metadata": {},
   "outputs": [
    {
     "data": {
      "text/plain": [
       "CNN_Net(\n",
       "  (conv1): Conv2d(3, 6, kernel_size=(5, 5), stride=(1, 1))\n",
       "  (pool): MaxPool2d(kernel_size=2, stride=2, padding=0, dilation=1, ceil_mode=False)\n",
       "  (conv2): Conv2d(6, 16, kernel_size=(5, 5), stride=(1, 1))\n",
       "  (fc1): Linear(in_features=400, out_features=120, bias=True)\n",
       "  (fc2): Linear(in_features=120, out_features=84, bias=True)\n",
       "  (fc3): Linear(in_features=84, out_features=10, bias=True)\n",
       ")"
      ]
     },
     "execution_count": 9,
     "metadata": {},
     "output_type": "execute_result"
    }
   ],
   "source": [
    "# Copy the model to GPU 0\n",
    "device = torch.device(\"cuda:0\" if torch.cuda.is_available() else \"cpu\")\n",
    "cnn_net.to(device)"
   ]
  },
  {
   "cell_type": "code",
   "execution_count": 10,
   "metadata": {},
   "outputs": [
    {
     "name": "stdout",
     "output_type": "stream",
     "text": [
      "----------------------------------------------------------------\n",
      "        Layer (type)               Output Shape         Param #\n",
      "================================================================\n",
      "            Conv2d-1            [-1, 6, 28, 28]             456\n",
      "         MaxPool2d-2            [-1, 6, 14, 14]               0\n",
      "            Conv2d-3           [-1, 16, 10, 10]           2,416\n",
      "         MaxPool2d-4             [-1, 16, 5, 5]               0\n",
      "            Linear-5                  [-1, 120]          48,120\n",
      "            Linear-6                   [-1, 84]          10,164\n",
      "            Linear-7                   [-1, 10]             850\n",
      "================================================================\n",
      "Total params: 62,006\n",
      "Trainable params: 62,006\n",
      "Non-trainable params: 0\n",
      "----------------------------------------------------------------\n",
      "Input size (MB): 0.01\n",
      "Forward/backward pass size (MB): 0.06\n",
      "Params size (MB): 0.24\n",
      "Estimated Total Size (MB): 0.31\n",
      "----------------------------------------------------------------\n"
     ]
    }
   ],
   "source": [
    "# Let's have a look at the Convolutional Neural Network\n",
    "from torchsummary import summary\n",
    "summary(cnn_net,input_size=(3,32,32))"
   ]
  },
  {
   "cell_type": "markdown",
   "metadata": {},
   "source": [
    "Let's define the optimizer and hyperparameters. We will use the Stochastic Gradient Descent (SGD) with momentum optimizer."
   ]
  },
  {
   "cell_type": "code",
   "execution_count": 11,
   "metadata": {},
   "outputs": [],
   "source": [
    "# Define the hyperparameters\n",
    "import torch.optim as optim\n",
    "from torch.utils.tensorboard import SummaryWriter \n",
    "\n",
    "criterion = nn.CrossEntropyLoss()\n",
    "optimizer = optim.SGD(cnn_net.parameters(), lr=0.001,momentum=0.9, weight_decay=5e-4)\n",
    "scheduler = torch.optim.lr_scheduler.CosineAnnealingLR(optimizer, T_max=200)\n",
    "\n",
    "# Tensorboard event recording directory \n",
    "writer = SummaryWriter('megatron/tensorboard/cifar10')\n",
    "\n",
    "log_interval=100\n",
    "batch_size=64\n",
    "epochs=2"
   ]
  },
  {
   "cell_type": "code",
   "execution_count": 12,
   "metadata": {},
   "outputs": [
    {
     "name": "stdout",
     "output_type": "stream",
     "text": [
      "[epoch 0, iterations   100] loss: 2.304 accuracy: 9.703125 %\n",
      "[epoch 0, iterations   200] loss: 2.302 accuracy: 9.890625 %\n",
      "[epoch 0, iterations   300] loss: 2.302 accuracy: 10.000000 %\n",
      "[epoch 0, iterations   400] loss: 2.302 accuracy: 9.921875 %\n",
      "[epoch 0, iterations   500] loss: 2.302 accuracy: 9.862500 %\n",
      "[epoch 0, iterations   600] loss: 2.301 accuracy: 9.921875 %\n",
      "[epoch 0, iterations   700] loss: 2.300 accuracy: 10.042411 %\n",
      "[epoch 0, iterations   782] loss: 2.299 accuracy: 10.116000 %\n",
      "[epoch 1, iterations   100] loss: 2.298 accuracy: 11.484375 %\n",
      "[epoch 1, iterations   200] loss: 2.297 accuracy: 11.171875 %\n",
      "[epoch 1, iterations   300] loss: 2.295 accuracy: 11.760417 %\n",
      "[epoch 1, iterations   400] loss: 2.292 accuracy: 13.152344 %\n",
      "[epoch 1, iterations   500] loss: 2.289 accuracy: 13.950000 %\n",
      "[epoch 1, iterations   600] loss: 2.281 accuracy: 14.578125 %\n",
      "[epoch 1, iterations   700] loss: 2.268 accuracy: 15.037946 %\n",
      "[epoch 1, iterations   782] loss: 2.246 accuracy: 15.352000 %\n",
      "Training Done\n"
     ]
    }
   ],
   "source": [
    "# Train the CNN\n",
    "for epoch in range(epochs): \n",
    "    running_loss = 0.0\n",
    "    correct = 0\n",
    "    total = 0\n",
    "    for i, data in enumerate(trainloader):\n",
    "        # get the inputs; data is a list of [inputs, labels]\n",
    "        inputs, labels = data[0].to(device), data[1].to(device)\n",
    "        \n",
    "        # zero the parameter gradients\n",
    "        optimizer.zero_grad()\n",
    "        \n",
    "        # Forward pass\n",
    "        outputs = cnn_net(inputs)\n",
    "        loss = criterion(outputs, labels)\n",
    "        \n",
    "        # Backward pass\n",
    "        loss.backward()\n",
    "        optimizer.step()     \n",
    "        \n",
    "        # print the loss and accuracy metrics very log_interval mini-batches\n",
    "        running_loss += loss.item()\n",
    "        _, predicted = outputs.max(1)\n",
    "        total += labels.size(0)\n",
    "        correct += predicted.eq(labels).sum().item()\n",
    "        if i % log_interval == (log_interval - 1):  \n",
    "            print('[epoch %d, iterations %5d] loss: %.3f accuracy: %2f %%' %  (epoch , i + 1, running_loss / log_interval, 100.*correct/total))\n",
    "            writer.add_scalar(\"Training Cross Entropy Loss\", running_loss / log_interval, i + 1)\n",
    "            writer.add_scalar(\"Training Accuracy\", 100.*correct/total, i + 1)\n",
    "            running_loss = 0.0\n",
    "    # print the last iterations \n",
    "    print('[epoch %d, iterations %5d] loss: %.3f accuracy: %2f %%' %  (epoch , i + 1, running_loss / ((i % log_interval) + 1), 100.*correct/total))\n",
    "    writer.add_scalar(\"Training Cross Entropy Loss\", running_loss / ((i % log_interval) + 1), i + 1)\n",
    "    writer.add_scalar(\"Training Accuracy\", 100.*correct/total, i + 1)\n",
    "\n",
    "print('Training Done')\n",
    "writer.add_graph(cnn_net, inputs)\n",
    "writer.flush()\n",
    "writer.close()"
   ]
  },
  {
   "cell_type": "markdown",
   "metadata": {},
   "source": [
    "### Monitor Training and Inspect the Model on Tensorboard \n",
    "\n",
    "We set the arguments for recording Tensorboard events in the previous CNN training. The training loss is available under the name `cifar10`. We can also visualize the model and navigate throughout its layers on the \"Graphs\" tab.\n",
    "\n",
    "<img src=\"images/CNN.png\" width=\"750\"/>\n",
    "\n",
    "Execute the next cell to create a link to Tensorboard for your browser. Then, click the link to see graphs of experiment metrics saved in the specified `Tensorboard` directory."
   ]
  },
  {
   "cell_type": "code",
   "execution_count": 13,
   "metadata": {},
   "outputs": [
    {
     "data": {
      "application/javascript": [
       "const href = window.location.hostname +'/tensorboard/';\n",
       "let a = document.createElement('a');\n",
       "let link = document.createTextNode('Open Tensorboard!');\n",
       "a.appendChild(link);\n",
       "a.href = \"http://\" + href;\n",
       "a.style.color = \"navy\"\n",
       "a.target = \"_blank\"\n",
       "element.append(a);\n"
      ],
      "text/plain": [
       "<IPython.core.display.Javascript object>"
      ]
     },
     "metadata": {},
     "output_type": "display_data"
    }
   ],
   "source": [
    "%%js\n",
    "const href = window.location.hostname +'/tensorboard/';\n",
    "let a = document.createElement('a');\n",
    "let link = document.createTextNode('Open Tensorboard!');\n",
    "a.appendChild(link);\n",
    "a.href = \"http://\" + href;\n",
    "a.style.color = \"navy\"\n",
    "a.target = \"_blank\"\n",
    "element.append(a);"
   ]
  },
  {
   "cell_type": "markdown",
   "metadata": {},
   "source": [
    "### Evaluate The Trained Model\n",
    "\n",
    "Let's evaluate the trained model on the CIFAR-10 test dataset. Execute the following cell to evaluate the accuracy on the test set. Accuracy detail per class will also be shown."
   ]
  },
  {
   "cell_type": "code",
   "execution_count": 14,
   "metadata": {},
   "outputs": [
    {
     "name": "stdout",
     "output_type": "stream",
     "text": [
      "Accuracy of the network on the 10000 test images: 18.660000 %\n",
      "Accuracy of plane : 71.428571 %\n",
      "Accuracy of   car : 2.000000 %\n",
      "Accuracy of  bird : 2.531646 %\n",
      "Accuracy of   cat : 53.424658 %\n",
      "Accuracy of  deer : 0.000000 %\n",
      "Accuracy of   dog : 13.559322 %\n",
      "Accuracy of  frog : 0.000000 %\n",
      "Accuracy of horse : 0.000000 %\n",
      "Accuracy of  ship : 1.724138 %\n",
      "Accuracy of truck : 50.000000 %\n"
     ]
    }
   ],
   "source": [
    "class_correct = list(0. for i in range(10))\n",
    "class_total = list(0. for i in range(10))\n",
    "correct = 0\n",
    "total = 0\n",
    "with torch.no_grad():\n",
    "    for data in testloader:\n",
    "        images, labels = data\n",
    "        outputs = cnn_net(images.to(device))\n",
    "        _, predicted = torch.max(outputs, 1)\n",
    "        total += labels.size(0)\n",
    "        correct += (predicted == labels.to(device)).sum().item()\n",
    "        c = (predicted == labels.to(device)).squeeze()\n",
    "        for i in range(4):\n",
    "            label = labels[i]\n",
    "            class_correct[label] += c[i].item()\n",
    "            class_total[label] += 1\n",
    "\n",
    "print('Accuracy of the network on the 10000 test images: %2f %%' %\n",
    "      (100 * correct / total))\n",
    "for i in range(10):\n",
    "    print('Accuracy of %5s : %2f %%' %\n",
    "          (classes[i], 100 * class_correct[i] / class_total[i]))\n"
   ]
  },
  {
   "cell_type": "markdown",
   "metadata": {},
   "source": [
    "# 5.1.3 Naive Model Distribution\n",
    "\n",
    "Let's now implement a naive pipeline parallel distribution of the previous CNN model. To do so, we need to explicitly place each layer into the device and implement the forward pass, accordingly moving the corresponding outputs to match devices accordingly.\n",
    "\n"
   ]
  },
  {
   "cell_type": "markdown",
   "metadata": {},
   "source": [
    "\n",
    "We will run the CNN model on two GPUs by placing: conv1 + pooling on GPU0 and conv2 + fc1 + fc2+ fc3 on GPU1. \n",
    "We will use torch *[TORCH.TENSOR.TO](https://pytorch.org/docs/stable/generated/torch.Tensor.to.html#torch.Tensor.to)* to convert tensors to cuda and place them to the desired device. \n",
    "\n",
    "Have a look at modified class on the defined `Net_Parallel` class:"
   ]
  },
  {
   "cell_type": "code",
   "execution_count": 15,
   "metadata": {},
   "outputs": [],
   "source": [
    "# Define the CNN\n",
    "import torch.nn as nn\n",
    "import torch.nn.functional as F\n",
    "\n",
    "class Net_Parallel(nn.Module):\n",
    "    def __init__(self):\n",
    "        super(Net_Parallel, self).__init__()\n",
    "        self.conv1 = nn.Conv2d(3, 6, 5).to('cuda:0')               # Changed here\n",
    "        self.pool = nn.MaxPool2d(2, 2).to('cuda:0')                # Changed here\n",
    "        self.conv2 = nn.Conv2d(6, 16, 5).to('cuda:1')              # Changed here\n",
    "        self.fc1 = nn.Linear(16 * 5 * 5, 120).to('cuda:1')         # Changed here\n",
    "        self.fc2 = nn.Linear(120, 84).to('cuda:1')                 # Changed here\n",
    "        self.fc3 = nn.Linear(84, 10).to('cuda:1')                  # Changed here\n",
    "\n",
    "    def forward(self, x):\n",
    "        x = self.pool(F.relu(self.conv1(x.to('cuda:0'))))          # Changed here\n",
    "        x = self.pool(F.relu(self.conv2(x.to('cuda:1'))))          # Changed here\n",
    "        x = x.view(-1, 16 * 5 * 5)\n",
    "        x = F.relu(self.fc1(x))\n",
    "        x = F.relu(self.fc2(x))\n",
    "        x = self.fc3(x)\n",
    "        return x\n",
    "\n",
    "cnn_net_pp = Net_Parallel()"
   ]
  },
  {
   "cell_type": "markdown",
   "metadata": {},
   "source": [
    "Similar to the previous training execution, run the next 2 cells to define the optimizer/hyperparameters and then launch the training."
   ]
  },
  {
   "cell_type": "code",
   "execution_count": 16,
   "metadata": {},
   "outputs": [],
   "source": [
    "# Define the hyperparameters\n",
    "criterion = nn.CrossEntropyLoss()\n",
    "optimizer = optim.SGD(cnn_net_pp.parameters(), lr=0.001,momentum=0.9, weight_decay=5e-4)\n",
    "scheduler = torch.optim.lr_scheduler.CosineAnnealingLR(optimizer, T_max=200)\n",
    "\n",
    "# Tensorboard event recording directory \n",
    "writer_pp = SummaryWriter('megatron/tensorboard/cifar10_PP')                 \n",
    "\n",
    "log_interval=100\n",
    "batch_size=64\n",
    "epochs=2"
   ]
  },
  {
   "cell_type": "markdown",
   "metadata": {},
   "source": [
    "You can check the GPUs activity by running the next cell to open a terminal and the watch `nvidia-smi` command. "
   ]
  },
  {
   "cell_type": "code",
   "execution_count": 17,
   "metadata": {},
   "outputs": [
    {
     "data": {
      "text/html": [
       "\n",
       "<pre>\n",
       "   Step 1: Open a terminal session by following the <a href=\"\", data-commandlinker-command=\"terminal:create-new\">Terminal link</a>\n",
       "   Step 2: Check the GPUs: <font color=\"green\">watch nvidia-smi</font>\n",
       "</pre\n"
      ],
      "text/plain": [
       "<IPython.core.display.HTML object>"
      ]
     },
     "metadata": {},
     "output_type": "display_data"
    }
   ],
   "source": [
    "%%html\n",
    "\n",
    "<pre>\n",
    "   Step 1: Open a terminal session by following the <a href=\"\", data-commandlinker-command=\"terminal:create-new\">Terminal link</a>\n",
    "   Step 2: Check the GPUs: <font color=\"green\">watch nvidia-smi</font>\n",
    "</pre"
   ]
  },
  {
   "cell_type": "markdown",
   "metadata": {},
   "source": [
    "Keep the terminal window opened and execute the next training."
   ]
  },
  {
   "cell_type": "code",
   "execution_count": 18,
   "metadata": {},
   "outputs": [
    {
     "name": "stderr",
     "output_type": "stream",
     "text": [
      "/opt/conda/lib/python3.8/site-packages/torch/cuda/memory.py:271: FutureWarning: torch.cuda.reset_max_memory_allocated now calls torch.cuda.reset_peak_memory_stats, which resets /all/ peak memory stats.\n",
      "  warnings.warn(\n"
     ]
    },
    {
     "name": "stdout",
     "output_type": "stream",
     "text": [
      "[epoch 0, iterations   100] loss: 2.305 accuracy: 10.656250 %\n",
      "[epoch 0, iterations   200] loss: 2.303 accuracy: 10.640625 %\n",
      "[epoch 0, iterations   300] loss: 2.302 accuracy: 10.296875 %\n",
      "[epoch 0, iterations   400] loss: 2.300 accuracy: 10.304688 %\n",
      "[epoch 0, iterations   500] loss: 2.297 accuracy: 10.615625 %\n",
      "[epoch 0, iterations   600] loss: 2.294 accuracy: 11.052083 %\n",
      "[epoch 0, iterations   700] loss: 2.290 accuracy: 11.520089 %\n",
      "[epoch 0, iterations   782] loss: 2.283 accuracy: 12.030000 %\n",
      "[epoch 1, iterations   100] loss: 2.269 accuracy: 18.406250 %\n",
      "[epoch 1, iterations   200] loss: 2.238 accuracy: 18.593750 %\n",
      "[epoch 1, iterations   300] loss: 2.190 accuracy: 18.979167 %\n",
      "[epoch 1, iterations   400] loss: 2.136 accuracy: 19.890625 %\n",
      "[epoch 1, iterations   500] loss: 2.073 accuracy: 20.840625 %\n",
      "[epoch 1, iterations   600] loss: 2.039 accuracy: 21.567708 %\n",
      "[epoch 1, iterations   700] loss: 1.987 accuracy: 22.372768 %\n",
      "[epoch 1, iterations   782] loss: 1.944 accuracy: 23.022000 %\n",
      "Training Done\n"
     ]
    }
   ],
   "source": [
    "# Train the CNN with pipeline parallel\n",
    "for epoch in range(epochs): \n",
    "    running_loss = 0.0\n",
    "    correct = 0\n",
    "    total = 0\n",
    "    for i, data in enumerate(trainloader):\n",
    "        # get the inputs; data is a list of [inputs, labels]\n",
    "        inputs, labels = data[0].to(device), data[1].to(device)\n",
    "        \n",
    "        # zero the parameter gradients\n",
    "        optimizer.zero_grad()\n",
    "        \n",
    "        # Forward pass\n",
    "        outputs = cnn_net_pp(inputs.to('cuda:0'))                                # Changed here\n",
    "        loss = criterion(outputs, labels.to('cuda:1'))                           # Changed here\n",
    "        # Backward pass\n",
    "        loss.backward()\n",
    "        optimizer.step()\n",
    "        torch.cuda.reset_max_memory_allocated(0)\n",
    "        # print the loss and accuracy metrics very log_interval mini-batches\n",
    "        running_loss += loss.item()\n",
    "        _, predicted = outputs.max(1)\n",
    "        total += labels.size(0)\n",
    "        correct += predicted.eq(labels.to('cuda:1')).sum().item()                 # Changed here\n",
    "        if i % log_interval == (log_interval - 1):  \n",
    "            print('[epoch %d, iterations %5d] loss: %.3f accuracy: %2f %%' %  (epoch , i + 1, running_loss / log_interval, 100.*correct/total))\n",
    "            writer_pp.add_scalar(\"Training Cross Entropy Loss\", running_loss / log_interval, i + 1)\n",
    "            writer_pp.add_scalar(\"Training Accuracy\", 100.*correct/total, i + 1)\n",
    "            running_loss = 0.0\n",
    "    # print the last iterations \n",
    "    print('[epoch %d, iterations %5d] loss: %.3f accuracy: %2f %%' %  (epoch , i + 1, running_loss / ((i % log_interval) + 1), 100.*correct/total))\n",
    "    writer.add_scalar(\"Training Cross Entropy Loss\", running_loss / ((i % log_interval) + 1), i + 1)\n",
    "    writer.add_scalar(\"Training Accuracy\", 100.*correct/total, i + 1)\n",
    "\n",
    "print('Training Done')\n",
    "writer_pp.add_graph(cnn_net_pp, inputs)\n",
    "writer_pp.flush()\n",
    "writer_pp.close()"
   ]
  },
  {
   "cell_type": "markdown",
   "metadata": {},
   "source": [
    "# 5.2 Distributed Training with DeepSpeed\n",
    "\n",
    "The DeepSpeed library is a Deep Learning optimization library for distributed training on several different hardware sizes ranging from a single GPU to low-end clusters, going up to massive supercomputers.\n",
    "\n",
    "<img src=\"https://www.deepspeed.ai/assets/images/3d-parallelism.png\" width=\"650\" />\n",
    "\n",
    "\n",
    "- Distributed Training with Mixed Precision on Single-GPU/Multi-GPU/Multi-Node\n",
    "- Pipeline Parallelism and an integration with Megatron-LM tensor parallel \n",
    "- Zero Redundancy Optimizer (ZeRO): Memory optimization techniques\n",
    "- ZeRO-Offload: Offloading data and compute to the CPU\n",
    "- Mixture of Experts (MoE)"
   ]
  },
  {
   "cell_type": "markdown",
   "metadata": {},
   "source": [
    "## 5.2.1 Make the code run with DeepSpeed\n",
    "\n",
    "The DeepSpeed engine can wrap neural networks defined as `torch.nn.module`. To write the previous Model with DeepSpeed, we will need to:\n",
    "\n",
    "- Instantiate the DeepSpeed Model engine and optimizer: Use the DeepSpeed initializer as follows: \n",
    "`model_engine, optimizer= deepspeed.initialize(args=args, model=Your_Network, model_parameters=parameters, training_data=trainset)`\n",
    "- The variable `args` should embed training arguments and the DeepSpeed arguments. We can use `deepspeed.add_config_arguments(parser)` to add the DeepSpeed arguments to our parser.\n",
    "- Refer to the deepspeed `model_engine` instead of `Your_Network` in the rest of the code.\n",
    "- For distributed training implementation with `torch.distributed.init_process_group(...)`, replace that with `deepspeed.init_distributed()`\n",
    "\n",
    "Learn more on how to write DeepSpeed models with the [dedicated DeepSpeed documentation.](https://www.deepspeed.ai/getting-started/#writing-deepspeed-models) \n",
    "\n",
    "DeepSpeed arguments can be passed throughout a JSON configuration file. Let's have a look at our the DeepSpeed configuration file:"
   ]
  },
  {
   "cell_type": "code",
   "execution_count": 19,
   "metadata": {},
   "outputs": [
    {
     "name": "stdout",
     "output_type": "stream",
     "text": [
      "{\n",
      "  \"train_batch_size\": 16,\n",
      "  \"steps_per_print\": 2000,\n",
      "  \"optimizer\": {\n",
      "    \"type\": \"Adam\",\n",
      "    \"params\": {\n",
      "      \"lr\": 0.001,\n",
      "      \"betas\": [\n",
      "        0.8,\n",
      "        0.999\n",
      "      ],\n",
      "      \"eps\": 1e-8,\n",
      "      \"weight_decay\": 3e-7\n",
      "    }\n",
      "  },\n",
      "  \"scheduler\": {\n",
      "    \"type\": \"WarmupLR\",\n",
      "    \"params\": {\n",
      "      \"warmup_min_lr\": 0,\n",
      "      \"warmup_max_lr\": 0.001,\n",
      "      \"warmup_num_steps\": 1000\n",
      "    }\n",
      "  },\n",
      "  \"gradient_clipping\": 1.0,\n",
      "  \"prescale_gradients\": false,\n",
      "  \"fp16\": {\n",
      "      \"enabled\": true,\n",
      "      \"fp16_master_weights_and_grads\": false,\n",
      "      \"loss_scale\": 0,\n",
      "      \"loss_scale_window\": 500,\n",
      "      \"hysteresis\": 2,\n",
      "      \"min_loss_scale\": 1,\n",
      "      \"initial_scale_power\": 15\n",
      "  },\n",
      "  \"wall_clock_breakdown\": false,\n",
      "  \"zero_optimization\": {\n",
      "      \"stage\": 0,\n",
      "      \"allgather_partitions\": true,\n",
      "      \"reduce_scatter\": true,\n",
      "      \"allgather_bucket_size\": 50000000,\n",
      "      \"reduce_bucket_size\": 50000000,\n",
      "      \"overlap_comm\": true,\n",
      "      \"contiguous_gradients\": true,\n",
      "      \"cpu_offload\": false\n",
      "  } \n",
      "\n",
      "}"
     ]
    }
   ],
   "source": [
    "# Have a look at the DeepSpeed config\n",
    "! cat code/moe/ds_config.json"
   ]
  },
  {
   "cell_type": "code",
   "execution_count": 20,
   "metadata": {},
   "outputs": [],
   "source": [
    "# import the relevant library\n",
    "import deepspeed\n",
    "\n",
    "# define the argument classe embedding our training arguments and DeepSpeed\n",
    "class Args:\n",
    "    log_interval=100 \n",
    "    batch_size=64\n",
    "    epochs=2\n",
    "    deepspeed = True\n",
    "    deepspeed_config = \"code/moe/ds_config.json\"\n",
    "    local_rank= 0\n",
    "\n",
    "args=Args()"
   ]
  },
  {
   "cell_type": "code",
   "execution_count": 21,
   "metadata": {
    "scrolled": true
   },
   "outputs": [
    {
     "name": "stdout",
     "output_type": "stream",
     "text": [
      "[2023-03-23 20:06:03,232] [INFO] [logging.py:69:log_dist] [Rank -1] DeepSpeed info: version=0.6.5, git-hash=unknown, git-branch=unknown\n",
      "[2023-03-23 20:06:03,232] [INFO] [distributed.py:36:init_distributed] Not using the DeepSpeed or torch.distributed launchers, attempting to detect MPI environment...\n",
      "[2023-03-23 20:06:03,485] [INFO] [distributed.py:85:mpi_discovery] Discovered MPI settings of world_rank=0, local_rank=0, world_size=1, master_addr=172.18.0.5, master_port=29500\n",
      "[2023-03-23 20:06:03,486] [INFO] [distributed.py:48:init_distributed] Initializing torch distributed with backend: nccl\n",
      "[2023-03-23 20:06:03,683] [INFO] [engine.py:278:__init__] DeepSpeed Flops Profiler Enabled: False\n",
      "Using /home/admin/.cache/torch_extensions/py38_cu115 as PyTorch extensions root...\n",
      "Creating extension directory /home/admin/.cache/torch_extensions/py38_cu115/fused_adam...\n",
      "Detected CUDA files, patching ldflags\n",
      "Emitting ninja build file /home/admin/.cache/torch_extensions/py38_cu115/fused_adam/build.ninja...\n",
      "Building extension module fused_adam...\n",
      "Allowing ninja to set a default number of workers... (overridable by setting the environment variable MAX_JOBS=N)\n",
      "[1/3] /usr/local/cuda/bin/nvcc  -DTORCH_EXTENSION_NAME=fused_adam -DTORCH_API_INCLUDE_EXTENSION_H -DPYBIND11_COMPILER_TYPE=\\\"_gcc\\\" -DPYBIND11_STDLIB=\\\"_libstdcpp\\\" -DPYBIND11_BUILD_ABI=\\\"_cxxabi1013\\\" -I/opt/conda/lib/python3.8/site-packages/deepspeed/ops/csrc/includes -I/opt/conda/lib/python3.8/site-packages/deepspeed/ops/csrc/adam -isystem /opt/conda/lib/python3.8/site-packages/torch/include -isystem /opt/conda/lib/python3.8/site-packages/torch/include/torch/csrc/api/include -isystem /opt/conda/lib/python3.8/site-packages/torch/include/TH -isystem /opt/conda/lib/python3.8/site-packages/torch/include/THC -isystem /usr/local/cuda/include -isystem /opt/conda/include/python3.8 -D_GLIBCXX_USE_CXX11_ABI=1 -D__CUDA_NO_HALF_OPERATORS__ -D__CUDA_NO_HALF_CONVERSIONS__ -D__CUDA_NO_BFLOAT16_CONVERSIONS__ -D__CUDA_NO_HALF2_OPERATORS__ --expt-relaxed-constexpr -gencode=arch=compute_80,code=compute_80 -gencode=arch=compute_80,code=sm_80 --compiler-options '-fPIC' -O3 -DVERSION_GE_1_1 -DVERSION_GE_1_3 -DVERSION_GE_1_5 -lineinfo --use_fast_math -gencode=arch=compute_80,code=sm_80 -gencode=arch=compute_80,code=compute_80 -std=c++14 -c /opt/conda/lib/python3.8/site-packages/deepspeed/ops/csrc/adam/multi_tensor_adam.cu -o multi_tensor_adam.cuda.o \n",
      "[2/3] c++ -MMD -MF fused_adam_frontend.o.d -DTORCH_EXTENSION_NAME=fused_adam -DTORCH_API_INCLUDE_EXTENSION_H -DPYBIND11_COMPILER_TYPE=\\\"_gcc\\\" -DPYBIND11_STDLIB=\\\"_libstdcpp\\\" -DPYBIND11_BUILD_ABI=\\\"_cxxabi1013\\\" -I/opt/conda/lib/python3.8/site-packages/deepspeed/ops/csrc/includes -I/opt/conda/lib/python3.8/site-packages/deepspeed/ops/csrc/adam -isystem /opt/conda/lib/python3.8/site-packages/torch/include -isystem /opt/conda/lib/python3.8/site-packages/torch/include/torch/csrc/api/include -isystem /opt/conda/lib/python3.8/site-packages/torch/include/TH -isystem /opt/conda/lib/python3.8/site-packages/torch/include/THC -isystem /usr/local/cuda/include -isystem /opt/conda/include/python3.8 -D_GLIBCXX_USE_CXX11_ABI=1 -fPIC -std=c++14 -O3 -std=c++14 -g -Wno-reorder -DVERSION_GE_1_1 -DVERSION_GE_1_3 -DVERSION_GE_1_5 -c /opt/conda/lib/python3.8/site-packages/deepspeed/ops/csrc/adam/fused_adam_frontend.cpp -o fused_adam_frontend.o \n",
      "[3/3] c++ fused_adam_frontend.o multi_tensor_adam.cuda.o -shared -L/opt/conda/lib/python3.8/site-packages/torch/lib -lc10 -lc10_cuda -ltorch_cpu -ltorch_cuda -ltorch -ltorch_python -L/usr/local/cuda/lib64 -lcudart -o fused_adam.so\n",
      "Loading extension module fused_adam...\n",
      "Time to load fused_adam op: 17.757627487182617 seconds\n",
      "[2023-03-23 20:06:22,039] [INFO] [engine.py:1100:_configure_optimizer] Using DeepSpeed Optimizer param name adam as basic optimizer\n",
      "[2023-03-23 20:06:22,040] [INFO] [engine.py:1108:_configure_optimizer] DeepSpeed Basic Optimizer = FusedAdam\n",
      "[2023-03-23 20:06:22,041] [INFO] [logging.py:69:log_dist] [Rank 0] Creating fp16 optimizer with dynamic loss scale\n",
      "[2023-03-23 20:06:22,043] [INFO] [logging.py:69:log_dist] [Rank 0] DeepSpeed Final Optimizer = adam\n",
      "[2023-03-23 20:06:22,044] [INFO] [engine.py:785:_configure_lr_scheduler] DeepSpeed using configured LR scheduler = WarmupLR\n",
      "[2023-03-23 20:06:22,044] [INFO] [logging.py:69:log_dist] [Rank 0] DeepSpeed LR Scheduler = <deepspeed.runtime.lr_schedules.WarmupLR object at 0x7f62ecfcb940>\n",
      "[2023-03-23 20:06:22,044] [INFO] [logging.py:69:log_dist] [Rank 0] step=0, skipped=0, lr=[0.001], mom=[[0.8, 0.999]]\n",
      "[2023-03-23 20:06:22,045] [INFO] [config.py:1059:print] DeepSpeedEngine configuration:\n",
      "[2023-03-23 20:06:22,046] [INFO] [config.py:1063:print]   activation_checkpointing_config  {\n",
      "    \"partition_activations\": false, \n",
      "    \"contiguous_memory_optimization\": false, \n",
      "    \"cpu_checkpointing\": false, \n",
      "    \"number_checkpoints\": null, \n",
      "    \"synchronize_checkpoint_boundary\": false, \n",
      "    \"profile\": false\n",
      "}\n",
      "[2023-03-23 20:06:22,046] [INFO] [config.py:1063:print]   aio_config ................... {'block_size': 1048576, 'queue_depth': 8, 'thread_count': 1, 'single_submit': False, 'overlap_events': True}\n",
      "[2023-03-23 20:06:22,047] [INFO] [config.py:1063:print]   amp_enabled .................. False\n",
      "[2023-03-23 20:06:22,047] [INFO] [config.py:1063:print]   amp_params ................... False\n",
      "[2023-03-23 20:06:22,048] [INFO] [config.py:1063:print]   autotuning_config ............ {\n",
      "    \"enabled\": false, \n",
      "    \"start_step\": null, \n",
      "    \"end_step\": null, \n",
      "    \"metric_path\": null, \n",
      "    \"arg_mappings\": null, \n",
      "    \"metric\": \"throughput\", \n",
      "    \"model_info\": null, \n",
      "    \"results_dir\": null, \n",
      "    \"exps_dir\": null, \n",
      "    \"overwrite\": true, \n",
      "    \"fast\": true, \n",
      "    \"start_profile_step\": 3, \n",
      "    \"end_profile_step\": 5, \n",
      "    \"tuner_type\": \"gridsearch\", \n",
      "    \"tuner_early_stopping\": 5, \n",
      "    \"tuner_num_trials\": 50, \n",
      "    \"model_info_path\": null, \n",
      "    \"mp_size\": 1, \n",
      "    \"max_train_batch_size\": null, \n",
      "    \"min_train_batch_size\": 1, \n",
      "    \"max_train_micro_batch_size_per_gpu\": 1.024000e+03, \n",
      "    \"min_train_micro_batch_size_per_gpu\": 1, \n",
      "    \"num_tuning_micro_batch_sizes\": 3\n",
      "}\n",
      "[2023-03-23 20:06:22,049] [INFO] [config.py:1063:print]   bfloat16_enabled ............. False\n",
      "[2023-03-23 20:06:22,049] [INFO] [config.py:1063:print]   checkpoint_tag_validation_enabled  True\n",
      "[2023-03-23 20:06:22,049] [INFO] [config.py:1063:print]   checkpoint_tag_validation_fail  False\n",
      "[2023-03-23 20:06:22,049] [INFO] [config.py:1063:print]   communication_data_type ...... None\n",
      "[2023-03-23 20:06:22,050] [INFO] [config.py:1063:print]   curriculum_enabled ........... False\n",
      "[2023-03-23 20:06:22,050] [INFO] [config.py:1063:print]   curriculum_params ............ False\n",
      "[2023-03-23 20:06:22,050] [INFO] [config.py:1063:print]   dataloader_drop_last ......... False\n",
      "[2023-03-23 20:06:22,050] [INFO] [config.py:1063:print]   disable_allgather ............ False\n",
      "[2023-03-23 20:06:22,051] [INFO] [config.py:1063:print]   dump_state ................... False\n",
      "[2023-03-23 20:06:22,051] [INFO] [config.py:1063:print]   dynamic_loss_scale_args ...... {'init_scale': 32768, 'scale_window': 500, 'delayed_shift': 2, 'min_scale': 1}\n",
      "[2023-03-23 20:06:22,051] [INFO] [config.py:1063:print]   eigenvalue_enabled ........... False\n",
      "[2023-03-23 20:06:22,051] [INFO] [config.py:1063:print]   eigenvalue_gas_boundary_resolution  1\n",
      "[2023-03-23 20:06:22,052] [INFO] [config.py:1063:print]   eigenvalue_layer_name ........ bert.encoder.layer\n",
      "[2023-03-23 20:06:22,052] [INFO] [config.py:1063:print]   eigenvalue_layer_num ......... 0\n",
      "[2023-03-23 20:06:22,052] [INFO] [config.py:1063:print]   eigenvalue_max_iter .......... 100\n",
      "[2023-03-23 20:06:22,052] [INFO] [config.py:1063:print]   eigenvalue_stability ......... 1e-06\n",
      "[2023-03-23 20:06:22,053] [INFO] [config.py:1063:print]   eigenvalue_tol ............... 0.01\n",
      "[2023-03-23 20:06:22,053] [INFO] [config.py:1063:print]   eigenvalue_verbose ........... False\n",
      "[2023-03-23 20:06:22,053] [INFO] [config.py:1063:print]   elasticity_enabled ........... False\n",
      "[2023-03-23 20:06:22,053] [INFO] [config.py:1063:print]   flops_profiler_config ........ {\n",
      "    \"enabled\": false, \n",
      "    \"profile_step\": 1, \n",
      "    \"module_depth\": -1, \n",
      "    \"top_modules\": 1, \n",
      "    \"detailed\": true, \n",
      "    \"output_file\": null\n",
      "}\n",
      "[2023-03-23 20:06:22,054] [INFO] [config.py:1063:print]   fp16_enabled ................. True\n",
      "[2023-03-23 20:06:22,054] [INFO] [config.py:1063:print]   fp16_master_weights_and_gradients  False\n",
      "[2023-03-23 20:06:22,054] [INFO] [config.py:1063:print]   fp16_mixed_quantize .......... False\n",
      "[2023-03-23 20:06:22,054] [INFO] [config.py:1063:print]   global_rank .................. 0\n",
      "[2023-03-23 20:06:22,055] [INFO] [config.py:1063:print]   gradient_accumulation_steps .. 1\n",
      "[2023-03-23 20:06:22,055] [INFO] [config.py:1063:print]   gradient_clipping ............ 1.0\n",
      "[2023-03-23 20:06:22,055] [INFO] [config.py:1063:print]   gradient_predivide_factor .... 1.0\n",
      "[2023-03-23 20:06:22,055] [INFO] [config.py:1063:print]   initial_dynamic_scale ........ 32768\n",
      "[2023-03-23 20:06:22,056] [INFO] [config.py:1063:print]   loss_scale ................... 0\n",
      "[2023-03-23 20:06:22,056] [INFO] [config.py:1063:print]   memory_breakdown ............. False\n",
      "[2023-03-23 20:06:22,056] [INFO] [config.py:1063:print]   optimizer_legacy_fusion ...... False\n",
      "[2023-03-23 20:06:22,056] [INFO] [config.py:1063:print]   optimizer_name ............... adam\n",
      "[2023-03-23 20:06:22,056] [INFO] [config.py:1063:print]   optimizer_params ............. {'lr': 0.001, 'betas': [0.8, 0.999], 'eps': 1e-08, 'weight_decay': 3e-07}\n",
      "[2023-03-23 20:06:22,057] [INFO] [config.py:1063:print]   pipeline ..................... {'stages': 'auto', 'partition': 'best', 'seed_layers': False, 'activation_checkpoint_interval': 0}\n",
      "[2023-03-23 20:06:22,057] [INFO] [config.py:1063:print]   pld_enabled .................. False\n",
      "[2023-03-23 20:06:22,057] [INFO] [config.py:1063:print]   pld_params ................... False\n",
      "[2023-03-23 20:06:22,058] [INFO] [config.py:1063:print]   prescale_gradients ........... False\n",
      "[2023-03-23 20:06:22,058] [INFO] [config.py:1063:print]   quantize_change_rate ......... 0.001\n",
      "[2023-03-23 20:06:22,058] [INFO] [config.py:1063:print]   quantize_groups .............. 1\n",
      "[2023-03-23 20:06:22,058] [INFO] [config.py:1063:print]   quantize_offset .............. 1000\n",
      "[2023-03-23 20:06:22,058] [INFO] [config.py:1063:print]   quantize_period .............. 1000\n",
      "[2023-03-23 20:06:22,059] [INFO] [config.py:1063:print]   quantize_rounding ............ 0\n",
      "[2023-03-23 20:06:22,059] [INFO] [config.py:1063:print]   quantize_start_bits .......... 16\n",
      "[2023-03-23 20:06:22,059] [INFO] [config.py:1063:print]   quantize_target_bits ......... 8\n",
      "[2023-03-23 20:06:22,059] [INFO] [config.py:1063:print]   quantize_training_enabled .... False\n",
      "[2023-03-23 20:06:22,060] [INFO] [config.py:1063:print]   quantize_type ................ 0\n",
      "[2023-03-23 20:06:22,060] [INFO] [config.py:1063:print]   quantize_verbose ............. False\n",
      "[2023-03-23 20:06:22,060] [INFO] [config.py:1063:print]   scheduler_name ............... WarmupLR\n",
      "[2023-03-23 20:06:22,060] [INFO] [config.py:1063:print]   scheduler_params ............. {'warmup_min_lr': 0, 'warmup_max_lr': 0.001, 'warmup_num_steps': 1000}\n",
      "[2023-03-23 20:06:22,061] [INFO] [config.py:1063:print]   sparse_attention ............. None\n",
      "[2023-03-23 20:06:22,061] [INFO] [config.py:1063:print]   sparse_gradients_enabled ..... False\n",
      "[2023-03-23 20:06:22,061] [INFO] [config.py:1063:print]   steps_per_print .............. 2000\n",
      "[2023-03-23 20:06:22,061] [INFO] [config.py:1063:print]   tensorboard_enabled .......... False\n",
      "[2023-03-23 20:06:22,062] [INFO] [config.py:1063:print]   tensorboard_job_name ......... DeepSpeedJobName\n",
      "[2023-03-23 20:06:22,062] [INFO] [config.py:1063:print]   tensorboard_output_path ...... \n",
      "[2023-03-23 20:06:22,062] [INFO] [config.py:1063:print]   train_batch_size ............. 16\n",
      "[2023-03-23 20:06:22,062] [INFO] [config.py:1063:print]   train_micro_batch_size_per_gpu  16\n",
      "[2023-03-23 20:06:22,063] [INFO] [config.py:1063:print]   use_quantizer_kernel ......... False\n",
      "[2023-03-23 20:06:22,063] [INFO] [config.py:1063:print]   wall_clock_breakdown ......... False\n",
      "[2023-03-23 20:06:22,063] [INFO] [config.py:1063:print]   world_size ................... 1\n",
      "[2023-03-23 20:06:22,063] [INFO] [config.py:1063:print]   zero_allow_untested_optimizer  False\n",
      "[2023-03-23 20:06:22,064] [INFO] [config.py:1063:print]   zero_config .................. {\n",
      "    \"stage\": 0, \n",
      "    \"contiguous_gradients\": true, \n",
      "    \"reduce_scatter\": true, \n",
      "    \"reduce_bucket_size\": 5.000000e+07, \n",
      "    \"allgather_partitions\": true, \n",
      "    \"allgather_bucket_size\": 5.000000e+07, \n",
      "    \"overlap_comm\": true, \n",
      "    \"load_from_fp32_weights\": true, \n",
      "    \"elastic_checkpoint\": false, \n",
      "    \"offload_param\": null, \n",
      "    \"offload_optimizer\": null, \n",
      "    \"sub_group_size\": 1.000000e+09, \n",
      "    \"prefetch_bucket_size\": 5.000000e+07, \n",
      "    \"param_persistence_threshold\": 1.000000e+05, \n",
      "    \"max_live_parameters\": 1.000000e+09, \n",
      "    \"max_reuse_distance\": 1.000000e+09, \n",
      "    \"gather_16bit_weights_on_model_save\": false, \n",
      "    \"ignore_unused_parameters\": true, \n",
      "    \"round_robin_gradients\": false, \n",
      "    \"legacy_stage1\": false\n",
      "}\n",
      "[2023-03-23 20:06:22,064] [INFO] [config.py:1063:print]   zero_enabled ................. False\n",
      "[2023-03-23 20:06:22,064] [INFO] [config.py:1063:print]   zero_optimization_stage ...... 0\n",
      "[2023-03-23 20:06:22,065] [INFO] [config.py:1065:print]   json = {\n",
      "    \"train_batch_size\": 16, \n",
      "    \"steps_per_print\": 2.000000e+03, \n",
      "    \"optimizer\": {\n",
      "        \"type\": \"Adam\", \n",
      "        \"params\": {\n",
      "            \"lr\": 0.001, \n",
      "            \"betas\": [0.8, 0.999], \n",
      "            \"eps\": 1e-08, \n",
      "            \"weight_decay\": 3e-07\n",
      "        }\n",
      "    }, \n",
      "    \"scheduler\": {\n",
      "        \"type\": \"WarmupLR\", \n",
      "        \"params\": {\n",
      "            \"warmup_min_lr\": 0, \n",
      "            \"warmup_max_lr\": 0.001, \n",
      "            \"warmup_num_steps\": 1000\n",
      "        }\n",
      "    }, \n",
      "    \"gradient_clipping\": 1.0, \n",
      "    \"prescale_gradients\": false, \n",
      "    \"fp16\": {\n",
      "        \"enabled\": true, \n",
      "        \"fp16_master_weights_and_grads\": false, \n",
      "        \"loss_scale\": 0, \n",
      "        \"loss_scale_window\": 500, \n",
      "        \"hysteresis\": 2, \n",
      "        \"min_loss_scale\": 1, \n",
      "        \"initial_scale_power\": 15\n",
      "    }, \n",
      "    \"wall_clock_breakdown\": false, \n",
      "    \"zero_optimization\": {\n",
      "        \"stage\": 0, \n",
      "        \"allgather_partitions\": true, \n",
      "        \"reduce_scatter\": true, \n",
      "        \"allgather_bucket_size\": 5.000000e+07, \n",
      "        \"reduce_bucket_size\": 5.000000e+07, \n",
      "        \"overlap_comm\": true, \n",
      "        \"contiguous_gradients\": true, \n",
      "        \"cpu_offload\": false\n",
      "    }\n",
      "}\n",
      "Using /home/admin/.cache/torch_extensions/py38_cu115 as PyTorch extensions root...\n",
      "Creating extension directory /home/admin/.cache/torch_extensions/py38_cu115/utils...\n",
      "Emitting ninja build file /home/admin/.cache/torch_extensions/py38_cu115/utils/build.ninja...\n",
      "Building extension module utils...\n",
      "Allowing ninja to set a default number of workers... (overridable by setting the environment variable MAX_JOBS=N)\n",
      "[1/2] c++ -MMD -MF flatten_unflatten.o.d -DTORCH_EXTENSION_NAME=utils -DTORCH_API_INCLUDE_EXTENSION_H -DPYBIND11_COMPILER_TYPE=\\\"_gcc\\\" -DPYBIND11_STDLIB=\\\"_libstdcpp\\\" -DPYBIND11_BUILD_ABI=\\\"_cxxabi1013\\\" -isystem /opt/conda/lib/python3.8/site-packages/torch/include -isystem /opt/conda/lib/python3.8/site-packages/torch/include/torch/csrc/api/include -isystem /opt/conda/lib/python3.8/site-packages/torch/include/TH -isystem /opt/conda/lib/python3.8/site-packages/torch/include/THC -isystem /opt/conda/include/python3.8 -D_GLIBCXX_USE_CXX11_ABI=1 -fPIC -std=c++14 -c /opt/conda/lib/python3.8/site-packages/deepspeed/ops/csrc/utils/flatten_unflatten.cpp -o flatten_unflatten.o \n",
      "[2/2] c++ flatten_unflatten.o -shared -L/opt/conda/lib/python3.8/site-packages/torch/lib -lc10 -ltorch_cpu -ltorch -ltorch_python -o utils.so\n",
      "Loading extension module utils...\n",
      "Time to load utils op: 9.693079710006714 seconds\n"
     ]
    }
   ],
   "source": [
    "# define the CNN network\n",
    "cnn_net_ds = CNN_Net()\n",
    "\n",
    "# Define the hyperparameters\n",
    "parameters = filter(lambda p: p.requires_grad, cnn_net_ds.parameters())\n",
    "\n",
    "# Wrap the CNN network with DeepSpeed\n",
    "model_engine, optimizer, _, _ = deepspeed.initialize(args=args, model=cnn_net_ds, model_parameters=parameters, training_data=trainset)\n",
    "\n",
    "# enable mixed precision\n",
    "fp16 = model_engine.fp16_enabled()\n",
    "\n",
    "device = model_engine.local_rank\n",
    "criterion = nn.CrossEntropyLoss()\n",
    "\n",
    "# Tensorboard event recording directory \n",
    "writer_ds = SummaryWriter('megatron/tensorboard/cifar10_DS')                 "
   ]
  },
  {
   "cell_type": "code",
   "execution_count": 22,
   "metadata": {},
   "outputs": [
    {
     "name": "stdout",
     "output_type": "stream",
     "text": [
      "[epoch 0, iterations   100] loss: 2.107 accuracy: 21.109375 %\n",
      "[epoch 0, iterations   200] loss: 1.843 accuracy: 27.000000 %\n",
      "[epoch 0, iterations   300] loss: 1.747 accuracy: 30.197917 %\n",
      "[epoch 0, iterations   400] loss: 1.644 accuracy: 32.679688 %\n",
      "[epoch 0, iterations   500] loss: 1.591 accuracy: 34.590625 %\n",
      "[2023-03-23 20:06:34,415] [INFO] [fused_optimizer.py:392:_update_scale] No Grad overflow for 500 iterations\n",
      "[2023-03-23 20:06:34,416] [INFO] [fused_optimizer.py:394:_update_scale] Increasing dynamic loss scale from 32768 to 65536\n",
      "[2023-03-23 20:06:34,422] [INFO] [fused_optimizer.py:382:_update_scale] \n",
      "Grad overflow on iteration 501\n",
      "[2023-03-23 20:06:34,422] [INFO] [fused_optimizer.py:383:_update_scale] Reducing dynamic loss scale from 65536 to 32768.0\n",
      "[2023-03-23 20:06:34,422] [INFO] [logging.py:69:log_dist] [Rank 0] Overflow detected. Skipping step. Attempted loss scale: 65536, reducing to 32768.0\n",
      "[epoch 0, iterations   600] loss: 1.555 accuracy: 36.109375 %\n",
      "[epoch 0, iterations   700] loss: 1.511 accuracy: 37.325893 %\n",
      "[epoch 0, iterations   782] loss: 1.498 accuracy: 38.208000 %\n",
      "[epoch 1, iterations   100] loss: 1.478 accuracy: 46.593750 %\n",
      "[epoch 1, iterations   200] loss: 1.430 accuracy: 47.351562 %\n",
      "[2023-03-23 20:06:37,111] [INFO] [fused_optimizer.py:392:_update_scale] No Grad overflow for 500 iterations\n",
      "[2023-03-23 20:06:37,112] [INFO] [fused_optimizer.py:394:_update_scale] Increasing dynamic loss scale from 32768.0 to 65536.0\n",
      "[2023-03-23 20:06:37,117] [INFO] [fused_optimizer.py:382:_update_scale] \n",
      "Grad overflow on iteration 1003\n",
      "[2023-03-23 20:06:37,118] [INFO] [fused_optimizer.py:383:_update_scale] Reducing dynamic loss scale from 65536.0 to 32768.0\n",
      "[2023-03-23 20:06:37,118] [INFO] [logging.py:69:log_dist] [Rank 0] Overflow detected. Skipping step. Attempted loss scale: 65536.0, reducing to 32768.0\n",
      "[epoch 1, iterations   300] loss: 1.404 accuracy: 48.010417 %\n",
      "[epoch 1, iterations   400] loss: 1.409 accuracy: 48.476562 %\n",
      "[epoch 1, iterations   500] loss: 1.394 accuracy: 48.687500 %\n",
      "[epoch 1, iterations   600] loss: 1.346 accuracy: 49.169271 %\n",
      "[epoch 1, iterations   700] loss: 1.342 accuracy: 49.502232 %\n",
      "[2023-03-23 20:06:39,469] [INFO] [fused_optimizer.py:392:_update_scale] No Grad overflow for 500 iterations\n",
      "[2023-03-23 20:06:39,469] [INFO] [fused_optimizer.py:394:_update_scale] Increasing dynamic loss scale from 32768.0 to 65536.0\n",
      "[2023-03-23 20:06:39,474] [INFO] [fused_optimizer.py:382:_update_scale] \n",
      "Grad overflow on iteration 1505\n",
      "[2023-03-23 20:06:39,475] [INFO] [fused_optimizer.py:383:_update_scale] Reducing dynamic loss scale from 65536.0 to 32768.0\n",
      "[2023-03-23 20:06:39,475] [INFO] [logging.py:69:log_dist] [Rank 0] Overflow detected. Skipping step. Attempted loss scale: 65536.0, reducing to 32768.0\n",
      "[epoch 1, iterations   782] loss: 1.302 accuracy: 49.904000 %\n",
      "Training Done\n"
     ]
    }
   ],
   "source": [
    "# Train the CNN with DeepSpeed\n",
    "for epoch in range(epochs): \n",
    "    running_loss = 0.0\n",
    "    correct = 0\n",
    "    total = 0\n",
    "    for i, data in enumerate(trainloader):\n",
    "        # get the inputs; data is a list of [inputs, labels]\n",
    "        inputs, labels = data[0].to(device), data[1].to(device)\n",
    "        if fp16:\n",
    "            inputs = inputs.half()        \n",
    "        # zero the parameter gradients\n",
    "        optimizer.zero_grad()\n",
    "        \n",
    "        # Forward pass\n",
    "        outputs = model_engine(inputs)             # Changed net_cnn to model_engine\n",
    "        loss = criterion(outputs, labels)\n",
    "        \n",
    "        # Backward pass\n",
    "        model_engine.backward(loss)                # Changed net_cnn to model_engine\n",
    "        model_engine.step()                        # Changed net_cnn to model_engine\n",
    "        \n",
    "        # print the loss and accuracy metrics very log_interval mini-batches\n",
    "        running_loss += loss.item()\n",
    "        _, predicted = outputs.max(1)\n",
    "        total += labels.size(0)\n",
    "        correct += predicted.eq(labels).sum().item()\n",
    "        if i % log_interval == (log_interval - 1):  \n",
    "            print('[epoch %d, iterations %5d] loss: %.3f accuracy: %2f %%' %  (epoch , i + 1, running_loss / log_interval, 100.*correct/total))\n",
    "            writer_ds.add_scalar(\"Training Cross Entropy Loss\", running_loss / log_interval, i + 1)\n",
    "            writer_ds.add_scalar(\"Training Accuracy\", 100.*correct/total, i + 1)\n",
    "            running_loss = 0.0\n",
    "            \n",
    "    # print the last iterations \n",
    "    print('[epoch %d, iterations %5d] loss: %.3f accuracy: %2f %%' %  (epoch , i + 1, running_loss / ((i % log_interval) + 1), 100.*correct/total))\n",
    "    writer.add_scalar(\"Training Cross Entropy Loss\", running_loss / ((i % log_interval) + 1), i + 1)\n",
    "    writer.add_scalar(\"Training Accuracy\", 100.*correct/total, i + 1)\n",
    "    \n",
    "print('Training Done')\n",
    "writer_ds.add_graph(model_engine, inputs)\n",
    "writer_ds.flush()\n",
    "writer_ds.close()"
   ]
  },
  {
   "cell_type": "markdown",
   "metadata": {},
   "source": [
    "The previous steps are aggregated into the python script [cifar10_deepspeed.py](./code/moe/cifar10_deepspeed.py). "
   ]
  },
  {
   "cell_type": "markdown",
   "metadata": {},
   "source": [
    "## 5.2.2 Scale-out training with Data Parallelism \n",
    "\n",
    "Let's now scale our previous training using distributed training techniques. To run the previous code on 4 GPUs using Data Parallel Distribution, instead of using torch.distributed.launch command, we can use deepspeed implementation.\n",
    "\n",
    "`python -m torch.distributed.launch --nproc_per_node=4 my_code.py <args>`\n",
    "\n",
    "With DeepSpeed, simply replace torch.distributed.launch with deepspeed and add a new argument --deepspeed ds_config.json\n",
    "\n",
    "`deepspeed --num_gpus=4 my_code.py  <args> --deepspeed ds_config.json`\n",
    "\n",
    "Execute the next cell to run the previous cifar10_deepspeed.py training code on 4 GPUs with DeepSpeed:"
   ]
  },
  {
   "cell_type": "code",
   "execution_count": 23,
   "metadata": {},
   "outputs": [
    {
     "data": {
      "text/plain": [
       "{'status': 'ok', 'restart': True}"
      ]
     },
     "execution_count": 23,
     "metadata": {},
     "output_type": "execute_result"
    }
   ],
   "source": [
    "# Kill zombie processes\n",
    "import IPython\n",
    "IPython.Application.instance().kernel.do_shutdown(True)"
   ]
  },
  {
   "cell_type": "code",
   "execution_count": 24,
   "metadata": {
    "scrolled": true
   },
   "outputs": [
    {
     "name": "stdout",
     "output_type": "stream",
     "text": [
      "[2023-03-23 20:06:41,078] [WARNING] [runner.py:159:fetch_hostfile] Unable to find hostfile, will proceed with training with local resources only.\n",
      "[2023-03-23 20:06:41,108] [INFO] [runner.py:457:main] cmd = /opt/conda/bin/python3.8 -u -m deepspeed.launcher.launch --world_info=eyJsb2NhbGhvc3QiOiBbMCwgMSwgMiwgM119 --master_addr=127.0.0.1 --master_port=29500 /dli/code/moe/cifar10_deepspeed.py --deepspeed --deepspeed_config /dli/code/moe/ds_config.json --profile-execution=True --profile-name=zero0\n",
      "[2023-03-23 20:06:42,104] [INFO] [launch.py:96:main] 0 NCCL_VERSION=2.11.4\n",
      "[2023-03-23 20:06:42,104] [INFO] [launch.py:96:main] 0 NCCL_DISABLE_P2P=1\n",
      "[2023-03-23 20:06:42,104] [INFO] [launch.py:103:main] WORLD INFO DICT: {'localhost': [0, 1, 2, 3]}\n",
      "[2023-03-23 20:06:42,104] [INFO] [launch.py:109:main] nnodes=1, num_local_procs=4, node_rank=0\n",
      "[2023-03-23 20:06:42,104] [INFO] [launch.py:122:main] global_rank_mapping=defaultdict(<class 'list'>, {'localhost': [0, 1, 2, 3]})\n",
      "[2023-03-23 20:06:42,104] [INFO] [launch.py:123:main] dist_world_size=4\n",
      "[2023-03-23 20:06:42,104] [INFO] [launch.py:125:main] Setting CUDA_VISIBLE_DEVICES=0,1,2,3\n",
      "Files already downloaded and verified\n",
      "Files already downloaded and verified\n",
      "Files already downloaded and verified\n",
      "Files already downloaded and verified\n",
      "Files already downloaded and verified\n",
      "Files already downloaded and verified\n",
      "Files already downloaded and verifiedFiles already downloaded and verified\n",
      "\n",
      "[2023-03-23 20:06:44,482] [INFO] [logging.py:69:log_dist] [Rank -1] DeepSpeed info: version=0.6.5, git-hash=unknown, git-branch=unknown\n",
      "[2023-03-23 20:06:44,532] [INFO] [logging.py:69:log_dist] [Rank -1] DeepSpeed info: version=0.6.5, git-hash=unknown, git-branch=unknown\n",
      "[2023-03-23 20:06:44,532] [INFO] [distributed.py:48:init_distributed] Initializing torch distributed with backend: nccl\n",
      "Traceback (most recent call last):\n",
      "  File \"/dli/code/moe/cifar10_deepspeed.py\", line 120, in <module>\n",
      "    model_engine, optimizer, trainloader, __ = deepspeed.initialize(\n",
      "  File \"/opt/conda/lib/python3.8/site-packages/deepspeed/__init__.py\", line 120, in initialize\n",
      "    engine = DeepSpeedEngine(args=args,\n",
      "  File \"/opt/conda/lib/python3.8/site-packages/deepspeed/runtime/engine.py\", line 236, in __init__\n",
      "    init_distributed(dist_backend=self.dist_backend)\n",
      "  File \"/opt/conda/lib/python3.8/site-packages/deepspeed/utils/distributed.py\", line 51, in init_distributed\n",
      "    torch.distributed.init_process_group(backend=dist_backend,\n",
      "  File \"/opt/conda/lib/python3.8/site-packages/torch/distributed/distributed_c10d.py\", line 578, in init_process_group\n",
      "    store, rank, world_size = next(rendezvous_iterator)\n",
      "  File \"/opt/conda/lib/python3.8/site-packages/torch/distributed/rendezvous.py\", line 229, in _env_rendezvous_handler\n",
      "    store = _create_c10d_store(master_addr, master_port, rank, world_size, timeout)\n",
      "  File \"/opt/conda/lib/python3.8/site-packages/torch/distributed/rendezvous.py\", line 157, in _create_c10d_store\n",
      "    return TCPStore(\n",
      "RuntimeError: Address already in use\n",
      "[2023-03-23 20:06:44,575] [INFO] [logging.py:69:log_dist] [Rank -1] DeepSpeed info: version=0.6.5, git-hash=unknown, git-branch=unknown\n",
      "[2023-03-23 20:06:44,576] [INFO] [logging.py:69:log_dist] [Rank -1] DeepSpeed info: version=0.6.5, git-hash=unknown, git-branch=unknown\n",
      "[2023-03-23 20:06:45,123] [INFO] [launch.py:178:sigkill_handler] Killing subprocess 7285\n",
      "[2023-03-23 20:06:45,124] [INFO] [launch.py:178:sigkill_handler] Killing subprocess 7286\n",
      "[2023-03-23 20:06:45,124] [INFO] [launch.py:178:sigkill_handler] Killing subprocess 7287\n",
      "[2023-03-23 20:06:45,125] [INFO] [launch.py:178:sigkill_handler] Killing subprocess 7288\n",
      "[2023-03-23 20:06:45,125] [ERROR] [launch.py:184:sigkill_handler] ['/opt/conda/bin/python3.8', '-u', '/dli/code/moe/cifar10_deepspeed.py', '--local_rank=3', '--deepspeed', '--deepspeed_config', '/dli/code/moe/ds_config.json', '--profile-execution=True', '--profile-name=zero0'] exits with return code = 1\n"
     ]
    }
   ],
   "source": [
    "# run the training on 4 GPUs with Data parallel\n",
    "! deepspeed --num_gpus=4 /dli/code/moe/cifar10_deepspeed.py \\\n",
    "    --deepspeed \\\n",
    "    --deepspeed_config /dli/code/moe/ds_config.json \\\n",
    "    --profile-execution=True \\\n",
    "    --profile-name='zero0'"
   ]
  },
  {
   "cell_type": "markdown",
   "metadata": {},
   "source": [
    "To execute the same run on a SLURM based cluster, simply write the SBATCH script allocating the desired resources and invoke the same DeepSpeed command. \n",
    "\n",
    "Run the next cell to create the SBATCH script allocating 2 nodes to run the previous training with DeepSpeed."
   ]
  },
  {
   "cell_type": "code",
   "execution_count": 25,
   "metadata": {},
   "outputs": [
    {
     "name": "stdout",
     "output_type": "stream",
     "text": [
      "Writing /dli/code/run_cifar10_deepspeed_2Nodes.sh\n"
     ]
    }
   ],
   "source": [
    "%%writefile /dli/code/run_cifar10_deepspeed_2Nodes.sh\n",
    "#!/bin/bash\n",
    "#SBATCH --job-name=dli_ds\n",
    "#SBATCH --nodes=2\n",
    "#SBATCH --ntasks-per-node=1       \n",
    "#SBATCH --cpus-per-task=32 ### Number of threads per task (OMP threads)\n",
    "#SBATCH -o /dli/megatron/logs/%j.out\n",
    "#SBATCH -e /dli/megatron/logs/%j.err\n",
    "\n",
    "# Number of nodes\n",
    "NUM_NODES=2\n",
    "# Number of GPUs per node\n",
    "NUM_GPUS=2\n",
    "\n",
    "\n",
    "deepspeed --num_nodes=${NUM_NODES} --hostfile /dli/code/moe/hostfile --num_gpus=${NUM_GPUS} /dli/code/moe/cifar10_deepspeed.py \\\n",
    "    --deepspeed \\\n",
    "    --deepspeed_config /dli/code/moe/ds_config.json \\\n",
    "    --profile-execution=True \\\n",
    "    --profile-name='zero0_sbatch'"
   ]
  },
  {
   "cell_type": "markdown",
   "metadata": {},
   "source": [
    "Now, let's submit the previous sbatch script [run_cifar10_deepspeed_2Nodes.sh](./code/run_cifar10_deepspeed_2Nodes.sh) and check the SLURM queue using the `squeue` command."
   ]
  },
  {
   "cell_type": "code",
   "execution_count": 26,
   "metadata": {},
   "outputs": [
    {
     "name": "stdout",
     "output_type": "stream",
     "text": [
      "Submitted batch job 16\n",
      "             JOBID PARTITION     NAME     USER ST       TIME  NODES NODELIST(REASON)\n",
      "                16  slurmpar   dli_ds    admin  R       0:00      2 slurmnode[1-2]\n"
     ]
    }
   ],
   "source": [
    "# Submit the 2 nodes jobs\n",
    "! sbatch /dli/code/run_cifar10_deepspeed_2Nodes.sh\n",
    "\n",
    "# Check the SLURM queue\n",
    "!squeue"
   ]
  },
  {
   "cell_type": "code",
   "execution_count": 27,
   "metadata": {},
   "outputs": [
    {
     "name": "stdout",
     "output_type": "stream",
     "text": [
      "Thu Mar 23 20:06:57 2023       \n",
      "+-----------------------------------------------------------------------------+\n",
      "| NVIDIA-SMI 460.32.03    Driver Version: 460.32.03    CUDA Version: 11.5     |\n",
      "|-------------------------------+----------------------+----------------------+\n",
      "| GPU  Name        Persistence-M| Bus-Id        Disp.A | Volatile Uncorr. ECC |\n",
      "| Fan  Temp  Perf  Pwr:Usage/Cap|         Memory-Usage | GPU-Util  Compute M. |\n",
      "|                               |                      |               MIG M. |\n",
      "|===============================+======================+======================|\n",
      "|   0  Graphics Device     On   | 00000001:00:00.0 Off |                    0 |\n",
      "| N/A   45C    P0    76W / 300W |   3663MiB / 81251MiB |      0%      Default |\n",
      "|                               |                      |             Disabled |\n",
      "+-------------------------------+----------------------+----------------------+\n",
      "|   1  Graphics Device     On   | 00000002:00:00.0 Off |                    0 |\n",
      "| N/A   43C    P0    76W / 300W |   3663MiB / 81251MiB |      1%      Default |\n",
      "|                               |                      |             Disabled |\n",
      "+-------------------------------+----------------------+----------------------+\n",
      "|   2  Graphics Device     On   | 00000003:00:00.0 Off |                    0 |\n",
      "| N/A   42C    P0    77W / 300W |   1858MiB / 81251MiB |      0%      Default |\n",
      "|                               |                      |             Disabled |\n",
      "+-------------------------------+----------------------+----------------------+\n",
      "|   3  Graphics Device     On   | 00000004:00:00.0 Off |                    0 |\n",
      "| N/A   42C    P0    73W / 300W |   1688MiB / 81251MiB |      1%      Default |\n",
      "|                               |                      |             Disabled |\n",
      "+-------------------------------+----------------------+----------------------+\n",
      "                                                                               \n",
      "+-----------------------------------------------------------------------------+\n",
      "| Processes:                                                                  |\n",
      "|  GPU   GI   CI        PID   Type   Process name                  GPU Memory |\n",
      "|        ID   ID                                                   Usage      |\n",
      "|=============================================================================|\n",
      "+-----------------------------------------------------------------------------+\n"
     ]
    }
   ],
   "source": [
    "# Check GPU utilization on the master node\n",
    "! sleep 10\n",
    "!nvidia-smi"
   ]
  },
  {
   "cell_type": "markdown",
   "metadata": {},
   "source": [
    "## 5.2.3 Zero Redundancy Optimizer \n",
    "\n",
    "[ZeRO](https://www.deepspeed.ai/tutorials/zero/) reduces the memory consumption of each GPU by distributing the model's training states (weights, gradients, and optimizer states) across the available devices. ZeRO is implemented as 3 accumulative stages:\n",
    "\n",
    "- **ZeRO-1:** The optimizer states are partitioned across the processes, so that each process updates only its partition. For instance, the Adam optimizer will store 32-bit weights, and the first, and second moment estimates.\n",
    "- **ZeRO-2:** In addition to Zero 1, the reduced 32-bit gradients for updating the model weights are also partitioned such that each process retains only the gradients corresponding to its portion of the optimizer states.\n",
    "- **ZeRO-3:** In addition to Zero 2, the 16-bit model parameters are partitioned across the processes. ZeRO-3 will automatically collect and partition them during the forward and backward passes. ZeRO-3 also includes the [ZeRO-Infinity](https://arxiv.org/pdf/2104.07857.pdf) engine that offloads to both CPU and NVMe memory for memory savings.\n",
    "\n",
    "```\n",
    "{\n",
    " \"zero_optimization\": {\n",
    "    \"stage\": [0|1|2|3],\n",
    "    \"allgather_partitions\": [true|false],\n",
    "    \"allgather_bucket_size\": 5e8,\n",
    "    \"overlap_comm\": false,\n",
    "    \"reduce_scatter\": [true|false],\n",
    "    \"reduce_bucket_size\": 5e8,\n",
    "    \"contiguous_gradients\" : [true|false],\n",
    "    \"offload_param\": {\n",
    "      ...\n",
    "    },\n",
    "    \"offload_optimizer\": {\n",
    "      ...\n",
    "    },\n",
    "    \"stage3_max_live_parameters\" : 1e9,\n",
    "    \"stage3_max_reuse_distance\" : 1e9,\n",
    "    \"stage3_prefetch_bucket_size\" : 5e8,\n",
    "    \"stage3_param_persistence_threshold\" : 1e6,\n",
    "    \"sub_group_size\" : 1e12,\n",
    "    \"elastic_checkpoint\" : [true|false],\n",
    "    \"stage3_gather_16bit_weights_on_model_save\": [true|false],\n",
    "    \"ignore_unused_parameters\": [true|false]\n",
    "    \"round_robin_gradients\": [true|false]\n",
    "    }\n",
    "    }\n",
    "\n",
    "```\n"
   ]
  },
  {
   "cell_type": "markdown",
   "metadata": {},
   "source": [
    "<video controls src=\"https://www.microsoft.com/en-us/research/uploads/prod/2020/02/Turing-Animation.mp4?_=1\" width=\"560\" />"
   ]
  },
  {
   "cell_type": "markdown",
   "metadata": {},
   "source": [
    "In order to illustrate the advantages of ZeRO optimizer in memory saving, let's scale our CNN model to a larger neural network. We  replaced the tiny CNN network with the Resnet152 model with 11 million parameters in the [large_model_deepspeed.py](./code/moe/large_model_deepspeed.py).\n",
    "\n",
    "\n",
    "The following figure shows the CPU usage via [htop](https://htop.dev/) command and the GPU 0 memory profiled using Pytorch Profiler (available on the Tensorboard) for the *resnet152* training step. We can see a comparison between no ZeRO and ZeRO stage 3 + Offload. The memory peak required per GPU without ZeRO optimizer is about 1.5GB, while offloading the parameters to the CPU with ZeRO-3 uses only 845MB. On the other hand, the time per step increased significantly from 500ms to 7000ms!\n",
    "\n",
    "ZeRO infinity allows sacling to larger models when the number of GPUs are limited, but this comes with an additional training time corresponding to data movement.\n",
    "<img src=\"images/zero_memory.png\" width=\"1250\" />\n",
    "\n",
    "\n",
    "Let's run the Zero stage 3 optimizer and enable CPU offload of the parameters. We have prepared the configuration file. Notice that we have increased the training batch size per GPU to 512. "
   ]
  },
  {
   "cell_type": "code",
   "execution_count": 28,
   "metadata": {},
   "outputs": [
    {
     "name": "stdout",
     "output_type": "stream",
     "text": [
      "{\n",
      "  \"train_batch_size\": 512,\n",
      "  \"steps_per_print\": 2000,\n",
      "  \"optimizer\": {\n",
      "    \"type\": \"Adam\",\n",
      "    \"params\": {\n",
      "      \"lr\": 0.001,\n",
      "      \"betas\": [\n",
      "        0.8,\n",
      "        0.999\n",
      "      ],\n",
      "      \"eps\": 1e-8,\n",
      "      \"weight_decay\": 3e-7\n",
      "    }\n",
      "  },\n",
      "  \"scheduler\": {\n",
      "    \"type\": \"WarmupLR\",\n",
      "    \"params\": {\n",
      "      \"warmup_min_lr\": 0,\n",
      "      \"warmup_max_lr\": 0.001,\n",
      "      \"warmup_num_steps\": 1000\n",
      "    }\n",
      "  },\n",
      "  \"gradient_clipping\": 1.0,\n",
      "  \"prescale_gradients\": false,\n",
      "  \"fp16\": {\n",
      "      \"enabled\": true,\n",
      "      \"fp16_master_weights_and_grads\": false,\n",
      "      \"loss_scale\": 0,\n",
      "      \"loss_scale_window\": 500,\n",
      "      \"hysteresis\": 2,\n",
      "      \"min_loss_scale\": 1,\n",
      "      \"initial_scale_power\": 15\n",
      "  },\n",
      "  \"wall_clock_breakdown\": false,\n",
      "    \"zero_optimization\": {\n",
      "        \"stage\": 3,\n",
      "        \"cpu_offload\": true,\n",
      "        \"cpu_offload_params\": true,\n",
      "        \"cpu_offload_use_pin_memory\" : true,\n",
      "        \"overlap_comm\": true,\n",
      "        \"contiguous_gradients\": true,\n",
      "        \"stage3_max_live_parameters\": 1e9,\n",
      "        \"stage3_max_reuse_distance\": 1e9,\n",
      "        \"stage3_prefetch_bucket_size\": 0.94e6,\n",
      "        \"stage3_param_persistence_threshold\": 1e4,\n",
      "        \"reduce_bucket_size\": 1e6,\n",
      "        \"prefetch_bucket_size\": 3e6,\n",
      "        \"sub_group_size\": 1e14,\n",
      "        \"stage3_gather_fp16_weights_on_model_save\": true\n",
      "    }\n",
      "}"
     ]
    }
   ],
   "source": [
    "# Show DeepSpeed config file for Zero stage 3 Offload\n",
    "! cat /dli/code/moe/ds_config_stage_3.json "
   ]
  },
  {
   "cell_type": "markdown",
   "metadata": {},
   "source": [
    "Execute the next cell to run the *resnet152* model training on the CIFAR-10 dataset. Notice that in those experiments, we are no more evaluating the model as we are not interested in the accuracy but the memory consumption."
   ]
  },
  {
   "cell_type": "code",
   "execution_count": 29,
   "metadata": {
    "scrolled": true
   },
   "outputs": [
    {
     "name": "stdout",
     "output_type": "stream",
     "text": [
      "[2023-03-23 20:07:00,012] [WARNING] [runner.py:159:fetch_hostfile] Unable to find hostfile, will proceed with training with local resources only.\n",
      "[2023-03-23 20:07:00,465] [INFO] [runner.py:457:main] cmd = /opt/conda/bin/python3.8 -u -m deepspeed.launcher.launch --world_info=eyJsb2NhbGhvc3QiOiBbMCwgMSwgMiwgM119 --master_addr=127.0.0.1 --master_port=29500 /dli/code/moe/large_model_deepspeed.py --deepspeed --deepspeed_config /dli/code/moe/ds_config_stage_3.json --profile-execution=True --profile-name=zero_resnet512_stage3\n",
      "[2023-03-23 20:07:01,495] [INFO] [launch.py:96:main] 0 NCCL_VERSION=2.11.4\n",
      "[2023-03-23 20:07:01,496] [INFO] [launch.py:96:main] 0 NCCL_DISABLE_P2P=1\n",
      "[2023-03-23 20:07:01,496] [INFO] [launch.py:103:main] WORLD INFO DICT: {'localhost': [0, 1, 2, 3]}\n",
      "[2023-03-23 20:07:01,496] [INFO] [launch.py:109:main] nnodes=1, num_local_procs=4, node_rank=0\n",
      "[2023-03-23 20:07:01,496] [INFO] [launch.py:122:main] global_rank_mapping=defaultdict(<class 'list'>, {'localhost': [0, 1, 2, 3]})\n",
      "[2023-03-23 20:07:01,496] [INFO] [launch.py:123:main] dist_world_size=4\n",
      "[2023-03-23 20:07:01,496] [INFO] [launch.py:125:main] Setting CUDA_VISIBLE_DEVICES=0,1,2,3\n",
      "Files already downloaded and verified\n",
      "Files already downloaded and verified\n",
      "Files already downloaded and verified\n",
      "Files already downloaded and verified\n",
      "Files already downloaded and verified\n",
      "Files already downloaded and verifiedFiles already downloaded and verified\n",
      "\n",
      "Files already downloaded and verified\n",
      "Downloading: \"https://github.com/pytorch/vision/archive/v0.10.0.zip\" to /home/admin/.cache/torch/hub/v0.10.0.zip\n",
      "Downloading: \"https://github.com/pytorch/vision/archive/v0.10.0.zip\" to /home/admin/.cache/torch/hub/v0.10.0.zip\n",
      "Downloading: \"https://github.com/pytorch/vision/archive/v0.10.0.zip\" to /home/admin/.cache/torch/hub/v0.10.0.zip\n",
      "Downloading: \"https://github.com/pytorch/vision/archive/v0.10.0.zip\" to /home/admin/.cache/torch/hub/v0.10.0.zip\n",
      "Traceback (most recent call last):\n",
      "  File \"/dli/code/moe/large_model_deepspeed.py\", line 94, in <module>\n",
      "    net = torch.hub.load('pytorch/vision:v0.10.0', 'resnet152', pretrained=True)\n",
      "  File \"/opt/conda/lib/python3.8/site-packages/torch/hub.py\", line 397, in load\n",
      "    repo_or_dir = _get_cache_or_reload(repo_or_dir, force_reload, verbose, skip_validation)\n",
      "  File \"/opt/conda/lib/python3.8/site-packages/torch/hub.py\", line 197, in _get_cache_or_reload\n",
      "    _remove_if_exists(extracted_repo)\n",
      "  File \"/opt/conda/lib/python3.8/site-packages/torch/hub.py\", line 85, in _remove_if_exists\n",
      "    shutil.rmtree(path)\n",
      "  File \"/opt/conda/lib/python3.8/shutil.py\", line 722, in rmtree\n",
      "    onerror(os.rmdir, path, sys.exc_info())\n",
      "  File \"/opt/conda/lib/python3.8/shutil.py\", line 720, in rmtree\n",
      "    os.rmdir(path)\n",
      "OSError: [Errno 39] Directory not empty: '/home/admin/.cache/torch/hub/vision-0.10.0/'\n",
      "Traceback (most recent call last):\n",
      "  File \"/dli/code/moe/large_model_deepspeed.py\", line 94, in <module>\n",
      "    net = torch.hub.load('pytorch/vision:v0.10.0', 'resnet152', pretrained=True)\n",
      "  File \"/opt/conda/lib/python3.8/site-packages/torch/hub.py\", line 397, in load\n",
      "    repo_or_dir = _get_cache_or_reload(repo_or_dir, force_reload, verbose, skip_validation)\n",
      "  File \"/opt/conda/lib/python3.8/site-packages/torch/hub.py\", line 197, in _get_cache_or_reload\n",
      "    _remove_if_exists(extracted_repo)\n",
      "  File \"/opt/conda/lib/python3.8/site-packages/torch/hub.py\", line 85, in _remove_if_exists\n",
      "    shutil.rmtree(path)\n",
      "  File \"/opt/conda/lib/python3.8/shutil.py\", line 718, in rmtree\n",
      "    _rmtree_safe_fd(fd, path, onerror)\n",
      "  File \"/opt/conda/lib/python3.8/shutil.py\", line 655, in _rmtree_safe_fd\n",
      "    _rmtree_safe_fd(dirfd, fullname, onerror)\n",
      "  File \"/opt/conda/lib/python3.8/shutil.py\", line 675, in _rmtree_safe_fd\n",
      "    onerror(os.unlink, fullname, sys.exc_info())\n",
      "  File \"/opt/conda/lib/python3.8/shutil.py\", line 673, in _rmtree_safe_fd\n",
      "    os.unlink(entry.name, dir_fd=topfd)\n",
      "FileNotFoundError: [Errno 2] No such file or directory: 'CMakeLists.txt'\n",
      "Traceback (most recent call last):\n",
      "  File \"/dli/code/moe/large_model_deepspeed.py\", line 94, in <module>\n",
      "    net = torch.hub.load('pytorch/vision:v0.10.0', 'resnet152', pretrained=True)\n",
      "  File \"/opt/conda/lib/python3.8/site-packages/torch/hub.py\", line 397, in load\n",
      "    repo_or_dir = _get_cache_or_reload(repo_or_dir, force_reload, verbose, skip_validation)\n",
      "  File \"/opt/conda/lib/python3.8/site-packages/torch/hub.py\", line 197, in _get_cache_or_reload\n",
      "    _remove_if_exists(extracted_repo)\n",
      "  File \"/opt/conda/lib/python3.8/site-packages/torch/hub.py\", line 85, in _remove_if_exists\n",
      "    shutil.rmtree(path)\n",
      "  File \"/opt/conda/lib/python3.8/shutil.py\", line 722, in rmtree\n",
      "    onerror(os.rmdir, path, sys.exc_info())\n",
      "  File \"/opt/conda/lib/python3.8/shutil.py\", line 720, in rmtree\n",
      "    os.rmdir(path)\n",
      "OSError: [Errno 39] Directory not empty: '/home/admin/.cache/torch/hub/vision-0.10.0/'\n",
      "Traceback (most recent call last):\n",
      "  File \"/dli/code/moe/large_model_deepspeed.py\", line 94, in <module>\n",
      "    net = torch.hub.load('pytorch/vision:v0.10.0', 'resnet152', pretrained=True)\n",
      "  File \"/opt/conda/lib/python3.8/site-packages/torch/hub.py\", line 399, in load\n",
      "    model = _load_local(repo_or_dir, model, *args, **kwargs)\n",
      "  File \"/opt/conda/lib/python3.8/site-packages/torch/hub.py\", line 425, in _load_local\n",
      "    hub_module = import_module(MODULE_HUBCONF, hubconf_path)\n",
      "  File \"/opt/conda/lib/python3.8/site-packages/torch/hub.py\", line 76, in import_module\n",
      "    spec.loader.exec_module(module)\n",
      "  File \"<frozen importlib._bootstrap_external>\", line 839, in exec_module\n",
      "  File \"<frozen importlib._bootstrap_external>\", line 975, in get_code\n",
      "  File \"<frozen importlib._bootstrap_external>\", line 1032, in get_data\n",
      "FileNotFoundError: [Errno 2] No such file or directory: '/home/admin/.cache/torch/hub/pytorch_vision_v0.10.0/hubconf.py'\n",
      "[2023-03-23 20:07:06,519] [INFO] [launch.py:178:sigkill_handler] Killing subprocess 8343\n",
      "[2023-03-23 20:07:06,520] [INFO] [launch.py:178:sigkill_handler] Killing subprocess 8344\n",
      "[2023-03-23 20:07:06,520] [INFO] [launch.py:178:sigkill_handler] Killing subprocess 8345\n",
      "[2023-03-23 20:07:06,520] [INFO] [launch.py:178:sigkill_handler] Killing subprocess 8346\n",
      "[2023-03-23 20:07:06,520] [ERROR] [launch.py:184:sigkill_handler] ['/opt/conda/bin/python3.8', '-u', '/dli/code/moe/large_model_deepspeed.py', '--local_rank=3', '--deepspeed', '--deepspeed_config', '/dli/code/moe/ds_config_stage_3.json', '--profile-execution=True', '--profile-name=zero_resnet512_stage3'] exits with return code = 1\n"
     ]
    }
   ],
   "source": [
    "! deepspeed --num_gpus=4 /dli/code/moe/large_model_deepspeed.py \\\n",
    "    --deepspeed \\\n",
    "    --deepspeed_config /dli/code/moe/ds_config_stage_3.json \\\n",
    "    --profile-execution=True \\\n",
    "    --profile-name='zero_resnet512_stage3'"
   ]
  },
  {
   "cell_type": "markdown",
   "metadata": {},
   "source": [
    "\n",
    "Execute the next cell to create a link to Tensorboard in your browser."
   ]
  },
  {
   "cell_type": "code",
   "execution_count": null,
   "metadata": {},
   "outputs": [],
   "source": [
    "%%js\n",
    "const href = window.location.hostname +'/tensorboard/';\n",
    "let a = document.createElement('a');\n",
    "let link = document.createTextNode('Open Tensorboard!');\n",
    "a.appendChild(link);\n",
    "a.href = \"http://\" + href;\n",
    "a.style.color = \"navy\"\n",
    "a.target = \"_blank\"\n",
    "element.append(a);"
   ]
  },
  {
   "cell_type": "markdown",
   "metadata": {},
   "source": [
    "### Exercise: ZeRO Stage 1\n",
    "\n",
    "Compare ZeRO Stage 1 execution time and GPU/CPU memory to no ZeRO and ZeRO Stage 3 + Offload. We have already prepared the DeepSpeed configuration file. Let's have a look:"
   ]
  },
  {
   "cell_type": "code",
   "execution_count": null,
   "metadata": {},
   "outputs": [],
   "source": [
    "# Show DeepSpeed config file for Zero stage 1 \n",
    "! cat /dli/code/moe/ds_config_stage_1.json "
   ]
  },
  {
   "cell_type": "markdown",
   "metadata": {},
   "source": [
    "Execute the next cell to run the *resnet152* model training on the CIFAR-10 dataset with ZeRO Stage1. Replace the `FIXME` with the corresponding arguments. If you get stuck, you can look at the [solution](solutions/ex5.2.4.ipynb)."
   ]
  },
  {
   "cell_type": "code",
   "execution_count": null,
   "metadata": {},
   "outputs": [],
   "source": [
    "! deepspeed --num_gpus=4 /dli/code/moe/large_model_deepspeed.py \\\n",
    "    --deepspeed \\\n",
    "    --deepspeed_config #FIXEME \\\n",
    "    --profile-execution=True \\\n",
    "    --profile-name=#FIXEME "
   ]
  },
  {
   "cell_type": "markdown",
   "metadata": {},
   "source": [
    "Compared to the run without ZeRO, Stage 1 allows to reduce the GPU memory usage from about 1.5GB to 1GB as it partitions the optimizer states across 4 GPUs meaning that each GPU is responsible for keeping in memory a part of the optimizer states and communicate them when necessary to others. In this case, no significant extra time is observed to run the step with ZeRO Stage 1."
   ]
  },
  {
   "cell_type": "markdown",
   "metadata": {},
   "source": [
    "## Optional: 5.2.4  Autotuning\n",
    "\n",
    "When designing training experiments, it is hard to know what are the best configurations (such as micro-batch size) that fully utilize the hardware and achieve a high throughput number. Usually, configuration exploration is performed manually. This tuning process can be painful, time-consuming and the configurations are hardware-dependent. The DeepSpeed Autotuner automatically discovers the optimal DeepSpeed configuration parameters that optimizes for training speed.\n",
    "To launch the autotuning, add `--autotuning run` command to the training script and enable it on the configuration file as follows: \n",
    "\n",
    "```\n",
    "{\n",
    "  \"train_micro_batch_size_per_gpu\": \"auto\",\n",
    "\n",
    "  \"autotuning\": {\n",
    "    \"enabled\": true,\n",
    "    \"arg_mappings\": {\n",
    "      \"train_micro_batch_size_per_gpu\": \"--batch_size\"    }\n",
    "  }\n",
    "}\n",
    "```\n",
    "The arg_mappings dictionary autotuning section of the DeepSpeed configuration file provides the naming mappings between the parameters in DeepSpeed configuration and the training script arguments. It is also possible restrict the search space to a list of values by replacing \"auto\" with a vector of possible values to be evaluated. \n",
    "\n",
    "To learn more about the Autotuning feature, check the [DeepSpeed documentation](https://www.deepspeed.ai/tutorials/autotuning/)"
   ]
  },
  {
   "cell_type": "markdown",
   "metadata": {},
   "source": [
    "---\n",
    "<h2 style=\"color:green;\">Congratulations!</h2>\n",
    "\n",
    "Before moving on, we need to make sure no jobs are still running or waiting in the queue. "
   ]
  },
  {
   "cell_type": "code",
   "execution_count": null,
   "metadata": {},
   "outputs": [],
   "source": [
    "# Check the SLURM jobs queue \n",
    "!squeue"
   ]
  },
  {
   "cell_type": "markdown",
   "metadata": {},
   "source": [
    "If there are still jobs running or pending, execute the following cell to cancel all the admin user's jobs using the `scancel` command."
   ]
  },
  {
   "cell_type": "code",
   "execution_count": null,
   "metadata": {},
   "outputs": [],
   "source": [
    "# Cancel admin user jobs\n",
    "! scancel -u $USER\n",
    "\n",
    "# Check again the SLURM jobs queue (should be either empty, or the status TS column should be CG)\n",
    "! squeue"
   ]
  },
  {
   "cell_type": "markdown",
   "metadata": {},
   "source": [
    "Next, we will see Mixture of Expert (MOE)configurations. Move on to [06_MOE_alternative_models.ipynb](06_MOE_alternative_models.ipynb)."
   ]
  }
 ],
 "metadata": {
  "kernelspec": {
   "display_name": "Python 3 (ipykernel)",
   "language": "python",
   "name": "python3"
  },
  "language_info": {
   "codemirror_mode": {
    "name": "ipython",
    "version": 3
   },
   "file_extension": ".py",
   "mimetype": "text/x-python",
   "name": "python",
   "nbconvert_exporter": "python",
   "pygments_lexer": "ipython3",
   "version": "3.8.12"
  }
 },
 "nbformat": 4,
 "nbformat_minor": 4
}
